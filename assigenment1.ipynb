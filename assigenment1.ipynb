{
 "cells": [
  {
   "cell_type": "markdown",
   "id": "27aecfd3-6cca-4800-ae80-e80d2e259c1b",
   "metadata": {},
   "source": [
    "### 1. Explain the key features of Python that make it a popular choice for programming.\n",
    "\n",
    "Ans: There are several key features of Python that make it a popular choice for programming:-\n",
    "\n",
    "\n",
    "a.Readability and Simplicity : Its clear and expressive syntax, making it easier to write and understand code.\n",
    "\n",
    "b.Versatility and Flexibility: It is multipurpose suitable for various application(fronted, backend,ML,Data Science).\n",
    "\n",
    "c.Large Standard Library:It comes with a comprehensive standard libarary. So that we can reuse those in our code.\n",
    "\n",
    "d.Huge active community:It has a large and active community of developers who contribute to its growth.\n",
    "\n",
    "e.Open Source and Free: It is open source, meaning its source code is freely available for modification and redistribution."
   ]
  },
  {
   "cell_type": "markdown",
   "id": "a7cb4310-2788-4652-ba23-2e1b3915ecb5",
   "metadata": {},
   "source": [
    "### 2.Describle the role of predefined keywords in Python and provide examples of how they are used in a program.\n",
    "\n",
    "Ans:Predefined keywords in Python refer to as reserved words or set of words that have special meanings an purposes in Pyton programming larnguage.\n"
   ]
  },
  {
   "cell_type": "raw",
   "id": "60a12986-d289-4c8b-8921-521fd061f0ef",
   "metadata": {},
   "source": [
    "Roles are:\n",
    "a.These keywords are reserved by Python and cannot be used as identifiers \n",
    "(names for variables, functions, classes, etc.). \n",
    "b.Keywords help define the structure and flow of a Python program. They \n",
    "are used to write statements, control the flow of execution, handle exceptions,\n",
    "and define the scope and structure of code.\n"
   ]
  },
  {
   "cell_type": "raw",
   "id": "c10c2026-c357-484c-b176-c719727463ec",
   "metadata": {},
   "source": [
    "Example 1: Control Flow with if, elif, and else"
   ]
  },
  {
   "cell_type": "code",
   "execution_count": 2,
   "id": "3c7bfa05-7a7d-40ea-a876-ae1247165563",
   "metadata": {},
   "outputs": [
    {
     "name": "stdout",
     "output_type": "stream",
     "text": [
      "x is positive\n"
     ]
    }
   ],
   "source": [
    "x = 10\n",
    "if x > 0:\n",
    "    print(\"x is positive\")\n",
    "elif x == 0:\n",
    "    print(\"x is zero\")\n",
    "else:\n",
    "    print(\"x is negative\")\n"
   ]
  },
  {
   "cell_type": "markdown",
   "id": "ef2646e5-e305-4cbd-a4ec-51a6006ff06c",
   "metadata": {},
   "source": [
    "Example 2: Looping with `for` and `while`\n"
   ]
  },
  {
   "cell_type": "code",
   "execution_count": 1,
   "id": "7ba5befe-458b-4f21-82e3-1b9c9152efba",
   "metadata": {},
   "outputs": [
    {
     "name": "stdout",
     "output_type": "stream",
     "text": [
      "0\n",
      "1\n",
      "2\n",
      "3\n",
      "4\n",
      "0\n",
      "1\n",
      "2\n",
      "3\n",
      "4\n"
     ]
    }
   ],
   "source": [
    "# Using 'for' loop\n",
    "for i in range(5):\n",
    "    print(i)\n",
    "\n",
    "# Using 'while' loop\n",
    "count = 0\n",
    "while count < 5:\n",
    "    print(count)\n",
    "    count += 1\n"
   ]
  },
  {
   "cell_type": "markdown",
   "id": "be68e5af-f90a-4643-89af-130ca8fa47e1",
   "metadata": {},
   "source": [
    "\n",
    "Example 3: Defining Functions with `def` and Returning Values with `return`"
   ]
  },
  {
   "cell_type": "code",
   "execution_count": 4,
   "id": "79ee3f77-0da8-4efa-9db5-e344884fa4fd",
   "metadata": {},
   "outputs": [
    {
     "name": "stdout",
     "output_type": "stream",
     "text": [
      "Hello, xyz!\n"
     ]
    }
   ],
   "source": [
    "def greet(name):\n",
    "    return f\"Hello, {name}!\"\n",
    "\n",
    "message = greet(\"xyz\")\n",
    "print(message)\n"
   ]
  },
  {
   "cell_type": "markdown",
   "id": "caf88d70-4043-42eb-a9d6-eb081e531d3f",
   "metadata": {},
   "source": [
    "\n",
    "### 3.Compare and contrast mutable and immutable objects in python with examples"
   ]
  },
  {
   "cell_type": "markdown",
   "id": "fc4d9326-bc02-4101-9d98-27e0758c34d3",
   "metadata": {},
   "source": [
    "Ans:In Python, objects can be categorized as either mutable or immutable based on whether\n",
    "their state (or data) can be modefied after they are created."
   ]
  },
  {
   "cell_type": "markdown",
   "id": "6ba3fbdb-e5a6-4cc0-a850-ef66a4b5a9d2",
   "metadata": {},
   "source": [
    "Mutable Objects:Mutable objects are those whose state or content can be changed after they are created."
   ]
  },
  {
   "cell_type": "markdown",
   "id": "44e24c15-3c5c-43e6-abf0-e66b9e43c4ad",
   "metadata": {},
   "source": [
    "Examples:Lists, dictionaries, sets etc."
   ]
  },
  {
   "cell_type": "markdown",
   "id": "22c32674-d9d0-45aa-85d3-52df8f524919",
   "metadata": {},
   "source": [
    "Characteristics:\n",
    "\n",
    "a.Modifiable: we can change the content of the object without creating a new object.\n",
    "\n",
    "b.Memory Usage: Modifying the object does not create a new object, which can be more memory-efficient for large datasets.\n",
    "\n",
    "c.Performance: Operations that modify mutable objects can be faster since they do not involve creating a new object.\n",
    "\n",
    "d.Functions: When passed to a function, changes to mutable objects within the function affect the original object outside the function."
   ]
  },
  {
   "cell_type": "code",
   "execution_count": 5,
   "id": "22f38153-8bb0-4431-9ea7-df02118eb69a",
   "metadata": {},
   "outputs": [
    {
     "name": "stdout",
     "output_type": "stream",
     "text": [
      "Original list: [1, 2, 3]\n"
     ]
    }
   ],
   "source": [
    "# List (Mutable)\n",
    "my_list = [1, 2, 3]\n",
    "print(\"Original list:\", my_list)"
   ]
  },
  {
   "cell_type": "code",
   "execution_count": 6,
   "id": "b37c0a48-ac3e-4385-8b09-520c014fb04c",
   "metadata": {},
   "outputs": [
    {
     "name": "stdout",
     "output_type": "stream",
     "text": [
      "Modified list: [10, 2, 3]\n"
     ]
    }
   ],
   "source": [
    "# Modifying the list\n",
    "my_list[0] = 10\n",
    "print(\"Modified list:\", my_list)"
   ]
  },
  {
   "cell_type": "code",
   "execution_count": 7,
   "id": "8593540e-3d60-4c07-92bf-8a3342c25bf4",
   "metadata": {},
   "outputs": [
    {
     "name": "stdout",
     "output_type": "stream",
     "text": [
      "Original dictionary: {'name': 'Alice', 'age': 25}\n"
     ]
    }
   ],
   "source": [
    "# Dictionary (Mutable)\n",
    "my_dict = {\"name\": \"Alice\", \"age\": 25}\n",
    "print(\"Original dictionary:\", my_dict)\n"
   ]
  },
  {
   "cell_type": "code",
   "execution_count": 8,
   "id": "c53c53db-0af3-42b8-8709-a2c5be4c7863",
   "metadata": {},
   "outputs": [
    {
     "name": "stdout",
     "output_type": "stream",
     "text": [
      "Modified dictionary: {'name': 'Alice', 'age': 26}\n"
     ]
    }
   ],
   "source": [
    "# Modifying the dictionary\n",
    "my_dict[\"age\"] = 26\n",
    "print(\"Modified dictionary:\", my_dict)"
   ]
  },
  {
   "cell_type": "markdown",
   "id": "11a86664-4876-4235-bc89-71dff5d30028",
   "metadata": {},
   "source": [
    "Immutable Objects:\n"
   ]
  },
  {
   "cell_type": "markdown",
   "id": "5e8db30b-ff22-46af-b40e-8651ac3d3d87",
   "metadata": {},
   "source": [
    "Immutable objects are those whose state or content cannot be changed once they are created."
   ]
  },
  {
   "cell_type": "markdown",
   "id": "3107294a-e80a-4d2b-b2e0-3609c8087b16",
   "metadata": {},
   "source": [
    "Examples: Strings, tuples, integers, floats, frozensets, etc."
   ]
  },
  {
   "cell_type": "markdown",
   "id": "13bbda78-6af2-41ec-8ecc-96bbb507178e",
   "metadata": {},
   "source": [
    "Characteristics:"
   ]
  },
  {
   "cell_type": "markdown",
   "id": "da1c8da0-3f31-4390-b26d-77d1b2f0512e",
   "metadata": {},
   "source": [
    "a.Non-modifiable: Any operation that appears to modify an immutable object will actually create a new object.\n",
    "\n",
    "b.Memory Usage: Immutable objects can lead to higher memory usage if many similar objects are created.\n",
    "\n",
    "c.Performance: Operations that appear to modify immutable objects involve creating new objects, which can be slower.\n",
    "\n",
    "d.Functions: When passed to a function, changes to immutable objects within the function do not affect the original object outside the function.\n"
   ]
  },
  {
   "cell_type": "code",
   "execution_count": 10,
   "id": "47c518e3-eedd-4ec4-9b76-ea7e080ae097",
   "metadata": {},
   "outputs": [
    {
     "name": "stdout",
     "output_type": "stream",
     "text": [
      "Original string: hello\n"
     ]
    }
   ],
   "source": [
    "# String (Immutable)\n",
    "my_string = \"hello\"\n",
    "print(\"Original string:\", my_string)\n"
   ]
  },
  {
   "cell_type": "code",
   "execution_count": 11,
   "id": "a83376f1-319f-464b-9e8b-f557f01b4200",
   "metadata": {},
   "outputs": [
    {
     "name": "stdout",
     "output_type": "stream",
     "text": [
      "New string: yello\n",
      "Original string remains unchanged: hello\n"
     ]
    }
   ],
   "source": [
    "# Attempting to modify the string (creates a new string)\n",
    "new_string = my_string.replace('h', 'y')\n",
    "print(\"New string:\", new_string)\n",
    "print(\"Original string remains unchanged:\", my_string)\n"
   ]
  },
  {
   "cell_type": "code",
   "execution_count": 12,
   "id": "ae824e0a-431f-45e5-b601-c7aab3e40eb7",
   "metadata": {},
   "outputs": [
    {
     "name": "stdout",
     "output_type": "stream",
     "text": [
      "Original tuple: (1, 2, 3)\n"
     ]
    }
   ],
   "source": [
    "# Tuple (Immutable)\n",
    "my_tuple = (1, 2, 3)\n",
    "print(\"Original tuple:\", my_tuple)"
   ]
  },
  {
   "cell_type": "code",
   "execution_count": 13,
   "id": "5b7bada2-b642-4455-9431-27feb6c72a94",
   "metadata": {},
   "outputs": [
    {
     "name": "stdout",
     "output_type": "stream",
     "text": [
      "New tuple: (1, 2, 3, 4)\n",
      "Original tuple remains unchanged: (1, 2, 3)\n"
     ]
    }
   ],
   "source": [
    "# Attempting to modify the tuple (creates a new tuple)\n",
    "new_tuple = my_tuple + (4,)\n",
    "print(\"New tuple:\", new_tuple)\n",
    "print(\"Original tuple remains unchanged:\", my_tuple)"
   ]
  },
  {
   "cell_type": "markdown",
   "id": "9ebaa1f7-eb4b-450c-a030-d42254a763b4",
   "metadata": {},
   "source": [
    "### 4.Discuss the different types of operators in Python and provide examples of how they are used"
   ]
  },
  {
   "cell_type": "markdown",
   "id": "1ef33c21-b4f0-44dc-af20-b1ddc8cc2a80",
   "metadata": {},
   "source": [
    "Operators in Python are special symbols or keywords used to perform operations on variables and values."
   ]
  },
  {
   "cell_type": "markdown",
   "id": "68ab2059-263c-498a-a168-3bde275a1dec",
   "metadata": {},
   "source": [
    "Different types of operators in Python are"
   ]
  },
  {
   "cell_type": "markdown",
   "id": "a2a912c1-7a3a-42ca-907c-a247cecb3bc3",
   "metadata": {},
   "source": [
    "1. Arithmetic Operators"
   ]
  },
  {
   "cell_type": "code",
   "execution_count": 14,
   "id": "5980d3a3-7601-4107-93cc-2ce77f61c291",
   "metadata": {},
   "outputs": [
    {
     "name": "stdout",
     "output_type": "stream",
     "text": [
      "15\n"
     ]
    }
   ],
   "source": [
    "# Addition (+)\n",
    "a = 10\n",
    "b = 5\n",
    "print(a + b)  # Output: 15\n"
   ]
  },
  {
   "cell_type": "code",
   "execution_count": 15,
   "id": "9b6a9ba9-486d-4094-9509-aaaf70ce3ad3",
   "metadata": {},
   "outputs": [
    {
     "name": "stdout",
     "output_type": "stream",
     "text": [
      "5\n"
     ]
    }
   ],
   "source": [
    "#Subtraction (-)\n",
    "print(a - b)  # Output: 5\n"
   ]
  },
  {
   "cell_type": "code",
   "execution_count": 16,
   "id": "eb9481e1-cad6-4500-9424-1e5e618c5af4",
   "metadata": {},
   "outputs": [
    {
     "name": "stdout",
     "output_type": "stream",
     "text": [
      "50\n"
     ]
    }
   ],
   "source": [
    "#Multiplication (*)\n",
    "print(a * b)  # Output: 50\n"
   ]
  },
  {
   "cell_type": "code",
   "execution_count": 17,
   "id": "59e3acae-311e-4376-a9bb-30caf3e3d80b",
   "metadata": {},
   "outputs": [
    {
     "name": "stdout",
     "output_type": "stream",
     "text": [
      "2.0\n"
     ]
    }
   ],
   "source": [
    "#Division (/)\n",
    "print(a / b)  # Output: 2.0\n"
   ]
  },
  {
   "cell_type": "code",
   "execution_count": 18,
   "id": "1ddf3f6a-37c2-410e-96ad-3ebb93e0ec33",
   "metadata": {},
   "outputs": [
    {
     "name": "stdout",
     "output_type": "stream",
     "text": [
      "2\n"
     ]
    }
   ],
   "source": [
    "#Floor Division (//)\n",
    "print(a // b)  # Output: 2\n"
   ]
  },
  {
   "cell_type": "code",
   "execution_count": 19,
   "id": "8a213281-de9f-4d06-b67d-6eb71f4396ff",
   "metadata": {},
   "outputs": [
    {
     "name": "stdout",
     "output_type": "stream",
     "text": [
      "0\n"
     ]
    }
   ],
   "source": [
    "#Modulus (%)\n",
    "print(a % b)  # Output: 0\n"
   ]
  },
  {
   "cell_type": "code",
   "execution_count": 20,
   "id": "d605fb73-5a6a-4d28-846a-461cb883baf7",
   "metadata": {},
   "outputs": [
    {
     "name": "stdout",
     "output_type": "stream",
     "text": [
      "100000\n"
     ]
    }
   ],
   "source": [
    "#Exponentiation (**)\n",
    "print(a ** b)  # Output: 100000"
   ]
  },
  {
   "cell_type": "markdown",
   "id": "cdc0a024-0efa-49ca-be28-5c16198a2983",
   "metadata": {},
   "source": [
    "2. Comparison (Relational) Operators"
   ]
  },
  {
   "cell_type": "code",
   "execution_count": 21,
   "id": "ef04efc9-ff53-4d4a-884f-f1169a42c44f",
   "metadata": {},
   "outputs": [
    {
     "name": "stdout",
     "output_type": "stream",
     "text": [
      "False\n"
     ]
    }
   ],
   "source": [
    "#Equal to (==)\n",
    "print(a == b)  # Output: False\n"
   ]
  },
  {
   "cell_type": "code",
   "execution_count": 22,
   "id": "a106b443-b21d-488f-8354-e14f09d5c91f",
   "metadata": {},
   "outputs": [
    {
     "name": "stdout",
     "output_type": "stream",
     "text": [
      "True\n"
     ]
    }
   ],
   "source": [
    "#Not equal to (!=)\n",
    "print(a != b)  # Output: True\n"
   ]
  },
  {
   "cell_type": "code",
   "execution_count": 23,
   "id": "50db7275-51f6-4ede-bddb-021ccd5455ed",
   "metadata": {},
   "outputs": [
    {
     "name": "stdout",
     "output_type": "stream",
     "text": [
      "True\n"
     ]
    }
   ],
   "source": [
    "# Greater than (>)\n",
    "print(a > b)  # Output: True\n"
   ]
  },
  {
   "cell_type": "code",
   "execution_count": 24,
   "id": "93fe6e01-422c-491f-82c7-890fbe66c456",
   "metadata": {},
   "outputs": [
    {
     "name": "stdout",
     "output_type": "stream",
     "text": [
      "False\n"
     ]
    }
   ],
   "source": [
    "#Less than (<)\n",
    "print(a < b)  # Output: False\n"
   ]
  },
  {
   "cell_type": "code",
   "execution_count": 25,
   "id": "e05a1467-1195-4451-9bfc-64422e49f545",
   "metadata": {},
   "outputs": [
    {
     "name": "stdout",
     "output_type": "stream",
     "text": [
      "True\n"
     ]
    }
   ],
   "source": [
    "#Greater than or equal to (>=)\n",
    "print(a >= b)  # Output: True\n"
   ]
  },
  {
   "cell_type": "code",
   "execution_count": 26,
   "id": "2a016fea-f633-40a0-a50a-49a2d133cfaa",
   "metadata": {},
   "outputs": [
    {
     "name": "stdout",
     "output_type": "stream",
     "text": [
      "False\n"
     ]
    }
   ],
   "source": [
    "#Less than or equal to (<=)\n",
    "print(a <= b)  # Output: False\n"
   ]
  },
  {
   "cell_type": "markdown",
   "id": "5546214e-b828-4b33-b867-5e7dd0083f52",
   "metadata": {},
   "source": [
    "3. Assignment Operators"
   ]
  },
  {
   "cell_type": "code",
   "execution_count": 27,
   "id": "bde9f2ff-bb79-48a4-a204-d6544f4d946b",
   "metadata": {},
   "outputs": [
    {
     "name": "stdout",
     "output_type": "stream",
     "text": [
      "15\n"
     ]
    }
   ],
   "source": [
    "#Assignment (=)\n",
    "c = a + b\n",
    "print(c)  # Output: 15\n"
   ]
  },
  {
   "cell_type": "code",
   "execution_count": 28,
   "id": "280feeea-6178-4d9d-b594-8aa9d832e14d",
   "metadata": {},
   "outputs": [
    {
     "name": "stdout",
     "output_type": "stream",
     "text": [
      "25\n"
     ]
    }
   ],
   "source": [
    "#Add and assign (+=)\n",
    "c += a\n",
    "print(c)  # Output: 25\n"
   ]
  },
  {
   "cell_type": "code",
   "execution_count": 29,
   "id": "9ef93bac-8f6c-4799-9e3b-5cb90ff056ec",
   "metadata": {},
   "outputs": [
    {
     "name": "stdout",
     "output_type": "stream",
     "text": [
      "20\n"
     ]
    }
   ],
   "source": [
    "#Subtract and assign (-=)\n",
    "c -= b\n",
    "print(c)  # Output: 20\n"
   ]
  },
  {
   "cell_type": "code",
   "execution_count": 30,
   "id": "80521c9f-0a04-43d4-af5c-ce65fb12c00c",
   "metadata": {},
   "outputs": [
    {
     "name": "stdout",
     "output_type": "stream",
     "text": [
      "200\n"
     ]
    }
   ],
   "source": [
    "#Multiply and assign (*=)\n",
    "c *= a\n",
    "print(c)  # Output: 200\n"
   ]
  },
  {
   "cell_type": "code",
   "execution_count": 31,
   "id": "6571b4e5-99d9-4cc3-a0e0-c53bbe990d44",
   "metadata": {},
   "outputs": [
    {
     "name": "stdout",
     "output_type": "stream",
     "text": [
      "20.0\n"
     ]
    }
   ],
   "source": [
    "#Divide and assign (/=)\n",
    "c /= a\n",
    "print(c)  # Output: 20.0\n"
   ]
  },
  {
   "cell_type": "markdown",
   "id": "f4c480ac-fa5b-474f-ab81-07b6fc68a8e5",
   "metadata": {},
   "source": [
    "4. Logical Operators"
   ]
  },
  {
   "cell_type": "code",
   "execution_count": 32,
   "id": "f7138f89-5669-46c5-98cc-184a7cf00f74",
   "metadata": {},
   "outputs": [
    {
     "name": "stdout",
     "output_type": "stream",
     "text": [
      "True\n"
     ]
    }
   ],
   "source": [
    "#AND (and)\n",
    "print(a > 5 and b < 10)  # Output: True\n"
   ]
  },
  {
   "cell_type": "code",
   "execution_count": 33,
   "id": "3fea7275-ce36-48fa-ab76-e069cbca86ac",
   "metadata": {},
   "outputs": [
    {
     "name": "stdout",
     "output_type": "stream",
     "text": [
      "True\n"
     ]
    }
   ],
   "source": [
    "#OR (or)\n",
    "print(a > 15 or b < 10)  # Output: True\n"
   ]
  },
  {
   "cell_type": "code",
   "execution_count": 34,
   "id": "16ffb9b3-d162-49d3-a79f-2f91167c4876",
   "metadata": {},
   "outputs": [
    {
     "name": "stdout",
     "output_type": "stream",
     "text": [
      "False\n"
     ]
    }
   ],
   "source": [
    "# NOT (not)\n",
    "print(not(a > 5))  # Output: False\n"
   ]
  },
  {
   "cell_type": "markdown",
   "id": "c550869d-ca3d-49ab-966d-e67eb414285a",
   "metadata": {},
   "source": [
    "5. Bitwise Operators"
   ]
  },
  {
   "cell_type": "code",
   "execution_count": 35,
   "id": "5b58b752-9632-4cbe-aa12-824b5f6089ac",
   "metadata": {},
   "outputs": [
    {
     "name": "stdout",
     "output_type": "stream",
     "text": [
      "0\n"
     ]
    }
   ],
   "source": [
    "# AND (&)\n",
    "print(a & b)  # Output: 0 (binary: 1010 & 0101 = 0000)\n"
   ]
  },
  {
   "cell_type": "code",
   "execution_count": 36,
   "id": "11c66fa7-cf3a-46b6-a89d-987677279346",
   "metadata": {},
   "outputs": [
    {
     "name": "stdout",
     "output_type": "stream",
     "text": [
      "15\n"
     ]
    }
   ],
   "source": [
    "# OR (|)\n",
    "print(a | b)  # Output: 15 (binary: 1010 | 0101 = 1111)\n"
   ]
  },
  {
   "cell_type": "code",
   "execution_count": 37,
   "id": "7cbb3a40-ea74-446a-9f3f-56131bd6fc65",
   "metadata": {},
   "outputs": [
    {
     "name": "stdout",
     "output_type": "stream",
     "text": [
      "15\n"
     ]
    }
   ],
   "source": [
    "# XOR (^)\n",
    "print(a ^ b)  # Output: 15 (binary: 1010 ^ 0101 = 1111)\n"
   ]
  },
  {
   "cell_type": "code",
   "execution_count": 38,
   "id": "ced56bee-ae32-496e-b075-b7bec4f6bb5d",
   "metadata": {},
   "outputs": [
    {
     "name": "stdout",
     "output_type": "stream",
     "text": [
      "-11\n"
     ]
    }
   ],
   "source": [
    "# NOT (~)\n",
    "print(~a)  # Output: -11 (binary: ~1010 = ...11110101)\n"
   ]
  },
  {
   "cell_type": "code",
   "execution_count": 39,
   "id": "93fd80af-b4ea-4e1c-a26b-34d0a664432c",
   "metadata": {},
   "outputs": [
    {
     "name": "stdout",
     "output_type": "stream",
     "text": [
      "40\n"
     ]
    }
   ],
   "source": [
    "#Left Shift (<<)\n",
    "print(a << 2)  # Output: 40 (binary: 1010 << 2 = 101000)\n"
   ]
  },
  {
   "cell_type": "code",
   "execution_count": 40,
   "id": "92d2ecfc-7b7f-40e3-8b54-48d8dd5949df",
   "metadata": {},
   "outputs": [
    {
     "name": "stdout",
     "output_type": "stream",
     "text": [
      "2\n"
     ]
    }
   ],
   "source": [
    "#Right Shift (>>)\n",
    "print(a >> 2)  # Output: 2 (binary: 1010 >> 2 = 10)\n"
   ]
  },
  {
   "cell_type": "markdown",
   "id": "d6580653-c77b-4068-b2fa-01bc750499e0",
   "metadata": {},
   "source": [
    "6. Membership Operators\n"
   ]
  },
  {
   "cell_type": "code",
   "execution_count": 41,
   "id": "c20b2488-1473-4c6e-be7f-1d72df7e4494",
   "metadata": {},
   "outputs": [
    {
     "name": "stdout",
     "output_type": "stream",
     "text": [
      "True\n"
     ]
    }
   ],
   "source": [
    "# In (in)\n",
    "my_list = [1, 2, 3, 4, 5]\n",
    "print(3 in my_list)  # Output: True\n"
   ]
  },
  {
   "cell_type": "code",
   "execution_count": 42,
   "id": "bb23d478-9849-467c-8279-4864d3d739d9",
   "metadata": {},
   "outputs": [
    {
     "name": "stdout",
     "output_type": "stream",
     "text": [
      "True\n"
     ]
    }
   ],
   "source": [
    "# Not in (not in)\n",
    "print(6 not in my_list)  # Output: True\n"
   ]
  },
  {
   "cell_type": "markdown",
   "id": "e0e8c9db-478d-42f6-b6d1-28aba5ec2407",
   "metadata": {},
   "source": [
    "7. Identity Operators"
   ]
  },
  {
   "cell_type": "code",
   "execution_count": 43,
   "id": "65df1b2f-09dc-45e6-97fb-8146157cb5a3",
   "metadata": {},
   "outputs": [
    {
     "name": "stdout",
     "output_type": "stream",
     "text": [
      "True\n"
     ]
    }
   ],
   "source": [
    "# Is (is)\n",
    "x = [1, 2, 3]\n",
    "y = x\n",
    "print(x is y)  # Output: True\n"
   ]
  },
  {
   "cell_type": "code",
   "execution_count": 44,
   "id": "fb17256e-3f56-41bb-83f2-a82058cf9b16",
   "metadata": {},
   "outputs": [
    {
     "name": "stdout",
     "output_type": "stream",
     "text": [
      "True\n"
     ]
    }
   ],
   "source": [
    "# Is not (is not)\n",
    "z = [1, 2, 3]\n",
    "print(x is not z)  # Output: True\n"
   ]
  },
  {
   "cell_type": "code",
   "execution_count": 45,
   "id": "a650bd0c-b513-48af-8b97-206786890591",
   "metadata": {},
   "outputs": [
    {
     "name": "stdout",
     "output_type": "stream",
     "text": [
      "10\n"
     ]
    }
   ],
   "source": [
    "# Ternary Operator\n",
    "a, b = 10, 20\n",
    "min_val = a if a < b else b\n",
    "print(min_val)  # Output: 10\n"
   ]
  },
  {
   "cell_type": "markdown",
   "id": "a6e4d996-15dc-4c61-8db4-ab9344470e37",
   "metadata": {},
   "source": [
    "### 5. Explain the concept of type casting in Python with examples"
   ]
  },
  {
   "cell_type": "markdown",
   "id": "b207b0db-1730-4efc-af27-ed0daf40e29d",
   "metadata": {},
   "source": [
    "Type casting in Python refers to the process of converting one data type into another."
   ]
  },
  {
   "cell_type": "markdown",
   "id": "c408bc6a-2283-41f2-82c7-8254cf4c6d50",
   "metadata": {},
   "source": [
    "There are two types of type casting in Python:\n",
    "\n",
    "##### Implicit Type Casting\n",
    "##### Explicit Type Casting"
   ]
  },
  {
   "cell_type": "markdown",
   "id": "d7d08ba2-3888-4414-b7c2-78d198f2c149",
   "metadata": {},
   "source": [
    "Implicit Type Casting: Implicit type casting is performed automatically by Python.\n"
   ]
  },
  {
   "cell_type": "markdown",
   "id": "023cc7be-36ae-497f-a412-d7610c4da47e",
   "metadata": {},
   "source": [
    "Example:"
   ]
  },
  {
   "cell_type": "code",
   "execution_count": 46,
   "id": "adac7444-573b-4b71-b459-480f2f32a3e7",
   "metadata": {},
   "outputs": [
    {
     "name": "stdout",
     "output_type": "stream",
     "text": [
      "13.5\n",
      "<class 'float'>\n"
     ]
    }
   ],
   "source": [
    "# Implicit type casting\n",
    "num_int = 10    # Integer\n",
    "num_float = 3.5 # Float\n",
    "\n",
    "# Adding an integer and a float\n",
    "result = num_int + num_float\n",
    "\n",
    "print(result)       # Output: 13.5\n",
    "print(type(result)) # Output: <class 'float'>\n"
   ]
  },
  {
   "cell_type": "markdown",
   "id": "bcc4b390-ce28-4097-ac56-d5149cd8a5bb",
   "metadata": {},
   "source": [
    "##### 2. Explicit Type Casting\n"
   ]
  },
  {
   "cell_type": "markdown",
   "id": "a068e930-6bd1-4e53-9408-ade9ce117178",
   "metadata": {},
   "source": [
    "int(): Converts to integer\n",
     "/n",
    "float(): Converts to float\n",
     "/n",
    "str(): Converts to string\n",
      "/n",
    "list(): Converts to list\n",
      "/n",
    "tuple(): Converts to tuple\n",
     "/n",
    "set(): Converts to set\n",
     "/n",
    "dict(): Converts to dictionary (from a list of key-value pairs)\n",
     "/n",
    "complex(): Converts to complex number"
   ]
  },
  {
   "cell_type": "code",
   "execution_count": 47,
   "id": "48c90a9a-0a35-4974-aaeb-86e97d9915e5",
   "metadata": {},
   "outputs": [
    {
     "name": "stdout",
     "output_type": "stream",
     "text": [
      "123\n",
      "<class 'int'>\n",
      "45\n",
      "<class 'int'>\n"
     ]
    }
   ],
   "source": [
    "# Explicit type casting to integer\n",
    "num_str = \"123\"\n",
    "num_float = 45.67\n",
    "\n",
    "# Converting string to integer\n",
    "num_int = int(num_str)\n",
    "print(num_int)        \n",
    "print(type(num_int))\n",
    "\n",
    "# Converting float to integer\n",
    "num_int = int(num_float)\n",
    "print(num_int)\n",
    "print(type(num_int))\n"
   ]
  },
  {
   "cell_type": "code",
   "execution_count": 48,
   "id": "e7dc2d9d-ec64-42d1-aa7d-4665c46015e5",
   "metadata": {},
   "outputs": [
    {
     "name": "stdout",
     "output_type": "stream",
     "text": [
      "123.45\n",
      "<class 'float'>\n",
      "100.0\n",
      "<class 'float'>\n"
     ]
    }
   ],
   "source": [
    "# Explicit type casting to float\n",
    "num_str = \"123.45\"\n",
    "num_int = 100\n",
    "\n",
    "# Converting string to float\n",
    "num_float = float(num_str)\n",
    "print(num_float)\n",
    "print(type(num_float))\n",
    "\n",
    "# Converting integer to float\n",
    "num_float = float(num_int)\n",
    "print(num_float)\n",
    "print(type(num_float))\n"
   ]
  },
  {
   "cell_type": "code",
   "execution_count": 49,
   "id": "1d28c0e9-7f71-4f38-b5fe-788d8a7c29be",
   "metadata": {},
   "outputs": [
    {
     "name": "stdout",
     "output_type": "stream",
     "text": [
      "123\n",
      "<class 'str'>\n",
      "45.67\n",
      "<class 'str'>\n"
     ]
    }
   ],
   "source": [
    "# Explicit type casting to string\n",
    "num_int = 123\n",
    "num_float = 45.67\n",
    "\n",
    "# Converting integer to string\n",
    "num_str = str(num_int)\n",
    "print(num_str)\n",
    "print(type(num_str))\n",
    "\n",
    "# Converting float to string\n",
    "num_str = str(num_float)\n",
    "print(num_str)\n",
    "print(type(num_str))\n"
   ]
  },
  {
   "cell_type": "code",
   "execution_count": 50,
   "id": "5cc613aa-6935-44b8-854b-e90ef4ff71b6",
   "metadata": {},
   "outputs": [
    {
     "name": "stdout",
     "output_type": "stream",
     "text": [
      "[1, 2, 3]\n",
      "<class 'list'>\n",
      "(4, 5, 6)\n",
      "<class 'tuple'>\n",
      "{1, 2, 3, 4}\n",
      "<class 'set'>\n",
      "{'name': 'Alice', 'age': 25}\n",
      "<class 'dict'>\n"
     ]
    }
   ],
   "source": [
    "# Explicit type casting to list\n",
    "tuple_data = (1, 2, 3)\n",
    "list_data = list(tuple_data)\n",
    "print(list_data)       \n",
    "print(type(list_data))\n",
    "\n",
    "# Explicit type casting to tuple\n",
    "list_data = [4, 5, 6]\n",
    "tuple_data = tuple(list_data)\n",
    "print(tuple_data)      \n",
    "print(type(tuple_data))\n",
    "\n",
    "# Explicit type casting to set\n",
    "list_data = [1, 2, 2, 3, 4, 4]\n",
    "set_data = set(list_data)\n",
    "print(set_data)\n",
    "print(type(set_data))\n",
    "\n",
    "# Explicit type casting to dictionary\n",
    "list_data = [(\"name\", \"Alice\"), (\"age\", 25)]\n",
    "dict_data = dict(list_data)\n",
    "print(dict_data)\n",
    "print(type(dict_data))\n"
   ]
  },
  {
   "cell_type": "code",
   "execution_count": 51,
   "id": "4af83371-9690-4f86-a8c1-8087ffd1d2f5",
   "metadata": {},
   "outputs": [
    {
     "name": "stdout",
     "output_type": "stream",
     "text": [
      "(10+0j)\n",
      "<class 'complex'>\n",
      "(5.5+0j)\n",
      "<class 'complex'>\n"
     ]
    }
   ],
   "source": [
    "# Explicit type casting to complex\n",
    "num_int = 10\n",
    "num_float = 5.5\n",
    "\n",
    "# Converting integer to complex\n",
    "complex_num = complex(num_int)\n",
    "print(complex_num)\n",
    "print(type(complex_num))\n",
    "\n",
    "# Converting float to complex\n",
    "complex_num = complex(num_float)\n",
    "print(complex_num)\n",
    "print(type(complex_num))\n"
   ]
  },
  {
   "cell_type": "markdown",
   "id": "523de4bd-ba43-4134-83b4-4a21fa5c551d",
   "metadata": {},
   "source": [
    "### 6.  How do conditional statements work in Python? Illustrate with exmples"
   ]
  },
  {
   "cell_type": "raw",
   "id": "687c4bc6-ea6c-4d58-a3f4-45847a01f00a",
   "metadata": {},
   "source": [
    "Conditional statements in Python allow us to execute certain blocks of code based on specific conditions. "
   ]
  },
  {
   "cell_type": "markdown",
   "id": "9b205139-6c0b-40a8-af30-6c72377f9aa2",
   "metadata": {},
   "source": [
    "The primary conditional statements in Python are `if`, `elif`, and `else`. Here’s how they work along with some examples:"
   ]
  },
  {
   "cell_type": "markdown",
   "id": "c76c7866-ff29-4cc5-90af-1f160696bdfb",
   "metadata": {},
   "source": [
    "##### 1. if Statement\n",
    "The if statement evaluates a condition. If the condition is true, the block of code inside the if statement is executed."
   ]
  },
  {
   "cell_type": "markdown",
   "id": "be57ded0-9d5b-44a6-80e3-358ee346318b",
   "metadata": {},
   "source": [
    "Example:"
   ]
  },
  {
   "cell_type": "code",
   "execution_count": 52,
   "id": "f19259e1-00a2-479e-ae81-ca60dc98a98d",
   "metadata": {},
   "outputs": [
    {
     "name": "stdout",
     "output_type": "stream",
     "text": [
      "x is greater than 5\n"
     ]
    }
   ],
   "source": [
    "x = 10\n",
    "if x > 5:\n",
    "    print(\"x is greater than 5\")\n"
   ]
  },
  {
   "cell_type": "markdown",
   "id": "27bca711-29f8-40ca-9fc8-fb7863aec22c",
   "metadata": {},
   "source": [
    "##### 2. else Statement\n",
    "The else statement follows an if statement and runs when the if condition is false."
   ]
  },
  {
   "cell_type": "code",
   "execution_count": 53,
   "id": "59a7277e-cc36-448d-b7dc-7ce0f8baa447",
   "metadata": {},
   "outputs": [
    {
     "name": "stdout",
     "output_type": "stream",
     "text": [
      "x is not greater than 5\n"
     ]
    }
   ],
   "source": [
    "x = 3\n",
    "if x > 5:\n",
    "    print(\"x is greater than 5\")\n",
    "else:\n",
    "    print(\"x is not greater than 5\")\n"
   ]
  },
  {
   "cell_type": "markdown",
   "id": "0f8fdc90-a49b-4254-a4d0-06f06076b782",
   "metadata": {},
   "source": [
    "##### 3. elif Statement\n",
    "The elif (short for \"else if\") statement allows us to check multiple expressions for true and execute a block of code as soon as one of the conditions is true. It is used to check multiple conditions."
   ]
  },
  {
   "cell_type": "code",
   "execution_count": 54,
   "id": "936c60cd-8d83-4061-965d-16fea8ff29e7",
   "metadata": {},
   "outputs": [
    {
     "name": "stdout",
     "output_type": "stream",
     "text": [
      "x is greater than 5 but less than or equal to 15\n"
     ]
    }
   ],
   "source": [
    "x = 10\n",
    "if x > 15:\n",
    "    print(\"x is greater than 15\")\n",
    "elif x > 5:\n",
    "    print(\"x is greater than 5 but less than or equal to 15\")\n",
    "else:\n",
    "    print(\"x is 5 or less\")\n"
   ]
  },
  {
   "cell_type": "markdown",
   "id": "ac311f30-1dc1-4b8f-922a-6ec96120fece",
   "metadata": {},
   "source": [
    "#### 4. Nested if Statements\n",
    "We can use one if statement inside another if statement to create nested conditions."
   ]
  },
  {
   "cell_type": "code",
   "execution_count": 55,
   "id": "849b819a-b09d-4cf9-913a-d5051dea8f07",
   "metadata": {},
   "outputs": [
    {
     "name": "stdout",
     "output_type": "stream",
     "text": [
      "x is greater than 5 and y is greater than 15\n"
     ]
    }
   ],
   "source": [
    "x = 10\n",
    "y = 20\n",
    "if x > 5:\n",
    "    if y > 15:\n",
    "        print(\"x is greater than 5 and y is greater than 15\")\n",
    "    else:\n",
    "        print(\"x is greater than 5 but y is not greater than 15\")\n",
    "else:\n",
    "    print(\"x is not greater than 5\")\n"
   ]
  },
  {
   "cell_type": "markdown",
   "id": "4a4caeb8-39c1-4288-bf3a-1c3e2ecf5e57",
   "metadata": {},
   "source": [
    "### 7. Describe the different types of loops in Python and their use cases with examples"
   ]
  },
  {
   "cell_type": "markdown",
   "id": "58d743a2-4a14-44c3-b6cb-52add002d248",
   "metadata": {},
   "source": [
    "In Python, loops are used to execute a block of code repeatedly until a certain condition is met. There are two main types of loops in Python:\n",
    "\n",
    "1.`for`loop\n",
    "2.`while` loop"
   ]
  },
  {
   "cell_type": "markdown",
   "id": "aa9d3d80-01bd-46f1-94a0-6a20039bdb44",
   "metadata": {},
   "source": [
    "### 1. for Loop\n",
    "The for loop in Python is used to iterate over a sequence (such as a list, tuple, string, or range). It executes a block of code for each item in the sequence."
   ]
  },
  {
   "cell_type": "code",
   "execution_count": 56,
   "id": "bf7c4591-3023-4582-9d6c-7223ab20efaf",
   "metadata": {},
   "outputs": [
    {
     "name": "stdout",
     "output_type": "stream",
     "text": [
      "apple\n",
      "banana\n",
      "cherry\n"
     ]
    }
   ],
   "source": [
    "fruits = [\"apple\", \"banana\", \"cherry\"]\n",
    "for fruit in fruits:\n",
    "    print(fruit)\n"
   ]
  },
  {
   "cell_type": "code",
   "execution_count": 57,
   "id": "50e5f132-d77a-47e8-9f7a-050422ca21bd",
   "metadata": {},
   "outputs": [
    {
     "name": "stdout",
     "output_type": "stream",
     "text": [
      "h\n",
      "e\n",
      "l\n",
      "l\n",
      "o\n"
     ]
    }
   ],
   "source": [
    "for char in \"hello\":\n",
    "    print(char)\n"
   ]
  },
  {
   "cell_type": "code",
   "execution_count": 58,
   "id": "a4c44709-8877-4c2a-b421-9d3185722da5",
   "metadata": {},
   "outputs": [
    {
     "name": "stdout",
     "output_type": "stream",
     "text": [
      "name: Alice\n",
      "age: 25\n"
     ]
    }
   ],
   "source": [
    "person = {\"name\": \"Alice\", \"age\": 25}\n",
    "for key, value in person.items():\n",
    "    print(f\"{key}: {value}\")\n"
   ]
  },
  {
   "cell_type": "code",
   "execution_count": 59,
   "id": "ce886cc6-4804-49b7-990f-e40b9596f371",
   "metadata": {},
   "outputs": [
    {
     "name": "stdout",
     "output_type": "stream",
     "text": [
      "0\n",
      "1\n",
      "2\n",
      "3\n",
      "4\n"
     ]
    }
   ],
   "source": [
    "for i in range(5):\n",
    "    print(i)\n"
   ]
  },
  {
   "cell_type": "markdown",
   "id": "d2b31b18-41e8-4a6f-95ae-4f81a2b670b0",
   "metadata": {},
   "source": [
    "### 2. while Loop\n",
    "The while loop in Python repeatedly executes a block of code as long as a given condition is true."
   ]
  },
  {
   "cell_type": "code",
   "execution_count": 60,
   "id": "d69b931f-2615-4dff-bcea-50f8f79fd748",
   "metadata": {},
   "outputs": [
    {
     "name": "stdout",
     "output_type": "stream",
     "text": [
      "0\n",
      "1\n",
      "2\n",
      "3\n",
      "4\n"
     ]
    }
   ],
   "source": [
    "count = 0\n",
    "while count < 5:\n",
    "    print(count)\n",
    "    count += 1\n"
   ]
  },
  {
   "cell_type": "markdown",
   "id": "2b09b1b0-315d-4707-9219-831e7fa69665",
   "metadata": {},
   "source": [
    "### Loop Control Statements\n",
    "Python provides several statements to control the flow of loops:"
   ]
  },
  {
   "cell_type": "code",
   "execution_count": 61,
   "id": "d3473cc3-da5f-4c6f-a9c5-b4e6c72f179f",
   "metadata": {},
   "outputs": [
    {
     "name": "stdout",
     "output_type": "stream",
     "text": [
      "0\n",
      "1\n",
      "2\n",
      "3\n",
      "4\n"
     ]
    }
   ],
   "source": [
    "for i in range(10):\n",
    "    if i == 5:\n",
    "        break\n",
    "    print(i)\n"
   ]
  },
  {
   "cell_type": "code",
   "execution_count": 62,
   "id": "52bd6049-83b8-443a-9a40-10e4d7e62711",
   "metadata": {},
   "outputs": [
    {
     "name": "stdout",
     "output_type": "stream",
     "text": [
      "1\n",
      "3\n",
      "5\n",
      "7\n",
      "9\n"
     ]
    }
   ],
   "source": [
    "for i in range(10):\n",
    "    if i % 2 == 0:\n",
    "        continue\n",
    "    print(i)\n"
   ]
  },
  {
   "cell_type": "code",
   "execution_count": null,
   "id": "f6310ff0-d694-4f76-a651-c6d2d9dafde0",
   "metadata": {},
   "outputs": [],
   "source": []
  }
 ],
 "metadata": {
  "kernelspec": {
   "display_name": "Python 3 (ipykernel)",
   "language": "python",
   "name": "python3"
  },
  "language_info": {
   "codemirror_mode": {
    "name": "ipython",
    "version": 3
   },
   "file_extension": ".py",
   "mimetype": "text/x-python",
   "name": "python",
   "nbconvert_exporter": "python",
   "pygments_lexer": "ipython3",
   "version": "3.10.8"
  }
 },
 "nbformat": 4,
 "nbformat_minor": 5
}
