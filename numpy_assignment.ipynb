{
 "cells": [
  {
   "cell_type": "markdown",
   "id": "c63e6230-beb8-44b5-b897-c86b468c4f5f",
   "metadata": {},
   "source": [
    "### 1. Explain the purpose and advantages of NumPy in scientific computing and data analysis. How does it enhance Python's capabilities for numerical operations?\n"
   ]
  },
  {
   "cell_type": "markdown",
   "id": "133bae55-0bc1-4726-a71b-5382a08400b7",
   "metadata": {},
   "source": [
    "Purpose of NumPy"
   ]
  },
  {
   "cell_type": "markdown",
   "id": "6f205441-d28d-4bbe-9cb6-a0d6e429f9e7",
   "metadata": {},
   "source": [
    "1. Efficient Array Handling:"
   ]
  },
  {
   "cell_type": "markdown",
   "id": "0003e337-7fdb-4f36-8f85-0bceb870e947",
   "metadata": {},
   "source": [
    "Purpose: NumPy provides a high-performance array object called ndarray which is used to store and manipulate large datasets efficiently."
   ]
  },
  {
   "cell_type": "markdown",
   "id": "52197bbd-4aa5-4eeb-851d-83431f696b5a",
   "metadata": {},
   "source": [
    "Advantage: The ndarray object supports vectorized operations, which means that operations can be applied to entire arrays without explicit loops, leading to more concise and readable code."
   ]
  },
  {
   "cell_type": "markdown",
   "id": "8213b93f-1a8b-47d9-acb0-618553ab5503",
   "metadata": {},
   "source": [
    "2. Mathematical Functions:"
   ]
  },
  {
   "cell_type": "markdown",
   "id": "292c29a4-b6a3-4779-b59c-d42f47bff012",
   "metadata": {},
   "source": [
    "Purpose: NumPy includes a wide range of mathematical functions, such as linear algebra operations, statistical functions, and more.\n"
   ]
  },
  {
   "cell_type": "markdown",
   "id": "7c04d1fd-b856-41bb-8f0e-2d3dd726d972",
   "metadata": {},
   "source": [
    "Advantage: These functions are implemented in C and optimized for performance, making them significantly faster than equivalent operations written in pure Python."
   ]
  },
  {
   "cell_type": "markdown",
   "id": "79157683-0c6e-4b59-bb36-8b829c8472b3",
   "metadata": {},
   "source": [
    "3.Integration with Other Libraries:"
   ]
  },
  {
   "cell_type": "markdown",
   "id": "d227db6f-9a8e-4abe-b9cd-c291dcda8782",
   "metadata": {},
   "source": [
    "Purpose: NumPy serves as the foundation for many other scientific computing libraries, such as SciPy, pandas, and scikit-learn."
   ]
  },
  {
   "cell_type": "markdown",
   "id": "553f7cef-9268-4ec3-989f-f32217b8a3d8",
   "metadata": {},
   "source": [
    "Advantage: It provides a standard interface for numerical data, allowing for seamless integration and interoperability with other libraries in the Python ecosystem.\n"
   ]
  },
  {
   "cell_type": "markdown",
   "id": "61fca49b-5465-4c2a-81bd-c293d8c67eaa",
   "metadata": {},
   "source": [
    "4. Broadcasting:"
   ]
  },
  {
   "cell_type": "markdown",
   "id": "d22aa84f-8d84-4deb-8f1a-a8db14a9cb76",
   "metadata": {},
   "source": [
    "Purpose: NumPy supports broadcasting, a technique that allows operations to be performed on arrays of different shapes without explicit replication of data."
   ]
  },
  {
   "cell_type": "markdown",
   "id": "064e8b0f-003f-47bf-810c-d8cdad6be710",
   "metadata": {},
   "source": [
    "Advantage: Broadcasting simplifies code and improves performance by eliminating the need for manually reshaping arrays or performing redundant calculations.\n"
   ]
  },
  {
   "cell_type": "markdown",
   "id": "86f260fe-3b8e-4037-8633-6894045fa521",
   "metadata": {},
   "source": [
    "5.Memory Efficiency:\n"
   ]
  },
  {
   "cell_type": "markdown",
   "id": "18fff2a3-d609-4ea6-88d2-9a94d8d12d42",
   "metadata": {},
   "source": [
    "Purpose: NumPy arrays use less memory compared to traditional Python lists and have a fixed type for each element."
   ]
  },
  {
   "cell_type": "markdown",
   "id": "1e55e278-724a-4e3e-9041-36505726dd42",
   "metadata": {},
   "source": [
    "Advantage: This memory efficiency is crucial for handling large datasets and performing computations that require substantial memory."
   ]
  },
  {
   "cell_type": "markdown",
   "id": "f824c995-d175-4a93-b232-eb53cada2d02",
   "metadata": {},
   "source": [
    "NumPy enhances Python’s capabilities for numerical operations by providing:"
   ]
  },
  {
   "cell_type": "markdown",
   "id": "a5fd630d-38a9-4131-a7f0-381905646f16",
   "metadata": {},
   "source": [
    "High-performance array handling"
   ]
  },
  {
   "cell_type": "markdown",
   "id": "ff5a8f93-8d1f-436f-b157-9842755e807e",
   "metadata": {},
   "source": [
    "Vectorized operations\n"
   ]
  },
  {
   "cell_type": "markdown",
   "id": "f0cdc739-2429-4db2-8577-06d95495238f",
   "metadata": {},
   "source": [
    "Broad range of mathematical functions"
   ]
  },
  {
   "cell_type": "markdown",
   "id": "17ebcf39-26e4-46e8-a5fc-fc3feffcc6d0",
   "metadata": {},
   "source": [
    "Efficient memory use\n"
   ]
  },
  {
   "cell_type": "markdown",
   "id": "48620efc-efe7-460a-a141-b342a9c3e100",
   "metadata": {},
   "source": [
    "Support for multidimensional data"
   ]
  },
  {
   "cell_type": "markdown",
   "id": "82027bae-6bfb-4b45-bfb8-407910598b4d",
   "metadata": {},
   "source": [
    "### 2. Compare and contrast np.mean() and np.average() functions in NumPy. When would you use one over the other?\n"
   ]
  },
  {
   "cell_type": "markdown",
   "id": "a6a46701-c888-449c-812d-7c6ec75ea73d",
   "metadata": {},
   "source": [
    "np.mean()"
   ]
  },
  {
   "cell_type": "markdown",
   "id": "4b4ead37-b23e-4836-9293-14acea4d2fda",
   "metadata": {},
   "source": [
    "Purpose: Computes the arithmetic mean of the elements in an array."
   ]
  },
  {
   "cell_type": "markdown",
   "id": "63a317ff-18be-412b-a2b1-5b3284375656",
   "metadata": {},
   "source": [
    "Syntax: np.mean(a, axis=None, dtype=None, out=None, keepdims=False)"
   ]
  },
  {
   "cell_type": "code",
   "execution_count": 1,
   "id": "12f4708b-d995-4e05-9cb1-42760d41b4e1",
   "metadata": {},
   "outputs": [
    {
     "name": "stdout",
     "output_type": "stream",
     "text": [
      "Mean: 3.0\n"
     ]
    }
   ],
   "source": [
    "import numpy as np\n",
    "\n",
    "arr = np.array([1, 2, 3, 4, 5])\n",
    "mean_value = np.mean(arr)\n",
    "print(\"Mean:\", mean_value)\n"
   ]
  },
  {
   "cell_type": "markdown",
   "id": "6926590e-ce68-4a5e-8f2c-039ae3248cac",
   "metadata": {},
   "source": [
    "np.average()"
   ]
  },
  {
   "cell_type": "markdown",
   "id": "357b7545-80b7-4c6a-a409-c41b3ef11c97",
   "metadata": {},
   "source": [
    "Purpose: Computes the weighted average of array elements, with an optional weights parameter."
   ]
  },
  {
   "cell_type": "markdown",
   "id": "488395d4-a2d3-4c0c-9296-569447949f04",
   "metadata": {},
   "source": [
    "Syntax: np.average(a, axis=None, weights=None, returned=False)"
   ]
  },
  {
   "cell_type": "markdown",
   "id": "d1c8b6b5-70ed-44e5-a93d-585913c70d4b",
   "metadata": {},
   "source": [
    "import numpy as np\n",
    "\n",
    "arr = np.array([1, 2, 3, 4, 5])\n",
    "weights = np.array([0.1, 0.2, 0.3, 0.2, 0.2])\n",
    "average_value = np.average(arr, weights=weights)\n",
    "print(\"Weighted Average:\", average_value)\n"
   ]
  },
  {
   "cell_type": "markdown",
   "id": "4408ac0f-0f34-42c4-806d-edb387d3db9d",
   "metadata": {},
   "source": [
    "Comparison"
   ]
  },
  {
   "cell_type": "markdown",
   "id": "280551b5-8dd2-4a75-8efe-57b9a5216133",
   "metadata": {},
   "source": [
    "1.Basic Calculation:"
   ]
  },
  {
   "cell_type": "markdown",
   "id": "55b06b17-37e2-4e45-8569-7dae26671d5d",
   "metadata": {},
   "source": [
    "np.mean() always calculates the arithmetic mean of the elements."
   ]
  },
  {
   "cell_type": "markdown",
   "id": "6ab508b4-a97b-4c34-8d07-c42bdd118f6b",
   "metadata": {},
   "source": [
    "np.average() can calculate a weighted average if weights are provided."
   ]
  },
  {
   "cell_type": "markdown",
   "id": "87d2b2ee-236a-47f4-8619-b2a43eafbe76",
   "metadata": {},
   "source": [
    "2. Weights:"
   ]
  },
  {
   "cell_type": "markdown",
   "id": "0cb8344d-88d8-475d-9f36-ac6f8a6e1228",
   "metadata": {},
   "source": [
    "np.mean() does not support weights."
   ]
  },
  {
   "cell_type": "markdown",
   "id": "c6dc2761-4f7f-4907-8778-a8ba6541eb06",
   "metadata": {},
   "source": [
    "np.average() supports weights, allowing for more flexible calculations where some data points contribute more to the average than others."
   ]
  },
  {
   "cell_type": "markdown",
   "id": "e2cfd460-4c09-405d-94e6-6115552881ed",
   "metadata": {},
   "source": [
    "3. Return Value:"
   ]
  },
  {
   "cell_type": "markdown",
   "id": "ce2419a5-127e-4832-abdb-d9c0c8921d0f",
   "metadata": {},
   "source": [
    "np.mean() always returns the mean of the array."
   ]
  },
  {
   "cell_type": "markdown",
   "id": "f4f99478-f724-4f47-8174-aa05982d90f0",
   "metadata": {},
   "source": [
    "np.average() can return a tuple if returned=True, including both the weighted average and the sum of weights."
   ]
  },
  {
   "cell_type": "markdown",
   "id": "09ebe517-7bac-4ce7-8c1b-c1a37df8fd6c",
   "metadata": {},
   "source": [
    "4.Usage:"
   ]
  },
  {
   "cell_type": "markdown",
   "id": "04463005-6b58-43e1-96d9-1c0f4d0c1e2d",
   "metadata": {},
   "source": [
    "Use np.mean() when you need a simple arithmetic mean of the data."
   ]
  },
  {
   "cell_type": "markdown",
   "id": "b3249116-5f2f-47fc-a32f-ad1a52915201",
   "metadata": {},
   "source": [
    "Use np.average() when you need a weighted average where some elements should have more influence on the result than others.\n"
   ]
  },
  {
   "cell_type": "markdown",
   "id": "7d10c066-5991-40bf-9708-d145b1b74181",
   "metadata": {},
   "source": [
    "### 3. Describe the methods for reversing a NumPy array along different axes. Provide examples for 1D and 2D arrays.\n"
   ]
  },
  {
   "cell_type": "markdown",
   "id": "8e2e4236-6eda-4157-9111-d7768737025f",
   "metadata": {},
   "source": [
    "Reversing a 1D Array"
   ]
  },
  {
   "cell_type": "code",
   "execution_count": 2,
   "id": "5d3c2308-86ed-44fd-8c2b-06776fb905f5",
   "metadata": {},
   "outputs": [
    {
     "name": "stdout",
     "output_type": "stream",
     "text": [
      "Original array: [1 2 3 4 5]\n",
      "Reversed array: [5 4 3 2 1]\n"
     ]
    }
   ],
   "source": [
    "import numpy as np\n",
    "\n",
    "# Creating a 1D NumPy array\n",
    "arr = np.array([1, 2, 3, 4, 5])\n",
    "\n",
    "# Reversing the array\n",
    "reversed_arr = arr[::-1]\n",
    "\n",
    "print(\"Original array:\", arr)\n",
    "print(\"Reversed array:\", reversed_arr)\n"
   ]
  },
  {
   "cell_type": "markdown",
   "id": "77cb4650-a95d-4ebd-9d19-852b7792ae52",
   "metadata": {},
   "source": [
    "Reversing a 2D Array"
   ]
  },
  {
   "cell_type": "markdown",
   "id": "7f1248c2-8e7e-4bf4-8ae2-e5e1bd4b6650",
   "metadata": {},
   "source": [
    "1. Reversing along the rows (axis 0):"
   ]
  },
  {
   "cell_type": "code",
   "execution_count": 3,
   "id": "c801ff14-e5be-4dfb-8e81-73b05c3c1ab5",
   "metadata": {},
   "outputs": [
    {
     "name": "stdout",
     "output_type": "stream",
     "text": [
      "Original 2D array:\n",
      " [[1 2 3]\n",
      " [4 5 6]\n",
      " [7 8 9]]\n",
      "Reversed along rows:\n",
      " [[7 8 9]\n",
      " [4 5 6]\n",
      " [1 2 3]]\n"
     ]
    }
   ],
   "source": [
    "import numpy as np\n",
    "\n",
    "# Creating a 2D NumPy array\n",
    "arr_2d = np.array([[1, 2, 3], [4, 5, 6], [7, 8, 9]])\n",
    "\n",
    "# Reversing along rows (axis 0)\n",
    "reversed_rows = arr_2d[::-1, :]\n",
    "\n",
    "print(\"Original 2D array:\\n\", arr_2d)\n",
    "print(\"Reversed along rows:\\n\", reversed_rows)\n"
   ]
  },
  {
   "cell_type": "markdown",
   "id": "6b3c7e3d-635d-4721-a7dc-1fe5b9b03a14",
   "metadata": {},
   "source": [
    "2. Reversing along the columns (axis 1):"
   ]
  },
  {
   "cell_type": "code",
   "execution_count": 4,
   "id": "02ced342-48d5-4523-ba5b-33651f0e0d48",
   "metadata": {},
   "outputs": [
    {
     "name": "stdout",
     "output_type": "stream",
     "text": [
      "Original 2D array:\n",
      " [[1 2 3]\n",
      " [4 5 6]\n",
      " [7 8 9]]\n",
      "Reversed along columns:\n",
      " [[3 2 1]\n",
      " [6 5 4]\n",
      " [9 8 7]]\n"
     ]
    }
   ],
   "source": [
    "import numpy as np\n",
    "\n",
    "# Creating a 2D NumPy array\n",
    "arr_2d = np.array([[1, 2, 3], [4, 5, 6], [7, 8, 9]])\n",
    "\n",
    "# Reversing along columns (axis 1)\n",
    "reversed_columns = arr_2d[:, ::-1]\n",
    "\n",
    "print(\"Original 2D array:\\n\", arr_2d)\n",
    "print(\"Reversed along columns:\\n\", reversed_columns)\n"
   ]
  },
  {
   "cell_type": "markdown",
   "id": "d5cb9161-941f-4710-b244-8f7b1e9402b5",
   "metadata": {},
   "source": [
    "3. Reversing along both axes (both rows and columns):\n",
    "\n"
   ]
  },
  {
   "cell_type": "code",
   "execution_count": 5,
   "id": "e9fd633f-f139-4068-bbd2-83b966681620",
   "metadata": {},
   "outputs": [
    {
     "name": "stdout",
     "output_type": "stream",
     "text": [
      "Original 2D array:\n",
      " [[1 2 3]\n",
      " [4 5 6]\n",
      " [7 8 9]]\n",
      "Reversed along both axes:\n",
      " [[9 8 7]\n",
      " [6 5 4]\n",
      " [3 2 1]]\n"
     ]
    }
   ],
   "source": [
    "import numpy as np\n",
    "\n",
    "# Creating a 2D NumPy array\n",
    "arr_2d = np.array([[1, 2, 3], [4, 5, 6], [7, 8, 9]])\n",
    "\n",
    "# Reversing along both rows and columns\n",
    "reversed_both = arr_2d[::-1, ::-1]\n",
    "\n",
    "print(\"Original 2D array:\\n\", arr_2d)\n",
    "print(\"Reversed along both axes:\\n\", reversed_both)\n"
   ]
  },
  {
   "cell_type": "markdown",
   "id": "6b14a164-4585-4b73-83af-5bb5aefb993f",
   "metadata": {},
   "source": [
    "### 4. How can you determine the data type of elements in a NumPy array? Discuss the importance of data types in memory management and performance.\n"
   ]
  },
  {
   "cell_type": "markdown",
   "id": "cc5ad918-763a-43bc-a443-e8c5d6f83586",
   "metadata": {},
   "source": [
    "Determining the Data Type of Elements in a NumPy Array"
   ]
  },
  {
   "cell_type": "code",
   "execution_count": 6,
   "id": "7f5727a7-f624-4c65-b56e-b6a94062f4d4",
   "metadata": {},
   "outputs": [
    {
     "name": "stdout",
     "output_type": "stream",
     "text": [
      "Data type of arr_int: int64\n",
      "Data type of arr_float: float64\n",
      "Data type of arr_complex: complex128\n"
     ]
    }
   ],
   "source": [
    "import numpy as np\n",
    "\n",
    "# Creating a NumPy array with integer data\n",
    "arr_int = np.array([1, 2, 3, 4])\n",
    "print(\"Data type of arr_int:\", arr_int.dtype)\n",
    "\n",
    "# Creating a NumPy array with float data\n",
    "arr_float = np.array([1.0, 2.0, 3.0, 4.0])\n",
    "print(\"Data type of arr_float:\", arr_float.dtype)\n",
    "\n",
    "# Creating a NumPy array with complex data\n",
    "arr_complex = np.array([1+2j, 3+4j])\n",
    "print(\"Data type of arr_complex:\", arr_complex.dtype)\n"
   ]
  },
  {
   "cell_type": "markdown",
   "id": "a4b31abc-8fd2-49d7-be9d-a4d1dc733e54",
   "metadata": {},
   "source": [
    "Importance of Data Types in Memory Management and Performance\n"
   ]
  },
  {
   "cell_type": "markdown",
   "id": "006ec62c-207f-4fab-bcc7-e8a88de69150",
   "metadata": {},
   "source": [
    "1. Memory Management:"
   ]
  },
  {
   "cell_type": "markdown",
   "id": "6b7909f4-cbe7-43e2-980f-cb40983ee3c1",
   "metadata": {},
   "source": [
    "Storage Size: Different data types require different amounts of memory. For example, an int32 takes 4 bytes, while an int64 takes 8 bytes. Choosing the appropriate data type helps in reducing memory usage. For instance, using float32 instead of float64 can save memory if the precision provided by float32 is sufficient for your calculations.\n"
   ]
  },
  {
   "cell_type": "markdown",
   "id": "1602a413-82a7-4910-afce-dadb79369403",
   "metadata": {},
   "source": [
    "Data Alignment: Data types also affect how data is aligned in memory, which can influence performance. Smaller data types may lead to less memory overhead and better cache utilization."
   ]
  },
  {
   "cell_type": "markdown",
   "id": "f09faf7b-1ea6-4669-a7e1-11922b66b021",
   "metadata": {},
   "source": [
    "2. Performance:"
   ]
  },
  {
   "cell_type": "markdown",
   "id": "cb9ad491-0f23-40e7-9a8e-da157edd57a8",
   "metadata": {},
   "source": [
    "Computation Speed: The choice of data type affects the speed of mathematical operations. For instance, operations on float32 arrays may be faster than on float64 arrays due to reduced computational complexity. However, this is also dependent on hardware and whether it has specialized instructions for certain data types."
   ]
  },
  {
   "cell_type": "markdown",
   "id": "290ace20-a86a-4807-b4e6-c54910eff194",
   "metadata": {},
   "source": [
    "Vectorization: NumPy is optimized for operations on arrays. Using the correct data type ensures that these operations can be vectorized efficiently. For example, operations on integer arrays can be faster than on floating-point arrays due to less complexity in handling integer arithmetic."
   ]
  },
  {
   "cell_type": "markdown",
   "id": "255fd578-a879-4776-a176-8d68b95d5719",
   "metadata": {},
   "source": [
    "Precision vs. Speed: Choosing a data type involves a trade-off between precision and speed. For example, float64 provides higher precision than float32, but operations on float32 can be faster and use less memory. Selecting the right data type depends on the requirements of your application."
   ]
  },
  {
   "cell_type": "markdown",
   "id": "20d645e5-2c6a-4229-bde1-916fd88b48d9",
   "metadata": {
    "tags": []
   },
   "source": [
    "### 5. Define ndarrays in NumPy and explain their key features. How do they differ from standard Python lists?"
   ]
  },
  {
   "cell_type": "markdown",
   "id": "1338725e-ec9e-4d72-960e-cc0b9390c818",
   "metadata": {},
   "source": [
    "ndarray in NumPy"
   ]
  },
  {
   "cell_type": "markdown",
   "id": "6e32cda3-1d7c-47e4-bb6b-5168d79799cb",
   "metadata": {},
   "source": [
    "Key Features of ndarray:"
   ]
  },
  {
   "cell_type": "markdown",
   "id": "1f437ece-accd-4cba-8512-8bd624a614b7",
   "metadata": {},
   "source": [
    "1. Multidimensional:"
   ]
  },
  {
   "cell_type": "markdown",
   "id": "c51ef4b3-f263-4123-abb3-a51648a68532",
   "metadata": {},
   "source": [
    "ndarray supports arrays of any number of dimensions. A 1D array is a vector, a 2D array is a matrix, and arrays can extend to higher dimensions."
   ]
  },
  {
   "cell_type": "markdown",
   "id": "fa3f30e8-0374-4059-901f-562aad72dbc3",
   "metadata": {},
   "source": [
    "2. Homogeneous Elements:\n"
   ]
  },
  {
   "cell_type": "markdown",
   "id": "a6ccc94e-15e1-45b6-b32d-29a3be96c2fe",
   "metadata": {},
   "source": [
    "All elements in a ndarray must be of the same type, which allows for efficient memory usage and fast computation."
   ]
  },
  {
   "cell_type": "markdown",
   "id": "fc5e3c8b-6f99-4f92-8e89-599497f91c01",
   "metadata": {},
   "source": [
    "3. Efficient Storage and Computation:"
   ]
  },
  {
   "cell_type": "markdown",
   "id": "3973f9b0-340e-4917-9c0b-065633317728",
   "metadata": {},
   "source": [
    "NumPy arrays are stored more efficiently than Python lists and support vectorized operations, which can lead to significant performance improvements for numerical computations."
   ]
  },
  {
   "cell_type": "markdown",
   "id": "88c5d9bd-a691-4a8b-821a-40904f26c671",
   "metadata": {},
   "source": [
    "4. Element-wise Operations:"
   ]
  },
  {
   "cell_type": "markdown",
   "id": "43da8053-c9e2-43cd-b2e9-3bb72ac636c0",
   "metadata": {},
   "source": [
    "NumPy supports element-wise operations such as addition, multiplication, and more, directly on arrays without the need for explicit loops.\n"
   ]
  },
  {
   "cell_type": "markdown",
   "id": "89f09e3d-af5e-4abe-b07a-0049c6c98810",
   "metadata": {},
   "source": [
    "5. Broadcasting:"
   ]
  },
  {
   "cell_type": "markdown",
   "id": "be2b0a42-b263-4f8d-9d99-6c81683de394",
   "metadata": {},
   "source": [
    "Broadcasting allows NumPy to perform operations on arrays of different shapes and sizes without needing explicit replication of data."
   ]
  },
  {
   "cell_type": "markdown",
   "id": "fe6f8ef3-f120-48ca-9951-0f5c33eed72f",
   "metadata": {},
   "source": [
    "6. Shape and Size Attributes:"
   ]
  },
  {
   "cell_type": "markdown",
   "id": "971a1f8c-8d69-42c7-b44d-0ee62263d213",
   "metadata": {},
   "source": [
    "7. Indexing and Slicing:\n"
   ]
  },
  {
   "cell_type": "markdown",
   "id": "31a2221d-2744-438f-be3e-4b2926017403",
   "metadata": {},
   "source": [
    "ndarray supports advanced indexing and slicing capabilities, allowing for more complex data manipulation than standard Python lists.\n"
   ]
  },
  {
   "cell_type": "markdown",
   "id": "b863873a-fba3-497d-9b58-6dfd06ab4a01",
   "metadata": {},
   "source": [
    "8.Efficient Memory Usage:"
   ]
  },
  {
   "cell_type": "markdown",
   "id": "ef9392af-9ec2-4b93-a1e0-83a77bed3908",
   "metadata": {},
   "source": [
    "NumPy arrays use less memory compared to Python lists due to contiguous memory storage and efficient internal representation.\n"
   ]
  },
  {
   "cell_type": "code",
   "execution_count": 8,
   "id": "1b32300a-83f5-43f5-a1f9-afc7d8baab98",
   "metadata": {},
   "outputs": [
    {
     "name": "stdout",
     "output_type": "stream",
     "text": [
      "Array:\n",
      " [[1 2 3]\n",
      " [4 5 6]\n",
      " [7 8 9]]\n",
      "Shape: (3, 3)\n",
      "Number of dimensions: 2\n",
      "Size: 9\n",
      "Data type: int64\n"
     ]
    }
   ],
   "source": [
    "import numpy as np\n",
    "\n",
    "# Creating a 2D NumPy array\n",
    "arr = np.array([[1, 2, 3], [4, 5, 6], [7, 8, 9]])\n",
    "\n",
    "print(\"Array:\\n\", arr)\n",
    "print(\"Shape:\", arr.shape)\n",
    "print(\"Number of dimensions:\", arr.ndim)\n",
    "print(\"Size:\", arr.size)\n",
    "print(\"Data type:\", arr.dtype)\n"
   ]
  },
  {
   "cell_type": "markdown",
   "id": "bd17f4ce-9ddf-45c6-af2b-914d8ef7141b",
   "metadata": {},
   "source": [
    "Comparison with Standard Python Lists"
   ]
  },
  {
   "cell_type": "markdown",
   "id": "9f4cc62f-b8eb-4076-b092-b3e32515a30c",
   "metadata": {},
   "source": [
    "1. Dimensionality:"
   ]
  },
  {
   "cell_type": "markdown",
   "id": "c9a0dd95-9534-4fa5-bacb-eea2eae84043",
   "metadata": {},
   "source": [
    "NumPy Arrays: Support multidimensional arrays."
   ]
  },
  {
   "cell_type": "markdown",
   "id": "a2c7a3f0-9698-48ad-a955-c85b083e1da7",
   "metadata": {},
   "source": [
    "Python Lists: Support only one-dimensional lists (nested lists can simulate multidimensional structures but are less efficient).\n"
   ]
  },
  {
   "cell_type": "markdown",
   "id": "5c4aa95a-6830-433c-bd5b-3bcae82f097d",
   "metadata": {},
   "source": [
    "2. Data Type Consistency:"
   ]
  },
  {
   "cell_type": "markdown",
   "id": "b438bdca-2ab8-4806-a449-16af2ea59f89",
   "metadata": {},
   "source": [
    "NumPy Arrays: Elements must be of the same type."
   ]
  },
  {
   "cell_type": "markdown",
   "id": "9e00e789-8f02-4e5f-b0d7-5642e2201f9f",
   "metadata": {},
   "source": [
    "Python Lists: Can contain elements of different types."
   ]
  },
  {
   "cell_type": "markdown",
   "id": "e79582ac-97d6-4ddf-971b-5db0f6567d38",
   "metadata": {},
   "source": [
    "3. Performance:"
   ]
  },
  {
   "cell_type": "markdown",
   "id": "b1b6999b-16f2-4ff4-94a0-d0fee8984506",
   "metadata": {},
   "source": [
    "NumPy Arrays: Generally more efficient for large-scale numerical computations due to optimized memory layout and vectorized operations."
   ]
  },
  {
   "cell_type": "markdown",
   "id": "36a52ead-a5f4-4c59-a0e4-293734848445",
   "metadata": {},
   "source": [
    "Python Lists: Slower for numerical operations, as operations are performed in Python rather than in optimized C code."
   ]
  },
  {
   "cell_type": "markdown",
   "id": "1c10f0dd-45b4-496b-bde6-626fafc94282",
   "metadata": {},
   "source": [
    "4.Operations:"
   ]
  },
  {
   "cell_type": "markdown",
   "id": "ce8c085a-89a7-46d2-9e2d-a48c2efcb1be",
   "metadata": {},
   "source": [
    "NumPy Arrays: Support element-wise operations, broadcasting, and more sophisticated mathematical functions."
   ]
  },
  {
   "cell_type": "markdown",
   "id": "f2783ba8-a63d-4d05-8f54-47ff1397b2ca",
   "metadata": {},
   "source": [
    "Python Lists: Do not support element-wise operations directly and require explicit loops for such operations."
   ]
  },
  {
   "cell_type": "markdown",
   "id": "579d75d6-1f1d-4191-8a84-84a4f2defff3",
   "metadata": {},
   "source": [
    "5.Memory Efficiency:"
   ]
  },
  {
   "cell_type": "markdown",
   "id": "c1d5c0ec-84be-42c4-9277-377f7d170fd0",
   "metadata": {},
   "source": [
    "NumPy Arrays: Use less memory and provide more efficient storage by using contiguous memory."
   ]
  },
  {
   "cell_type": "markdown",
   "id": "6d34720e-2138-4da3-850b-7eccb5b25ad8",
   "metadata": {},
   "source": [
    "Python Lists: Use more memory as they store type information and are less efficient for large datasets."
   ]
  },
  {
   "cell_type": "markdown",
   "id": "68fa605c-8d14-4d35-9ab8-8e621ef88520",
   "metadata": {},
   "source": [
    "### 6. Analyze the performance benefits of NumPy arrays over Python lists for large-scale numerical operations."
   ]
  },
  {
   "cell_type": "markdown",
   "id": "92b99c2d-e0c3-475e-87e1-087b3402ad80",
   "metadata": {},
   "source": [
    "1. Memory Efficiency"
   ]
  },
  {
   "cell_type": "markdown",
   "id": "7e7bd148-5b3a-41de-b707-67ada36a62b5",
   "metadata": {},
   "source": [
    "NumPy Arrays:"
   ]
  },
  {
   "cell_type": "markdown",
   "id": "54ecbbcb-cfb1-44f0-b330-b5ad3ba0ac71",
   "metadata": {},
   "source": [
    "Contiguous Memory Allocation: NumPy arrays store elements in contiguous blocks of memory, which allows for more efficient memory access and reduced overhead.\n"
   ]
  },
  {
   "cell_type": "markdown",
   "id": "e45aef0a-f04b-4e05-845b-00a3e2b2e37b",
   "metadata": {},
   "source": [
    "Data Type Consistency: All elements in a NumPy array have the same data type, which reduces the memory footprint compared to Python lists, where each element is a separate object with its own metadata."
   ]
  },
  {
   "cell_type": "markdown",
   "id": "6d1253c7-e501-487e-8d41-ce06b8f07943",
   "metadata": {},
   "source": [
    "Python Lists:"
   ]
  },
  {
   "cell_type": "markdown",
   "id": "effebd2e-408b-4082-830e-e38119c0620b",
   "metadata": {},
   "source": [
    "Overhead Per Element: Each element in a Python list is a reference to a separate object, which includes additional overhead. This can lead to increased memory consumption, especially with large datasets."
   ]
  },
  {
   "cell_type": "markdown",
   "id": "7c0d1b62-60f9-461c-94e2-980fb5460a65",
   "metadata": {},
   "source": [
    "Non-Contiguous Storage: Python lists are stored as arrays of pointers to objects, leading to non-contiguous memory access and potential inefficiencies.\n"
   ]
  },
  {
   "cell_type": "markdown",
   "id": "c13ca636-c173-4f18-ba8c-f37b83343b5b",
   "metadata": {},
   "source": [
    "2. Performance of Operations"
   ]
  },
  {
   "cell_type": "markdown",
   "id": "6db68efb-4361-4169-8e1e-bc2069f77d75",
   "metadata": {},
   "source": [
    "NumPy Arrays:"
   ]
  },
  {
   "cell_type": "markdown",
   "id": "394ee43e-b73f-43a4-89ee-f7a883041386",
   "metadata": {},
   "source": [
    "Vectorization: NumPy arrays support vectorized operations, where operations are applied to entire arrays without explicit loops in Python. This leverages low-level, optimized C and Fortran libraries, resulting in significant speedups."
   ]
  },
  {
   "cell_type": "markdown",
   "id": "607da4af-7a0c-49bf-802b-2e574a6d10e9",
   "metadata": {},
   "source": [
    "Broadcasting: NumPy's broadcasting allows for efficient operations on arrays of different shapes without the need for replication, thus reducing computation time.\n"
   ]
  },
  {
   "cell_type": "markdown",
   "id": "595c7492-9808-4806-81d4-06a094555bf7",
   "metadata": {},
   "source": [
    "Optimized Internal Implementations: NumPy operations are implemented in C, allowing for fast execution of mathematical functions, reductions, and aggregations."
   ]
  },
  {
   "cell_type": "markdown",
   "id": "ff63fcab-f026-490f-9189-ad6f6252538d",
   "metadata": {},
   "source": [
    "Python Lists:"
   ]
  },
  {
   "cell_type": "markdown",
   "id": "f79a6ff3-9d19-4565-a846-1b07dcb0ed3f",
   "metadata": {},
   "source": [
    "Element-wise Operations: Performing element-wise operations on Python lists typically requires explicit loops in Python, which are slower compared to vectorized operations in NumPy."
   ]
  },
  {
   "cell_type": "markdown",
   "id": "918ec321-5120-4671-908c-f54d1311705b",
   "metadata": {},
   "source": [
    "Lack of Broadcasting: Python lists do not natively support broadcasting, making operations on differently shaped data less efficient and more cumbersome to implement.\n"
   ]
  },
  {
   "cell_type": "markdown",
   "id": "5437a81f-79bb-49ce-91b6-860778fb6843",
   "metadata": {},
   "source": [
    "3. Computational Complexity"
   ]
  },
  {
   "cell_type": "markdown",
   "id": "d6924ac5-d89a-49c2-880f-32978c497691",
   "metadata": {},
   "source": [
    "NumPy Arrays:"
   ]
  },
  {
   "cell_type": "markdown",
   "id": "e835b51d-77c2-4326-bca0-c24d5c828624",
   "metadata": {},
   "source": [
    "Efficient Algorithms: NumPy provides highly optimized algorithms for numerical computations. For instance, functions for matrix multiplication and linear algebra are implemented with optimized libraries like BLAS and LAPACK."
   ]
  },
  {
   "cell_type": "markdown",
   "id": "3b2262db-b88c-458d-b759-7598d045e7e8",
   "metadata": {},
   "source": [
    "Parallelization: NumPy can leverage parallel computation for certain operations, especially when using libraries like MKL (Math Kernel Library)."
   ]
  },
  {
   "cell_type": "markdown",
   "id": "427678ac-dd31-4946-b89c-c8cade96f30a",
   "metadata": {},
   "source": [
    "Python Lists:"
   ]
  },
  {
   "cell_type": "markdown",
   "id": "0ee9f29f-d0b2-434a-82fe-8f1352bf925f",
   "metadata": {},
   "source": [
    "Higher Computational Overhead: Operations on Python lists involve more overhead due to the need for Python-level loops and additional function calls, leading to slower performance for large datasets."
   ]
  },
  {
   "cell_type": "markdown",
   "id": "933226e7-96fb-4d66-ba5e-65615707c1e9",
   "metadata": {},
   "source": [
    "### 7. Compare vstack() and hstack() functions in NumPy. Provide examples demonstrating their usage and  output.\n"
   ]
  },
  {
   "cell_type": "markdown",
   "id": "acdf44b7-c0f1-4236-9daa-166fa9b19ae7",
   "metadata": {},
   "source": [
    "vstack()"
   ]
  },
  {
   "cell_type": "markdown",
   "id": "d2a02521-cc93-4329-8146-fe10d8c46c95",
   "metadata": {},
   "source": [
    "Purpose:"
   ]
  },
  {
   "cell_type": "markdown",
   "id": "53d03db1-0998-490d-8edd-21edb97f5065",
   "metadata": {},
   "source": [
    "vstack() (vertical stack) stacks arrays vertically along the rows. It concatenates arrays along the vertical axis, effectively increasing the number of rows while keeping the number of columns unchanged."
   ]
  },
  {
   "cell_type": "markdown",
   "id": "41161a02-c9be-4d6b-9c4f-7c21f48190fe",
   "metadata": {},
   "source": [
    "Usage:"
   ]
  },
  {
   "cell_type": "markdown",
   "id": "4c8b0f8c-0108-4484-9aa9-e8abae9c9e4c",
   "metadata": {},
   "source": [
    "All arrays must have the same number of columns."
   ]
  },
  {
   "cell_type": "markdown",
   "id": "0274dd4e-fe70-451f-9a80-7bea48e6ea46",
   "metadata": {},
   "source": [
    "It combines arrays by appending them one on top of the other.\n"
   ]
  },
  {
   "cell_type": "code",
   "execution_count": 9,
   "id": "1583fab5-59be-4d06-b603-72a4a9b61c8b",
   "metadata": {},
   "outputs": [
    {
     "name": "stdout",
     "output_type": "stream",
     "text": [
      "Result of vstack:\n",
      " [[ 1  2  3]\n",
      " [ 4  5  6]\n",
      " [ 7  8  9]\n",
      " [10 11 12]]\n"
     ]
    }
   ],
   "source": [
    "import numpy as np\n",
    "\n",
    "# Define two 2D arrays\n",
    "array1 = np.array([[1, 2, 3],\n",
    "                   [4, 5, 6]])\n",
    "\n",
    "array2 = np.array([[7, 8, 9],\n",
    "                   [10, 11, 12]])\n",
    "\n",
    "# Stack arrays vertically\n",
    "result_vstack = np.vstack((array1, array2))\n",
    "\n",
    "print(\"Result of vstack:\\n\", result_vstack)\n"
   ]
  },
  {
   "cell_type": "markdown",
   "id": "1f3be901-2b8d-4e7c-8282-ab777d279227",
   "metadata": {},
   "source": [
    "hstack()"
   ]
  },
  {
   "cell_type": "markdown",
   "id": "809cf9d7-eac6-4c7a-bc8c-3691b4830f75",
   "metadata": {},
   "source": [
    "Purpose:"
   ]
  },
  {
   "cell_type": "markdown",
   "id": "bfbeb4cb-ec40-4629-9626-e153b7ad336c",
   "metadata": {},
   "source": [
    "hstack() (horizontal stack) stacks arrays horizontally along the columns. It concatenates arrays along the horizontal axis, effectively increasing the number of columns while keeping the number of rows unchanged.\n"
   ]
  },
  {
   "cell_type": "markdown",
   "id": "7f7062f8-f97b-4014-8f88-cfa7567d9ac1",
   "metadata": {},
   "source": [
    "Usage:"
   ]
  },
  {
   "cell_type": "markdown",
   "id": "e511a1de-9997-4d69-b8df-d6a4403ea8f0",
   "metadata": {},
   "source": [
    "All arrays must have the same number of rows.\n"
   ]
  },
  {
   "cell_type": "markdown",
   "id": "fd533ca7-fe53-4d54-ac1d-89966cf470da",
   "metadata": {},
   "source": [
    "It combines arrays by appending them side by side.\n"
   ]
  },
  {
   "cell_type": "code",
   "execution_count": 10,
   "id": "c0c4a40d-b8fe-4fdd-85bb-29eb1acd4003",
   "metadata": {},
   "outputs": [
    {
     "name": "stdout",
     "output_type": "stream",
     "text": [
      "Result of hstack:\n",
      " [[1 2 5 6]\n",
      " [3 4 7 8]]\n"
     ]
    }
   ],
   "source": [
    "import numpy as np\n",
    "\n",
    "# Define two 2D arrays\n",
    "array1 = np.array([[1, 2],\n",
    "                   [3, 4]])\n",
    "\n",
    "array2 = np.array([[5, 6],\n",
    "                   [7, 8]])\n",
    "\n",
    "# Stack arrays horizontally\n",
    "result_hstack = np.hstack((array1, array2))\n",
    "\n",
    "print(\"Result of hstack:\\n\", result_hstack)\n"
   ]
  },
  {
   "cell_type": "markdown",
   "id": "1baaee8b-8f98-4645-a1fa-38c9fdb3d498",
   "metadata": {},
   "source": [
    "### 8. Explain the differences between fliplr() and flipud() methods in NumPy, including their effects on various array dimensions.\n"
   ]
  },
  {
   "cell_type": "markdown",
   "id": "aa2693cf-eb2e-4ca4-8039-0cf7161908fe",
   "metadata": {},
   "source": [
    "fliplr()"
   ]
  },
  {
   "cell_type": "markdown",
   "id": "5b617523-fa80-4ffe-b339-808fdbe6d17d",
   "metadata": {},
   "source": [
    "Purpose:\n",
    "\n",
    "fliplr() (flip left-right) flips an array horizontally, i.e., it reverses the order of elements along the second axis (axis 1). This function is applicable to 2D arrays and higher-dimensional arrays where the second axis is present."
   ]
  },
  {
   "cell_type": "markdown",
   "id": "82b4189f-5b81-4bd8-a6d2-9d2cc73863b3",
   "metadata": {},
   "source": [
    "Usage:"
   ]
  },
  {
   "cell_type": "markdown",
   "id": "e3920d00-661c-4469-89b0-689319e31b49",
   "metadata": {},
   "source": [
    "For a 2D array, fliplr() reverses the order of elements in each row."
   ]
  },
  {
   "cell_type": "markdown",
   "id": "7d39c450-2248-472b-a294-ffe3195c1621",
   "metadata": {},
   "source": [
    "For arrays with more than two dimensions, fliplr() operates on the second axis of the array.\n"
   ]
  },
  {
   "cell_type": "code",
   "execution_count": 12,
   "id": "87f11ec1-953c-4bdb-966b-68363804b4d3",
   "metadata": {},
   "outputs": [
    {
     "name": "stdout",
     "output_type": "stream",
     "text": [
      "Original Array:\n",
      " [[1 2 3]\n",
      " [4 5 6]]\n",
      "Result of fliplr:\n",
      " [[3 2 1]\n",
      " [6 5 4]]\n"
     ]
    }
   ],
   "source": [
    "import numpy as np\n",
    "\n",
    "# Define a 2D array\n",
    "array_2d = np.array([[1, 2, 3],\n",
    "                     [4, 5, 6]])\n",
    "\n",
    "# Flip left-right\n",
    "result_fliplr = np.fliplr(array_2d)\n",
    "\n",
    "print(\"Original Array:\\n\", array_2d)\n",
    "print(\"Result of fliplr:\\n\", result_fliplr)\n"
   ]
  },
  {
   "cell_type": "markdown",
   "id": "5c048546-5992-4b64-b5e5-38cc3a1f2374",
   "metadata": {},
   "source": [
    "flipud()"
   ]
  },
  {
   "cell_type": "markdown",
   "id": "af650010-6ed6-4b86-9e61-85f43187e397",
   "metadata": {},
   "source": [
    "Purpose:"
   ]
  },
  {
   "cell_type": "markdown",
   "id": "af8c39c6-849e-41c5-8261-d1e2fd677ec0",
   "metadata": {},
   "source": [
    "flipud() (flip up-down) flips an array vertically, i.e., it reverses the order of elements along the first axis (axis 0). This function is applicable to 2D arrays and higher-dimensional arrays where the first axis is present."
   ]
  },
  {
   "cell_type": "markdown",
   "id": "587d91ca-d012-447a-8d78-7ab75373d4eb",
   "metadata": {},
   "source": [
    "Usage:"
   ]
  },
  {
   "cell_type": "markdown",
   "id": "245a87b4-944a-4af3-8de2-a6d361f29dc7",
   "metadata": {},
   "source": [
    "For a 2D array, flipud() reverses the order of rows."
   ]
  },
  {
   "cell_type": "markdown",
   "id": "e2ac2122-f174-42d0-a531-6681b04d896a",
   "metadata": {},
   "source": [
    "For arrays with more than two dimensions, flipud() operates on the first axis of the array.\n"
   ]
  },
  {
   "cell_type": "code",
   "execution_count": 13,
   "id": "f8ff57e0-61df-45d2-8e29-4c2713411c88",
   "metadata": {},
   "outputs": [
    {
     "name": "stdout",
     "output_type": "stream",
     "text": [
      "Original Array:\n",
      " [[1 2 3]\n",
      " [4 5 6]]\n",
      "Result of flipud:\n",
      " [[4 5 6]\n",
      " [1 2 3]]\n"
     ]
    }
   ],
   "source": [
    "import numpy as np\n",
    "\n",
    "# Define a 2D array\n",
    "array_2d = np.array([[1, 2, 3],\n",
    "                     [4, 5, 6]])\n",
    "\n",
    "# Flip up-down\n",
    "result_flipud = np.flipud(array_2d)\n",
    "\n",
    "print(\"Original Array:\\n\", array_2d)\n",
    "print(\"Result of flipud:\\n\", result_flipud)\n"
   ]
  },
  {
   "cell_type": "markdown",
   "id": "eb361cec-4c0c-483c-95c4-586439441a0f",
   "metadata": {},
   "source": [
    "### 9. Discuss the functionality of the array_split() method in NumPy. How does it handle uneven splits?"
   ]
  },
  {
   "cell_type": "markdown",
   "id": "4d8d9483-266a-43be-9a9c-5fd9037d1c08",
   "metadata": {},
   "source": [
    "Functionality of array_split()"
   ]
  },
  {
   "cell_type": "code",
   "execution_count": null,
   "id": "af2fdcdb-3ddd-4be1-9691-f43cd3453a19",
   "metadata": {},
   "outputs": [],
   "source": [
    "numpy.array_split(ary, indices_or_sections, axis=0)\n"
   ]
  },
  {
   "cell_type": "markdown",
   "id": "bad56e89-21a8-4203-bf87-51cb73f1959e",
   "metadata": {},
   "source": [
    "Handling Uneven Splits"
   ]
  },
  {
   "cell_type": "markdown",
   "id": "aa978642-97df-4b1f-a1f3-182deb2f3dd0",
   "metadata": {},
   "source": [
    "xample 1: Splitting into Equal Parts"
   ]
  },
  {
   "cell_type": "code",
   "execution_count": 15,
   "id": "06ac2044-9736-438c-a82e-f09fbe30bec1",
   "metadata": {},
   "outputs": [
    {
     "name": "stdout",
     "output_type": "stream",
     "text": [
      "Array: [1 2 3 4 5 6 7 8 9]\n",
      "Result of array_split into 3 parts: [array([1, 2, 3]), array([4, 5, 6]), array([7, 8, 9])]\n"
     ]
    }
   ],
   "source": [
    "import numpy as np\n",
    "\n",
    "# Define an array\n",
    "array = np.array([1, 2, 3, 4, 5, 6, 7, 8, 9])\n",
    "\n",
    "# Split the array into 3 equal parts\n",
    "result = np.array_split(array, 3)\n",
    "\n",
    "print(\"Array:\", array)\n",
    "print(\"Result of array_split into 3 parts:\", result)\n"
   ]
  },
  {
   "cell_type": "markdown",
   "id": "bd4e8302-3ce2-4a71-842e-95e6973ff6e5",
   "metadata": {},
   "source": [
    "Example 2: Uneven Split"
   ]
  },
  {
   "cell_type": "code",
   "execution_count": 16,
   "id": "a5415f1c-d858-4cba-88cd-38dfa1066dd3",
   "metadata": {},
   "outputs": [
    {
     "name": "stdout",
     "output_type": "stream",
     "text": [
      "Array: [1 2 3 4 5 6 7 8 9]\n",
      "Result of array_split into 4 parts: [array([1, 2, 3]), array([4, 5]), array([6, 7]), array([8, 9])]\n"
     ]
    }
   ],
   "source": [
    "import numpy as np\n",
    "\n",
    "# Define an array\n",
    "array = np.array([1, 2, 3, 4, 5, 6, 7, 8, 9])\n",
    "\n",
    "# Split the array into 4 parts\n",
    "result = np.array_split(array, 4)\n",
    "\n",
    "print(\"Array:\", array)\n",
    "print(\"Result of array_split into 4 parts:\", result)\n"
   ]
  },
  {
   "cell_type": "markdown",
   "id": "4f854c66-f512-4e67-bdf8-581dfd0bde59",
   "metadata": {},
   "source": [
    "Example 3: Splitting with Specific Indices"
   ]
  },
  {
   "cell_type": "code",
   "execution_count": 17,
   "id": "8eca1f74-5db6-4b03-8610-d4d9740ed465",
   "metadata": {},
   "outputs": [
    {
     "name": "stdout",
     "output_type": "stream",
     "text": [
      "Array: [1 2 3 4 5 6 7 8 9]\n",
      "Result of array_split at indices 2 and 5: [array([1, 2]), array([3, 4, 5]), array([6, 7, 8, 9])]\n"
     ]
    }
   ],
   "source": [
    "import numpy as np\n",
    "\n",
    "# Define an array\n",
    "array = np.array([1, 2, 3, 4, 5, 6, 7, 8, 9])\n",
    "\n",
    "# Split the array at indices 2 and 5\n",
    "result = np.array_split(array, [2, 5])\n",
    "\n",
    "print(\"Array:\", array)\n",
    "print(\"Result of array_split at indices 2 and 5:\", result)\n"
   ]
  },
  {
   "cell_type": "markdown",
   "id": "aadc912e-2929-48d9-97ab-e3e2409b2fce",
   "metadata": {},
   "source": [
    "### 10. Explain the concepts of vectorization and broadcasting in NumPy. How do they contribute to efficient array operations?\n"
   ]
  },
  {
   "cell_type": "markdown",
   "id": "ba504930-9992-427d-988b-136ba24221dc",
   "metadata": {},
   "source": [
    "Vectorization"
   ]
  },
  {
   "cell_type": "markdown",
   "id": "558bd39f-4e41-492e-b3f0-7d1ea4d48e6f",
   "metadata": {},
   "source": [
    "Concept:"
   ]
  },
  {
   "cell_type": "markdown",
   "id": "d978f277-6ac5-4656-95b5-7c2a22d189ed",
   "metadata": {},
   "source": [
    "Vectorization refers to the practice of replacing explicit loops with vectorized operations on NumPy arrays. Instead of iterating over elements in a loop and applying operations one by one, vectorization allows you to apply operations to entire arrays at once."
   ]
  },
  {
   "cell_type": "markdown",
   "id": "78e9151c-481a-42b4-ad9e-55cfe558f66f",
   "metadata": {},
   "source": [
    "Benefits:"
   ]
  },
  {
   "cell_type": "markdown",
   "id": "d855f374-27f3-494b-9a61-7ce9f84ad09e",
   "metadata": {},
   "source": [
    "Performance: Vectorized operations are executed in compiled code, which is much faster than interpreted Python loops. NumPy utilizes optimized C and Fortran libraries to perform these operations efficiently."
   ]
  },
  {
   "cell_type": "markdown",
   "id": "4577b11c-9bbf-42ff-b121-cb316a9b7574",
   "metadata": {},
   "source": [
    "Simplicity: Code becomes more concise and readable, as vectorized operations can be expressed in a more straightforward manner."
   ]
  },
  {
   "cell_type": "markdown",
   "id": "939de32b-b7ce-4085-a461-9d8e3acd6983",
   "metadata": {},
   "source": [
    "Without vectorization:"
   ]
  },
  {
   "cell_type": "code",
   "execution_count": 18,
   "id": "b446bf98-5a10-4445-bfdf-bde840e2467d",
   "metadata": {},
   "outputs": [
    {
     "name": "stdout",
     "output_type": "stream",
     "text": [
      "Result without vectorization: [ 6  8 10 12]\n"
     ]
    }
   ],
   "source": [
    "import numpy as np\n",
    "\n",
    "# Define arrays\n",
    "a = np.array([1, 2, 3, 4])\n",
    "b = np.array([5, 6, 7, 8])\n",
    "\n",
    "# Initialize an empty array for results\n",
    "result = np.empty_like(a)\n",
    "\n",
    "# Perform element-wise addition using a loop\n",
    "for i in range(len(a)):\n",
    "    result[i] = a[i] + b[i]\n",
    "\n",
    "print(\"Result without vectorization:\", result)\n"
   ]
  },
  {
   "cell_type": "markdown",
   "id": "8271d4a7-36c0-47aa-84f7-dcf4a7027954",
   "metadata": {},
   "source": [
    "With vectorization:"
   ]
  },
  {
   "cell_type": "code",
   "execution_count": 19,
   "id": "d3cc2646-df38-4f20-8b25-a76190f789b6",
   "metadata": {},
   "outputs": [
    {
     "name": "stdout",
     "output_type": "stream",
     "text": [
      "Result with vectorization: [ 6  8 10 12]\n"
     ]
    }
   ],
   "source": [
    "import numpy as np\n",
    "\n",
    "# Define arrays\n",
    "a = np.array([1, 2, 3, 4])\n",
    "b = np.array([5, 6, 7, 8])\n",
    "\n",
    "# Perform element-wise addition using vectorization\n",
    "result = a + b\n",
    "\n",
    "print(\"Result with vectorization:\", result)\n"
   ]
  },
  {
   "cell_type": "markdown",
   "id": "d4393ab8-690e-4509-bc0d-cea25edf7e28",
   "metadata": {},
   "source": [
    "Broadcasting"
   ]
  },
  {
   "cell_type": "markdown",
   "id": "39d4c637-6706-4e78-b883-2c63449f5fa9",
   "metadata": {},
   "source": [
    "Concept:"
   ]
  },
  {
   "cell_type": "markdown",
   "id": "48649b4f-eaef-4012-b826-faa9d574af40",
   "metadata": {},
   "source": [
    "Broadcasting is a technique used to perform element-wise operations on arrays of different shapes. It allows NumPy to perform operations on arrays with different dimensions by automatically expanding the smaller array to match the shape of the larger array.\n"
   ]
  },
  {
   "cell_type": "markdown",
   "id": "d22ec875-ab70-4ff4-9802-1eab3184d24e",
   "metadata": {},
   "source": [
    "Rules:"
   ]
  },
  {
   "cell_type": "markdown",
   "id": "7b2e760f-8298-49f4-b038-f2e8b997e882",
   "metadata": {},
   "source": [
    "Dimension Compatibility: The dimensions of the arrays being operated on must be compatible. Two dimensions are compatible if they are equal, or one of them is 1."
   ]
  },
  {
   "cell_type": "markdown",
   "id": "6de73fae-6a3a-47a7-bbb2-8d63b86bece9",
   "metadata": {},
   "source": [
    "Broadcasting: NumPy implicitly broadcasts the smaller array to match the shape of the larger array without making copies of data."
   ]
  },
  {
   "cell_type": "code",
   "execution_count": 20,
   "id": "85d85d8d-256c-4129-8135-e6807fdb6a47",
   "metadata": {},
   "outputs": [
    {
     "name": "stdout",
     "output_type": "stream",
     "text": [
      "Result with broadcasting:\n",
      " [[11 22 33]\n",
      " [14 25 36]]\n"
     ]
    }
   ],
   "source": [
    "import numpy as np\n",
    "\n",
    "# Define a 2D array and a 1D array\n",
    "array_2d = np.array([[1, 2, 3],\n",
    "                     [4, 5, 6]])\n",
    "array_1d = np.array([10, 20, 30])\n",
    "\n",
    "# Add the 1D array to each row of the 2D array\n",
    "result = array_2d + array_1d\n",
    "\n",
    "print(\"Result with broadcasting:\\n\", result)\n"
   ]
  },
  {
   "cell_type": "markdown",
   "id": "9239f595-5cd2-4a8d-901f-96ef3fe5cbf4",
   "metadata": {},
   "source": [
    "### 1.Create a 3x3 NumPy array with random integers between 1 and 100. Then, interchange its rows and columns."
   ]
  },
  {
   "cell_type": "code",
   "execution_count": 21,
   "id": "abdf3202-ac06-4dd3-ba93-039330906a86",
   "metadata": {},
   "outputs": [
    {
     "name": "stdout",
     "output_type": "stream",
     "text": [
      "Original Array:\n",
      " [[81 21 10]\n",
      " [95  8 84]\n",
      " [67  6 65]]\n",
      "\n",
      "Transposed Array:\n",
      " [[81 95 67]\n",
      " [21  8  6]\n",
      " [10 84 65]]\n"
     ]
    }
   ],
   "source": [
    "import numpy as np\n",
    "\n",
    "# Step 1: Create a 3x3 NumPy array with random integers between 1 and 100\n",
    "array = np.random.randint(1, 101, size=(3, 3))\n",
    "\n",
    "# Step 2: Interchange rows and columns (transpose the array)\n",
    "transposed_array = array.T\n",
    "\n",
    "print(\"Original Array:\\n\", array)\n",
    "print(\"\\nTransposed Array:\\n\", transposed_array)\n"
   ]
  },
  {
   "cell_type": "markdown",
   "id": "e6bb689b-6522-4d53-b1c2-5f69a21c26d4",
   "metadata": {},
   "source": [
    " ### 2. Generate a 1D NumPy array with 10 elements. Reshape it into a 2x5 array, then into a 5x2 array"
   ]
  },
  {
   "cell_type": "code",
   "execution_count": 22,
   "id": "2cfb1b25-474a-4c0c-b2cb-e8e62f7b804d",
   "metadata": {},
   "outputs": [
    {
     "name": "stdout",
     "output_type": "stream",
     "text": [
      "Original 1D Array:\n",
      " [0 1 2 3 4 5 6 7 8 9]\n",
      "\n",
      "Reshaped 2x5 Array:\n",
      " [[0 1 2 3 4]\n",
      " [5 6 7 8 9]]\n",
      "\n",
      "Reshaped 5x2 Array:\n",
      " [[0 1]\n",
      " [2 3]\n",
      " [4 5]\n",
      " [6 7]\n",
      " [8 9]]\n"
     ]
    }
   ],
   "source": [
    "import numpy as np\n",
    "\n",
    "# Step 1: Generate a 1D NumPy array with 10 elements\n",
    "array_1d = np.arange(10)\n",
    "\n",
    "# Step 2: Reshape the 1D array into a 2x5 array\n",
    "array_2x5 = array_1d.reshape(2, 5)\n",
    "\n",
    "# Step 3: Reshape the 2x5 array into a 5x2 array\n",
    "array_5x2 = array_2x5.reshape(5, 2)\n",
    "\n",
    "print(\"Original 1D Array:\\n\", array_1d)\n",
    "print(\"\\nReshaped 2x5 Array:\\n\", array_2x5)\n",
    "print(\"\\nReshaped 5x2 Array:\\n\", array_5x2)\n"
   ]
  },
  {
   "cell_type": "markdown",
   "id": "fa821c32-2bca-49b0-9364-a99025497cbd",
   "metadata": {},
   "source": [
    "### 3. Create a 4x4 NumPy array with random float values. Add a border of zeros around it, resulting in a 6x6 array"
   ]
  },
  {
   "cell_type": "code",
   "execution_count": 23,
   "id": "85206d96-b760-45e9-aeca-ea566cceaf82",
   "metadata": {},
   "outputs": [
    {
     "name": "stdout",
     "output_type": "stream",
     "text": [
      "Original 4x4 Array:\n",
      " [[0.23898405 0.15857191 0.4972909  0.74528428]\n",
      " [0.17036456 0.49765941 0.52641254 0.34944323]\n",
      " [0.38619416 0.45007945 0.20993028 0.90043457]\n",
      " [0.94468585 0.70479383 0.90610648 0.43626451]]\n",
      "\n",
      "6x6 Array with Border:\n",
      " [[0.         0.         0.         0.         0.         0.        ]\n",
      " [0.         0.23898405 0.15857191 0.4972909  0.74528428 0.        ]\n",
      " [0.         0.17036456 0.49765941 0.52641254 0.34944323 0.        ]\n",
      " [0.         0.38619416 0.45007945 0.20993028 0.90043457 0.        ]\n",
      " [0.         0.94468585 0.70479383 0.90610648 0.43626451 0.        ]\n",
      " [0.         0.         0.         0.         0.         0.        ]]\n"
     ]
    }
   ],
   "source": [
    "import numpy as np\n",
    "\n",
    "# Step 1: Create a 4x4 NumPy array with random float values\n",
    "array_4x4 = np.random.rand(4, 4)\n",
    "\n",
    "# Step 2: Add a border of zeros around the 4x4 array\n",
    "# 'pad_width' specifies the number of rows/columns to add on each side\n",
    "array_with_border = np.pad(array_4x4, pad_width=1, mode='constant', constant_values=0)\n",
    "\n",
    "print(\"Original 4x4 Array:\\n\", array_4x4)\n",
    "print(\"\\n6x6 Array with Border:\\n\", array_with_border)\n"
   ]
  },
  {
   "cell_type": "markdown",
   "id": "5423e13e-266b-4a13-a05c-f81a4732c870",
   "metadata": {},
   "source": [
    "### 4. Using NumPy, create an array of integers from 10 to 60 with a step of 5."
   ]
  },
  {
   "cell_type": "code",
   "execution_count": 24,
   "id": "6e69ff99-5819-4f66-8042-3d8a0de91cc1",
   "metadata": {},
   "outputs": [
    {
     "name": "stdout",
     "output_type": "stream",
     "text": [
      "Array from 10 to 60 with a step of 5:\n",
      " [10 15 20 25 30 35 40 45 50 55 60]\n"
     ]
    }
   ],
   "source": [
    "import numpy as np\n",
    "\n",
    "# Create an array of integers from 10 to 60 with a step of 5\n",
    "array = np.arange(10, 61, 5)\n",
    "\n",
    "print(\"Array from 10 to 60 with a step of 5:\\n\", array)\n"
   ]
  },
  {
   "cell_type": "markdown",
   "id": "0fc01ef6-ad9c-4585-bd64-2601bbda656a",
   "metadata": {},
   "source": [
    "### 5. Create a NumPy array of strings ['python', 'numpy', 'pandas']. Apply different case transformations (uppercase, lowercase, title case, etc.) to each element.\n"
   ]
  },
  {
   "cell_type": "code",
   "execution_count": 25,
   "id": "b3879c97-0dfa-46f3-be4d-56e030e3db56",
   "metadata": {},
   "outputs": [
    {
     "name": "stdout",
     "output_type": "stream",
     "text": [
      "Original Array:\n",
      " ['python' 'numpy' 'pandas']\n",
      "\n",
      "Uppercase:\n",
      " ['PYTHON' 'NUMPY' 'PANDAS']\n",
      "\n",
      "Lowercase:\n",
      " ['python' 'numpy' 'pandas']\n",
      "\n",
      "Title Case:\n",
      " ['Python' 'Numpy' 'Pandas']\n",
      "\n",
      "Capitalize:\n",
      " ['Python' 'Numpy' 'Pandas']\n"
     ]
    }
   ],
   "source": [
    "import numpy as np\n",
    "\n",
    "# Create a NumPy array of strings\n",
    "array = np.array(['python', 'numpy', 'pandas'])\n",
    "\n",
    "# Apply different case transformations\n",
    "uppercase_array = np.char.upper(array)\n",
    "lowercase_array = np.char.lower(array)\n",
    "titlecase_array = np.char.title(array)\n",
    "capitalize_array = np.char.capitalize(array)\n",
    "\n",
    "print(\"Original Array:\\n\", array)\n",
    "print(\"\\nUppercase:\\n\", uppercase_array)\n",
    "print(\"\\nLowercase:\\n\", lowercase_array)\n",
    "print(\"\\nTitle Case:\\n\", titlecase_array)\n",
    "print(\"\\nCapitalize:\\n\", capitalize_array)\n"
   ]
  },
  {
   "cell_type": "markdown",
   "id": "341880aa-d2b8-4a7d-899e-fc68537abe61",
   "metadata": {},
   "source": [
    " ### 6. Generate a NumPy array of words. Insert a space between each character of every word in the array"
   ]
  },
  {
   "cell_type": "code",
   "execution_count": 26,
   "id": "a4be8572-faea-417b-b391-6ed3aa091174",
   "metadata": {},
   "outputs": [
    {
     "name": "stdout",
     "output_type": "stream",
     "text": [
      "Original Array:\n",
      " ['python' 'numpy' 'pandas']\n",
      "\n",
      "Array with Spaces Between Characters:\n",
      " ['p y t h o n' 'n u m p y' 'p a n d a s']\n"
     ]
    }
   ],
   "source": [
    "import numpy as np\n",
    "\n",
    "# Generate a NumPy array of words\n",
    "words_array = np.array(['python', 'numpy', 'pandas'])\n",
    "\n",
    "# Insert a space between each character of every word\n",
    "spaced_words_array = np.char.join(' ', words_array)\n",
    "\n",
    "print(\"Original Array:\\n\", words_array)\n",
    "print(\"\\nArray with Spaces Between Characters:\\n\", spaced_words_array)\n"
   ]
  },
  {
   "cell_type": "markdown",
   "id": "d6b47299-338e-40ca-b019-d9fcdbd21e3d",
   "metadata": {},
   "source": [
    "### 7. Create two 2D NumPy arrays and perform element-wise addition, subtraction, multiplication, and division."
   ]
  },
  {
   "cell_type": "code",
   "execution_count": 27,
   "id": "9716f901-f016-4866-a6e1-a8cf8770743a",
   "metadata": {},
   "outputs": [
    {
     "name": "stdout",
     "output_type": "stream",
     "text": [
      "Array 1:\n",
      " [[1 2 3]\n",
      " [4 5 6]]\n",
      "\n",
      "Array 2:\n",
      " [[6 5 4]\n",
      " [3 2 1]]\n",
      "\n",
      "Element-wise Addition:\n",
      " [[7 7 7]\n",
      " [7 7 7]]\n",
      "\n",
      "Element-wise Subtraction:\n",
      " [[-5 -3 -1]\n",
      " [ 1  3  5]]\n",
      "\n",
      "Element-wise Multiplication:\n",
      " [[ 6 10 12]\n",
      " [12 10  6]]\n",
      "\n",
      "Element-wise Division:\n",
      " [[0.16666667 0.4        0.75      ]\n",
      " [1.33333333 2.5        6.        ]]\n"
     ]
    }
   ],
   "source": [
    "import numpy as np\n",
    "\n",
    "# Create two 2D NumPy arrays\n",
    "array1 = np.array([[1, 2, 3], [4, 5, 6]])\n",
    "array2 = np.array([[6, 5, 4], [3, 2, 1]])\n",
    "\n",
    "# Perform element-wise addition\n",
    "addition = array1 + array2\n",
    "\n",
    "# Perform element-wise subtraction\n",
    "subtraction = array1 - array2\n",
    "\n",
    "# Perform element-wise multiplication\n",
    "multiplication = array1 * array2\n",
    "\n",
    "# Perform element-wise division\n",
    "# Adding a small value to avoid division by zero errors\n",
    "division = array1 / (array2 + 1e-10)\n",
    "\n",
    "print(\"Array 1:\\n\", array1)\n",
    "print(\"\\nArray 2:\\n\", array2)\n",
    "print(\"\\nElement-wise Addition:\\n\", addition)\n",
    "print(\"\\nElement-wise Subtraction:\\n\", subtraction)\n",
    "print(\"\\nElement-wise Multiplication:\\n\", multiplication)\n",
    "print(\"\\nElement-wise Division:\\n\", division)\n"
   ]
  },
  {
   "cell_type": "markdown",
   "id": "96fedce9-b418-43dd-98c0-a8f88e655a34",
   "metadata": {},
   "source": [
    "### 8. Use NumPy to create a 5x5 identity matrix, then extract its diagonal elements."
   ]
  },
  {
   "cell_type": "code",
   "execution_count": 28,
   "id": "55654382-8cbe-43d2-8d21-df38d93a2063",
   "metadata": {},
   "outputs": [
    {
     "name": "stdout",
     "output_type": "stream",
     "text": [
      "5x5 Identity Matrix:\n",
      " [[1. 0. 0. 0. 0.]\n",
      " [0. 1. 0. 0. 0.]\n",
      " [0. 0. 1. 0. 0.]\n",
      " [0. 0. 0. 1. 0.]\n",
      " [0. 0. 0. 0. 1.]]\n",
      "\n",
      "Diagonal Elements:\n",
      " [1. 1. 1. 1. 1.]\n"
     ]
    }
   ],
   "source": [
    "import numpy as np\n",
    "\n",
    "# Create a 5x5 identity matrix\n",
    "identity_matrix = np.eye(5)\n",
    "\n",
    "# Extract the diagonal elements\n",
    "diagonal_elements = identity_matrix.diagonal()\n",
    "\n",
    "print(\"5x5 Identity Matrix:\\n\", identity_matrix)\n",
    "print(\"\\nDiagonal Elements:\\n\", diagonal_elements)\n"
   ]
  },
  {
   "cell_type": "markdown",
   "id": "57587a77-c2d2-4016-b9b2-ee51a0dc8cc9",
   "metadata": {},
   "source": [
    "### 9. Generate a NumPy array of 100 random integers between 0 and 1000. Find and display all prime numbers in this array.\n"
   ]
  },
  {
   "cell_type": "code",
   "execution_count": 29,
   "id": "8baf5fd6-52a1-4a9c-b962-69ae1f276144",
   "metadata": {},
   "outputs": [
    {
     "name": "stdout",
     "output_type": "stream",
     "text": [
      "Random Array:\n",
      " [735 494 622 559 255 181 454 628 277 597 626 982 925 648 990 433 361 435\n",
      " 906 428 681 678 860 622 714 791 637 562 403 880 994 555 581  34 877 516\n",
      " 359 678 194 553 835 830  22 810 554 957  46 332 704 444 898 367 349 951\n",
      " 109 207 190 974 135 587 852 852 573 941  75 328 935 772 465 243 921 478\n",
      " 700 888 673 473 147 144 612 685 218 988 399 723 311 403 902 474 209 873\n",
      " 872 910 994 941  83  46 316 712 418 847]\n",
      "\n",
      "Prime Numbers:\n",
      " [181 277 433 877 359 367 349 109 587 941 673 311 941  83]\n"
     ]
    }
   ],
   "source": [
    "import numpy as np\n",
    "\n",
    "# Function to check if a number is prime\n",
    "def is_prime(n):\n",
    "    if n <= 1:\n",
    "        return False\n",
    "    if n <= 3:\n",
    "        return True\n",
    "    if n % 2 == 0 or n % 3 == 0:\n",
    "        return False\n",
    "    i = 5\n",
    "    while i * i <= n:\n",
    "        if n % i == 0 or n % (i + 2) == 0:\n",
    "            return False\n",
    "        i += 6\n",
    "    return True\n",
    "\n",
    "# Generate a NumPy array of 100 random integers between 0 and 1000\n",
    "random_array = np.random.randint(0, 1001, size=100)\n",
    "\n",
    "# Find and display all prime numbers in the array\n",
    "prime_numbers = np.array([num for num in random_array if is_prime(num)])\n",
    "\n",
    "print(\"Random Array:\\n\", random_array)\n",
    "print(\"\\nPrime Numbers:\\n\", prime_numbers)\n"
   ]
  },
  {
   "cell_type": "markdown",
   "id": "3bf35296-b5f6-4004-ab71-4e71e975a5fc",
   "metadata": {},
   "source": [
    "### 10. Create a NumPy array representing daily temperatures for a month. Calculate and display the weekly average\n"
   ]
  },
  {
   "cell_type": "code",
   "execution_count": 30,
   "id": "4419af46-e1b8-49d1-883f-40e7fd7a420d",
   "metadata": {},
   "outputs": [
    {
     "name": "stdout",
     "output_type": "stream",
     "text": [
      "Daily Temperatures:\n",
      " [23 27 22 21 32 35 29 29 32 29 32 21 29 20 25 32 20 21 35 33 20 32 29 28\n",
      " 26 20 23 32]\n",
      "\n",
      "Weekly Temperatures:\n",
      " [[23 27 22 21 32 35 29]\n",
      " [29 32 29 32 21 29 20]\n",
      " [25 32 20 21 35 33 20]\n",
      " [32 29 28 26 20 23 32]]\n",
      "\n",
      "Weekly Averages:\n",
      " [27.         27.42857143 26.57142857 27.14285714]\n"
     ]
    }
   ],
   "source": [
    "import numpy as np\n",
    "\n",
    "# Generate random temperatures for 28 days\n",
    "daily_temperatures = np.random.randint(20, 36, size=28)\n",
    "\n",
    "# Reshape the array into a 2D array with 4 weeks (each week has 7 days)\n",
    "weekly_temperatures = daily_temperatures.reshape(4, 7)\n",
    "\n",
    "# Calculate the weekly averages\n",
    "weekly_averages = np.mean(weekly_temperatures, axis=1)\n",
    "\n",
    "print(\"Daily Temperatures:\\n\", daily_temperatures)\n",
    "print(\"\\nWeekly Temperatures:\\n\", weekly_temperatures)\n",
    "print(\"\\nWeekly Averages:\\n\", weekly_averages)\n"
   ]
  },
  {
   "cell_type": "code",
   "execution_count": null,
   "id": "a8442d1f-4081-46de-9230-8262be399f67",
   "metadata": {},
   "outputs": [],
   "source": []
  }
 ],
 "metadata": {
  "kernelspec": {
   "display_name": "Python 3 (ipykernel)",
   "language": "python",
   "name": "python3"
  },
  "language_info": {
   "codemirror_mode": {
    "name": "ipython",
    "version": 3
   },
   "file_extension": ".py",
   "mimetype": "text/x-python",
   "name": "python",
   "nbconvert_exporter": "python",
   "pygments_lexer": "ipython3",
   "version": "3.10.8"
  }
 },
 "nbformat": 4,
 "nbformat_minor": 5
}
