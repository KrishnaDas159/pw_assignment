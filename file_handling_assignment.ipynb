{
 "cells": [
  {
   "cell_type": "markdown",
   "id": "d404ca47-7209-41a6-9f28-77a2cf185b58",
   "metadata": {},
   "source": [
    "### 1. Discuss the scenarios where multithreading is preferable to multiprocessing and scenarios where multiprocessing is a better choice.\n"
   ]
  },
  {
   "cell_type": "markdown",
   "id": "2cc934be-f12e-4b2b-8375-ca67d15075ae",
   "metadata": {},
   "source": [
    "### Scenarios Where Multithreading is Preferable:"
   ]
  },
  {
   "cell_type": "markdown",
   "id": "0651d06b-4d12-447d-8b79-941b77ef1f3f",
   "metadata": {},
   "source": [
    "1.I/O-Bound Tasks:"
   ]
  },
  {
   "cell_type": "markdown",
   "id": "8df7fa22-dffe-4d65-9fb8-06db69286142",
   "metadata": {},
   "source": [
    "Description: Tasks that spend a lot of time waiting for input/output operations, such as reading from or writing to files, network communication, or database queries."
   ]
  },
  {
   "cell_type": "markdown",
   "id": "13da8fe8-ecb5-4510-98f1-b7416ea5577f",
   "metadata": {},
   "source": [
    "Reason: In multithreading, threads can be used to handle I/O-bound tasks efficiently because while one thread waits for I/O operations to complete, other threads can continue executing."
   ]
  },
  {
   "cell_type": "markdown",
   "id": "078eb138-0702-47cb-a057-792ee8f1ec4e",
   "metadata": {},
   "source": [
    "2.Shared Memory Access:"
   ]
  },
  {
   "cell_type": "markdown",
   "id": "4599e508-3053-4d46-852a-46627312dfaa",
   "metadata": {},
   "source": [
    "Description: When multiple threads need to access and modify shared data or resources."
   ]
  },
  {
   "cell_type": "markdown",
   "id": "7243299f-0bb9-4a19-8024-539eaa238fc1",
   "metadata": {},
   "source": [
    "Reason: Threads share the same memory space, which makes it easy to share data between threads without needing complex inter-process communication mechanisms."
   ]
  },
  {
   "cell_type": "markdown",
   "id": "25817871-2c1b-4fb2-8756-505e157a60e5",
   "metadata": {},
   "source": [
    "3.Lightweight Tasks:\n"
   ]
  },
  {
   "cell_type": "markdown",
   "id": "4dcb38df-0beb-4af8-a028-8676785dcc9f",
   "metadata": {},
   "source": [
    "Description: Tasks that are relatively lightweight in terms of computation."
   ]
  },
  {
   "cell_type": "markdown",
   "id": "b0cfc59d-ba1e-48f0-96d8-ae25cedb5ddf",
   "metadata": {},
   "source": [
    "Reason: Threads are lighter than processes, requiring less memory and overhead to create and manage.\n"
   ]
  },
  {
   "cell_type": "markdown",
   "id": "a48a3323-6710-484c-8d46-7193909e4f4c",
   "metadata": {},
   "source": [
    "4. Responsiveness:"
   ]
  },
  {
   "cell_type": "markdown",
   "id": "76e53798-d34e-47d5-a7a5-d4253de87f89",
   "metadata": {},
   "source": [
    "Description: Maintaining responsiveness in interactive applications.\n"
   ]
  },
  {
   "cell_type": "markdown",
   "id": "1b87f156-68d1-4e28-b18d-579dad6870aa",
   "metadata": {},
   "source": [
    "Reason: Multithreading can help keep the user interface responsive by performing background operations on separate threads."
   ]
  },
  {
   "cell_type": "markdown",
   "id": "68f59058-c18a-4633-b031-94a7bf8e8710",
   "metadata": {},
   "source": [
    "### Scenarios Where Multiprocessing is Preferable:"
   ]
  },
  {
   "cell_type": "markdown",
   "id": "6c89e576-6c90-40a1-9c94-fef0753a1027",
   "metadata": {},
   "source": [
    "1. CPU-Bound Tasks:"
   ]
  },
  {
   "cell_type": "markdown",
   "id": "63c777cf-9dad-4df4-9ab6-198a7446059b",
   "metadata": {},
   "source": [
    "Description: Tasks that require significant computational resources and involve heavy calculations or processing."
   ]
  },
  {
   "cell_type": "markdown",
   "id": "a9305a38-7dad-44fc-b18f-a3febfd6328e",
   "metadata": {},
   "source": [
    "Reason: Multiprocessing creates separate processes, each with its own Python interpreter and memory space, bypassing the GIL and allowing true parallel execution on multiple CPU cores."
   ]
  },
  {
   "cell_type": "markdown",
   "id": "d178888b-3f0f-42f4-a2a3-138d652fd096",
   "metadata": {},
   "source": [
    "2. Isolation of Processes:"
   ]
  },
  {
   "cell_type": "markdown",
   "id": "a26b3fd0-ce38-42b7-b28c-ece82dc8aed6",
   "metadata": {},
   "source": [
    "Description: When you need to isolate tasks to ensure that one task’s failure does not affect others.\n"
   ]
  },
  {
   "cell_type": "markdown",
   "id": "47b18ce7-a30c-4310-a1b3-415c89c6789a",
   "metadata": {},
   "source": [
    "Reason: Processes have separate memory spaces, so a crash in one process does not affect others."
   ]
  },
  {
   "cell_type": "markdown",
   "id": "f25871db-0b66-4682-9ea3-b5d3b314eb9d",
   "metadata": {},
   "source": [
    "3. Avoiding Shared State:"
   ]
  },
  {
   "cell_type": "markdown",
   "id": "2b4786dd-49f1-4cdf-a329-bb19ea198b87",
   "metadata": {},
   "source": [
    "Description: When tasks do not need to share data or need to avoid potential issues related to concurrent data access."
   ]
  },
  {
   "cell_type": "markdown",
   "id": "697cef77-a5d6-4dd8-add0-e4a389b8528e",
   "metadata": {},
   "source": [
    "Reason: Since processes do not share memory space, they avoid issues related to concurrent access and modification of shared resources.\n"
   ]
  },
  {
   "cell_type": "markdown",
   "id": "afd72473-2402-4526-b534-1cf1f71cafd1",
   "metadata": {},
   "source": [
    "4.Memory Limitations:"
   ]
  },
  {
   "cell_type": "markdown",
   "id": "341759fd-4b15-4fc7-bdc5-da6589b20c4d",
   "metadata": {},
   "source": [
    "Description: When tasks require a lot of memory and are better suited to separate memory spaces."
   ]
  },
  {
   "cell_type": "markdown",
   "id": "0ebb35a1-b57a-41c1-9ed9-33b31a5106b7",
   "metadata": {},
   "source": [
    "Reason: Processes have separate memory spaces, which can help manage large memory requirements more effectively.\n"
   ]
  },
  {
   "cell_type": "markdown",
   "id": "d232ff6d-71ea-443a-8afb-3eb4ccfa8143",
   "metadata": {},
   "source": [
    "### 2. Describe what a process pool is and how it helps in managing multiple processes efficiently."
   ]
  },
  {
   "cell_type": "markdown",
   "id": "0ad307c0-f98d-4168-9d67-e46cae0a43f8",
   "metadata": {},
   "source": [
    "A process pool is a collection of pre-created, reusable processes that are managed and utilized to perform concurrent tasks. It is a technique used to manage multiple processes efficiently, avoiding the overhead of frequently creating and destroying processes."
   ]
  },
  {
   "cell_type": "markdown",
   "id": "ae731d86-2da2-4b76-b8da-48007757e87b",
   "metadata": {},
   "source": [
    "Benefits of Using a Process Pool:"
   ]
  },
  {
   "cell_type": "markdown",
   "id": "abc23afe-bfc4-4e9c-a2d6-8ed243f2c593",
   "metadata": {},
   "source": [
    "1. Efficiency:"
   ]
  },
  {
   "cell_type": "markdown",
   "id": "283db8bb-9ecb-49d2-b846-404052768a19",
   "metadata": {},
   "source": [
    "Reduces the overhead of creating and destroying processes for each task, leading to more efficient use of system resources."
   ]
  },
  {
   "cell_type": "markdown",
   "id": "05d4c82a-2338-450d-9660-9e5917ad8333",
   "metadata": {},
   "source": [
    "2. Resource Utilization:"
   ]
  },
  {
   "cell_type": "markdown",
   "id": "8d14d60c-629a-4ce3-87ac-58ce462f13f4",
   "metadata": {},
   "source": [
    "Ensures that a fixed number of processes are available to handle tasks, avoiding resource contention and managing system load effectively."
   ]
  },
  {
   "cell_type": "markdown",
   "id": "7dc37e12-0861-48b6-baf6-96326f9d31a8",
   "metadata": {},
   "source": [
    "3.Concurrency:"
   ]
  },
  {
   "cell_type": "markdown",
   "id": "c17d3edc-b36a-47d4-b823-32ccd5d0b0c7",
   "metadata": {},
   "source": [
    "Allows multiple tasks to be processed concurrently, improving performance for parallelizable tasks.\n"
   ]
  },
  {
   "cell_type": "markdown",
   "id": "5fc20fa4-0e9c-4d42-ab91-5f359a2a75ce",
   "metadata": {},
   "source": [
    "4.Simplicity:"
   ]
  },
  {
   "cell_type": "markdown",
   "id": "31f41c45-6cee-446d-aeb8-121c4caecbdc",
   "metadata": {},
   "source": [
    "Simplifies process management by handling process creation, task assignment, and lifecycle management within the pool."
   ]
  },
  {
   "cell_type": "markdown",
   "id": "e86f2e05-5941-4e56-acb7-29bd57a22059",
   "metadata": {},
   "source": [
    "### 3. Explain what multiprocessing is and why it is used in Python programs."
   ]
  },
  {
   "cell_type": "markdown",
   "id": "b2633705-c500-42c3-97a3-a0aa02794e65",
   "metadata": {},
   "source": [
    "Multiprocessing is a technique used to achieve parallelism by executing multiple processes simultaneously. In the context of Python programming, it involves running multiple processes in parallel to perform tasks that are computationally intensive or need to be executed concurrently.\n",
    "\n"
   ]
  },
  {
   "cell_type": "markdown",
   "id": "6566802d-0c2a-48f3-89c8-776ef2c1698c",
   "metadata": {},
   "source": [
    "Why Multiprocessing is Used in Python:"
   ]
  },
  {
   "cell_type": "markdown",
   "id": "360c35da-cf3a-4e8b-8bca-a5edd9a8c799",
   "metadata": {},
   "source": [
    "1.Bypassing the Global Interpreter Lock (GIL):"
   ]
  },
  {
   "cell_type": "markdown",
   "id": "324a0cf2-36b5-4b84-8467-50f747367530",
   "metadata": {},
   "source": [
    "Description: In CPython (the default Python implementation), the GIL allows only one thread to execute Python bytecode at a time, which can be a bottleneck for CPU-bound tasks."
   ]
  },
  {
   "cell_type": "markdown",
   "id": "c161646b-3572-435b-b220-408ff4983130",
   "metadata": {},
   "source": [
    "Benefit: Multiprocessing bypasses the GIL by using separate processes, each with its own Python interpreter, allowing true parallel execution on multiple CPU cores."
   ]
  },
  {
   "cell_type": "markdown",
   "id": "1def132b-15b1-43e1-bdf7-ae733a83c067",
   "metadata": {},
   "source": [
    "2.Improving Performance for CPU-Bound Tasks:\n"
   ]
  },
  {
   "cell_type": "markdown",
   "id": "e6b2b8d6-0d06-482b-9a0e-777dea6801d1",
   "metadata": {},
   "source": [
    "Description: CPU-bound tasks are those that require extensive computation and can benefit from parallel execution."
   ]
  },
  {
   "cell_type": "markdown",
   "id": "bae69771-0c89-4747-9d99-443b7625614b",
   "metadata": {},
   "source": [
    "Benefit: Multiprocessing allows these tasks to be divided among multiple processes, each running on a different core, improving overall performance and reducing computation time."
   ]
  },
  {
   "cell_type": "markdown",
   "id": "9c534117-552e-4817-8b58-a48255f4e196",
   "metadata": {},
   "source": [
    "3. Task Isolation:"
   ]
  },
  {
   "cell_type": "markdown",
   "id": "91eaee81-62bb-4096-81f3-b2a3a5ea10bb",
   "metadata": {},
   "source": [
    "Description: Processes are isolated from each other, which can prevent issues related to concurrent data access and modification."
   ]
  },
  {
   "cell_type": "markdown",
   "id": "74e3b900-8eef-4c6e-9ef1-4070ae4dc271",
   "metadata": {},
   "source": [
    "Benefit: Helps in running independent tasks without risking interference or corruption of shared data."
   ]
  },
  {
   "cell_type": "markdown",
   "id": "57c238e6-2cf5-4b84-8bb1-dde52399f5c8",
   "metadata": {},
   "source": [
    "4. Handling Long-Running Tasks:"
   ]
  },
  {
   "cell_type": "markdown",
   "id": "c8a5c5ee-a770-4cdc-9adc-0a274b4efee7",
   "metadata": {},
   "source": [
    "Description: Long-running or computationally intensive tasks can be offloaded to separate processes to avoid blocking the main program."
   ]
  },
  {
   "cell_type": "markdown",
   "id": "5d999ebd-4d56-411c-a9ad-83597471e4d5",
   "metadata": {},
   "source": [
    "Benefit: Improves responsiveness and efficiency of applications by running background tasks in parallel."
   ]
  },
  {
   "cell_type": "code",
   "execution_count": 1,
   "id": "73290751-2ed7-4f3a-8e10-35ea38b98ebd",
   "metadata": {},
   "outputs": [
    {
     "name": "stdout",
     "output_type": "stream",
     "text": [
      "Process 0 is running\n",
      "Process 1 is running\n",
      "Process 2 is running\n",
      "Process 3 is running\n"
     ]
    }
   ],
   "source": [
    "from multiprocessing import Process\n",
    "\n",
    "def worker(number):\n",
    "    \"\"\"Function to be executed by each process.\"\"\"\n",
    "    print(f'Process {number} is running')\n",
    "\n",
    "def main():\n",
    "    processes = []\n",
    "    \n",
    "    # Create and start 4 processes\n",
    "    for i in range(4):\n",
    "        process = Process(target=worker, args=(i,))\n",
    "        process.start()\n",
    "        processes.append(process)\n",
    "    \n",
    "    # Wait for all processes to complete\n",
    "    for process in processes:\n",
    "        process.join()\n",
    "\n",
    "if __name__ == \"__main__\":\n",
    "    main()\n"
   ]
  },
  {
   "cell_type": "markdown",
   "id": "58b58364-23f0-4400-a4b7-072b1ae8ab9c",
   "metadata": {},
   "source": [
    "### 4. Write a Python program using multithreading where one thread adds numbers to a list, and another thread removes numbers from the list. Implement a mechanism to avoid race conditions using threading.Lock.\n"
   ]
  },
  {
   "cell_type": "code",
   "execution_count": null,
   "id": "0f0dec59-d149-410d-8500-e99c5373a2c8",
   "metadata": {},
   "outputs": [],
   "source": [
    "import threading\n",
    "import time\n",
    "\n",
    "# Shared list and lock\n",
    "shared_list = []\n",
    "lock = threading.Lock()\n",
    "\n",
    "def add_numbers():\n",
    "    global shared_list\n",
    "    for i in range(10):\n",
    "        with lock:\n",
    "            shared_list.append(i)\n",
    "            print(f\"Added {i} to list: {shared_list}\")\n",
    "        time.sleep(0.5)  # Simulate some work\n",
    "\n",
    "def remove_numbers():\n",
    "    global shared_list\n",
    "    while True:\n",
    "        with lock:\n",
    "            if shared_list:\n",
    "                removed = shared_list.pop(0)\n",
    "                print(f\"Removed {removed} from list: {shared_list}\")\n",
    "            else:\n",
    "                print(\"List is empty, waiting...\")\n",
    "                time.sleep(1)  # Wait before checking again\n",
    "\n",
    "def main():\n",
    "    # Create and start threads\n",
    "    adder_thread = threading.Thread(target=add_numbers)\n",
    "    remover_thread = threading.Thread(target=remove_numbers)\n",
    "\n",
    "    adder_thread.start()\n",
    "    remover_thread.start()\n",
    "\n",
    "    # Wait for threads to complete\n",
    "    adder_thread.join()\n",
    "    remover_thread.join()\n",
    "\n",
    "if __name__ == \"__main__\":\n",
    "    main()\n"
   ]
  },
  {
   "cell_type": "markdown",
   "id": "def6f488-4f69-40b8-9c74-fd6dc43de5e0",
   "metadata": {},
   "source": [
    "### 5. Describe the methods and tools available in Python for safely sharing data between threads and processes.\n"
   ]
  },
  {
   "cell_type": "markdown",
   "id": "a06e13ca-5104-49f2-8eff-4d0f339d6a3e",
   "metadata": {},
   "source": [
    "a. threading.Lock"
   ]
  },
  {
   "cell_type": "code",
   "execution_count": null,
   "id": "d2ec7f2e-74f7-4c71-ab1e-173d76e41f19",
   "metadata": {},
   "outputs": [],
   "source": [
    "import threading\n",
    "\n",
    "lock = threading.Lock()\n",
    "shared_resource = 0\n",
    "\n",
    "def increment():\n",
    "    global shared_resource\n",
    "    with lock:\n",
    "        for _ in range(1000):\n",
    "            shared_resource += 1\n"
   ]
  },
  {
   "cell_type": "markdown",
   "id": "9ad9f1fe-814d-4823-b37a-48678b6d7ed2",
   "metadata": {},
   "source": [
    "b. threading.RLock"
   ]
  },
  {
   "cell_type": "code",
   "execution_count": null,
   "id": "97460764-a683-4f70-89ea-eca9288c77b7",
   "metadata": {},
   "outputs": [],
   "source": [
    "import threading\n",
    "\n",
    "rlock = threading.RLock()\n",
    "shared_resource = 0\n",
    "\n",
    "def increment():\n",
    "    global shared_resource\n",
    "    with rlock:\n",
    "        for _ in range(1000):\n",
    "            with rlock:\n",
    "                shared_resource += 1\n"
   ]
  },
  {
   "cell_type": "markdown",
   "id": "f3ad0493-d1f9-4aef-b5fe-aad5255508c9",
   "metadata": {},
   "source": [
    "c. threading.Condition"
   ]
  },
  {
   "cell_type": "code",
   "execution_count": null,
   "id": "919479df-814b-4e8c-9ca4-83a730bb3767",
   "metadata": {},
   "outputs": [],
   "source": [
    "import threading\n",
    "\n",
    "condition = threading.Condition()\n",
    "shared_resource = []\n",
    "\n",
    "def producer():\n",
    "    with condition:\n",
    "        shared_resource.append(1)\n",
    "        condition.notify()  # Notify other threads that the condition is met\n",
    "\n",
    "def consumer():\n",
    "    with condition:\n",
    "        while not shared_resource:\n",
    "            condition.wait()  # Wait until shared_resource is updated\n",
    "        shared_resource.pop()\n"
   ]
  },
  {
   "cell_type": "markdown",
   "id": "a90f3384-49c2-426c-9890-9fb85283c06f",
   "metadata": {},
   "source": [
    "d. threading.Event"
   ]
  },
  {
   "cell_type": "code",
   "execution_count": null,
   "id": "4c47917c-18d1-4660-822b-eece9c12697e",
   "metadata": {},
   "outputs": [],
   "source": [
    "import threading\n",
    "\n",
    "event = threading.Event()\n",
    "\n",
    "def wait_for_event():\n",
    "    print(\"Waiting for event...\")\n",
    "    event.wait()  # Block until the event is set\n",
    "    print(\"Event occurred!\")\n",
    "\n",
    "def trigger_event():\n",
    "    print(\"Triggering event...\")\n",
    "    event.set()  # Set the event, unblocking waiting threads\n"
   ]
  },
  {
   "cell_type": "markdown",
   "id": "fd6ac85e-1370-46e1-b3ed-476931236c9e",
   "metadata": {},
   "source": [
    "### 2. Multiprocessing Tools"
   ]
  },
  {
   "cell_type": "markdown",
   "id": "2f87d803-4163-4951-b6f4-7c36c1f05c4d",
   "metadata": {},
   "source": [
    "a. multiprocessing.Lock"
   ]
  },
  {
   "cell_type": "code",
   "execution_count": null,
   "id": "2fb95ada-be83-484f-a8e2-5b3ba8158b86",
   "metadata": {},
   "outputs": [],
   "source": [
    "from multiprocessing import Lock, Process\n",
    "\n",
    "lock = Lock()\n",
    "shared_resource = 0\n",
    "\n",
    "def increment():\n",
    "    global shared_resource\n",
    "    with lock:\n",
    "        for _ in range(1000):\n",
    "            shared_resource += 1\n"
   ]
  },
  {
   "cell_type": "markdown",
   "id": "dceb8b93-2aa7-4926-af17-b110000c7864",
   "metadata": {},
   "source": [
    "b. multiprocessing.Queue"
   ]
  },
  {
   "cell_type": "markdown",
   "id": "b15fad1a-8f12-4813-8dc7-925719ee2f9c",
   "metadata": {},
   "source": [
    "from multiprocessing import Queue, Process\n",
    "\n",
    "def producer(queue):\n",
    "    for i in range(5):\n",
    "        queue.put(i)  # Put items into the queue\n",
    "\n",
    "def consumer(queue):\n",
    "    while True:\n",
    "        item = queue.get()  # Get items from the queue\n",
    "        if item is None:\n",
    "            break\n",
    "        print(f\"Consumed {item}\")\n",
    "\n",
    "if __name__ == \"__main__\":\n",
    "    q = Queue()\n",
    "    p = Process(target=producer, args=(q,))\n",
    "    c = Process(target=consumer, args=(q,))\n",
    "\n",
    "    p.start()\n",
    "    c.start()\n",
    "\n",
    "    p.join()\n",
    "    q.put(None)  # Signal consumer to exit\n",
    "    c.join()\n"
   ]
  },
  {
   "cell_type": "markdown",
   "id": "c6ba0d4f-1738-4244-8057-ffc9a8bd93be",
   "metadata": {},
   "source": [
    "c. multiprocessing.Manager"
   ]
  },
  {
   "cell_type": "code",
   "execution_count": null,
   "id": "d8de8259-da74-498e-98ab-3735f1d10ff3",
   "metadata": {},
   "outputs": [],
   "source": [
    "from multiprocessing import Manager, Process\n",
    "\n",
    "def modify_list(shared_list):\n",
    "    shared_list.append('item')\n",
    "\n",
    "if __name__ == \"__main__\":\n",
    "    with Manager() as manager:\n",
    "        shared_list = manager.list()\n",
    "        p = Process(target=modify_list, args=(shared_list,))\n",
    "        p.start()\n",
    "        p.join()\n",
    "        print(shared_list)\n"
   ]
  },
  {
   "cell_type": "markdown",
   "id": "76963ad1-da0e-441f-ab03-e5a5a402f919",
   "metadata": {},
   "source": [
    "d. multiprocessing.Pipe"
   ]
  },
  {
   "cell_type": "code",
   "execution_count": null,
   "id": "8e68eb9f-98ed-4165-ac9c-454a664b4875",
   "metadata": {},
   "outputs": [],
   "source": [
    "from multiprocessing import Pipe, Process\n",
    "\n",
    "def send_data(conn):\n",
    "    conn.send(\"Hello from the sender\")\n",
    "    conn.close()\n",
    "\n",
    "def receive_data(conn):\n",
    "    print(conn.recv())\n",
    "    conn.close()\n",
    "\n",
    "if __name__ == \"__main__\":\n",
    "    parent_conn, child_conn = Pipe()\n",
    "    sender = Process(target=send_data, args=(child_conn,))\n",
    "    receiver = Process(target=receive_data, args=(parent_conn,))\n",
    "\n",
    "    sender.start()\n",
    "    receiver.start()\n",
    "\n",
    "    sender.join()\n",
    "    receiver.join()\n"
   ]
  },
  {
   "cell_type": "markdown",
   "id": "5e28a5d6-e0ea-4046-a893-0b3b611bc209",
   "metadata": {},
   "source": [
    "### 6. Discuss why it’s crucial to handle exceptions in concurrent programs and the techniques available for doing so.\n"
   ]
  },
  {
   "cell_type": "markdown",
   "id": "edc5be41-b2bc-486d-b225-5cfc82225136",
   "metadata": {},
   "source": [
    "Handling exceptions in concurrent programs is crucial for several reasons:"
   ]
  },
  {
   "cell_type": "markdown",
   "id": "2804166c-41e6-4e44-88c1-3c51c73cfae5",
   "metadata": {},
   "source": [
    "1.Error Isolation:"
   ]
  },
  {
   "cell_type": "markdown",
   "id": "4eb5e762-2998-487c-9143-9ff5dfaacb9f",
   "metadata": {},
   "source": [
    "Description: In concurrent programs, errors in one thread or process can potentially affect other threads or processes if not handled properly."
   ]
  },
  {
   "cell_type": "markdown",
   "id": "f92e0f78-1d50-487b-8e64-a427b89bf035",
   "metadata": {},
   "source": [
    "Impact: Proper exception handling helps in isolating errors, preventing them from propagating and affecting the overall stability of the application."
   ]
  },
  {
   "cell_type": "markdown",
   "id": "fcef3a2c-39e3-4599-83e8-ae82fc60dae3",
   "metadata": {},
   "source": [
    "2. Maintaining Program Integrity:"
   ]
  },
  {
   "cell_type": "markdown",
   "id": "adfabce4-6bcb-4f35-9a7a-3523bd5db304",
   "metadata": {},
   "source": [
    "Description: Unhandled exceptions can lead to crashes, inconsistent states, or data corruption."
   ]
  },
  {
   "cell_type": "markdown",
   "id": "4bb56ea4-6713-443b-a174-7de8a7b39f25",
   "metadata": {},
   "source": [
    "Impact: Exception handling ensures that the program continues to operate smoothly or fails gracefully, maintaining data integrity and application stability."
   ]
  },
  {
   "cell_type": "markdown",
   "id": "a44ab7f2-01cc-45fb-a8e1-5f1456ecd6e5",
   "metadata": {},
   "source": [
    "3.Resource Management:"
   ]
  },
  {
   "cell_type": "markdown",
   "id": "20435e5c-18cf-4079-9174-e6cbe5654cb4",
   "metadata": {},
   "source": [
    "Description: Concurrent programs often involve shared resources like files, sockets, and memory."
   ]
  },
  {
   "cell_type": "markdown",
   "id": "2b8f0a67-ef77-4c0d-90c4-5cd8d9c1e123",
   "metadata": {},
   "source": [
    "Impact: Handling exceptions ensures that resources are properly cleaned up and released, preventing resource leaks or deadlocks.\n"
   ]
  },
  {
   "cell_type": "markdown",
   "id": "d72cb034-7f37-4f9f-988c-c1ed3ee89212",
   "metadata": {},
   "source": [
    "4.Debugging and Monitoring:"
   ]
  },
  {
   "cell_type": "markdown",
   "id": "c37c5b87-bdba-4124-8074-ed26a96b1530",
   "metadata": {},
   "source": [
    "Description: Uncaught exceptions can be challenging to debug, especially in concurrent environments."
   ]
  },
  {
   "cell_type": "markdown",
   "id": "464d0c4c-9417-44e7-8c4f-5c61026d2c7c",
   "metadata": {},
   "source": [
    "Impact: Properly handling and logging exceptions aids in diagnosing issues and monitoring the health of the application.\n"
   ]
  },
  {
   "cell_type": "markdown",
   "id": "1d17d437-5bc2-4a8f-8155-48c8b29dfd04",
   "metadata": {},
   "source": [
    " ### 7. Create a program that uses a thread pool to calculate the factorial of numbers from 1 to 10 concurrently.Use concurrent.futures.ThreadPoolExecutor to manage the threads.\n"
   ]
  },
  {
   "cell_type": "code",
   "execution_count": null,
   "id": "6ce44b81-509c-406a-a5bc-50d75077e316",
   "metadata": {},
   "outputs": [],
   "source": [
    "from concurrent.futures import ThreadPoolExecutor, as_completed\n",
    "import math\n",
    "\n",
    "def factorial(n):\n",
    "    \"\"\"Calculate the factorial of a number.\"\"\"\n",
    "    return math.factorial(n)\n",
    "\n",
    "def main():\n",
    "    # List of numbers to calculate factorials for\n",
    "    numbers = list(range(1, 11))\n",
    "    \n",
    "    # Create a ThreadPoolExecutor\n",
    "    with ThreadPoolExecutor(max_workers=5) as executor:\n",
    "        # Submit tasks to the thread pool\n",
    "        future_to_number = {executor.submit(factorial, num): num for num in numbers}\n",
    "        \n",
    "        # Collect and print results as they complete\n",
    "        for future in as_completed(future_to_number):\n",
    "            num = future_to_number[future]\n",
    "            try:\n",
    "                result = future.result()\n",
    "                print(f\"Factorial of {num} is {result}\")\n",
    "            except Exception as exc:\n",
    "                print(f\"Exception occurred while computing factorial of {num}: {exc}\")\n",
    "\n",
    "if __name__ == \"__main__\":\n",
    "    main()\n"
   ]
  },
  {
   "cell_type": "markdown",
   "id": "3e800526-0fff-4431-b506-57af051dd25a",
   "metadata": {},
   "source": [
    " ### 8. Create a Python program that uses multiprocessing.Pool to compute the square of numbers from 1 to 10 in parallel. Measure the time taken to perform this computation using a pool of different sizes (e.g., 2, 4, 8 processes).\n",
    "\n"
   ]
  },
  {
   "cell_type": "code",
   "execution_count": null,
   "id": "febe72bf-2245-45d4-a702-fc4da6d79777",
   "metadata": {},
   "outputs": [],
   "source": [
    "import multiprocessing\n",
    "import time\n",
    "\n",
    "def square(n):\n",
    "    \"\"\"Calculate the square of a number.\"\"\"\n",
    "    return n * n\n",
    "\n",
    "def compute_squares(pool_size):\n",
    "    \"\"\"Compute squares of numbers using a pool of given size and measure the time taken.\"\"\"\n",
    "    numbers = list(range(1, 11))\n",
    "    \n",
    "    start_time = time.time()\n",
    "    \n",
    "    with multiprocessing.Pool(processes=pool_size) as pool:\n",
    "        results = pool.map(square, numbers)\n",
    "    \n",
    "    end_time = time.time()\n",
    "    elapsed_time = end_time - start_time\n",
    "    \n",
    "    return results, elapsed_time\n",
    "\n",
    "def main():\n",
    "    pool_sizes = [2, 4, 8]\n",
    "    \n",
    "    for pool_size in pool_sizes:\n",
    "        results, elapsed_time = compute_squares(pool_size)\n",
    "        print(f\"Pool size: {pool_size}\")\n",
    "        print(f\"Squares: {results}\")\n",
    "        print(f\"Time taken: {elapsed_time:.4f} seconds\\n\")\n",
    "\n",
    "if __name__ == \"__main__\":\n",
    "    main()\n"
   ]
  },
  {
   "cell_type": "code",
   "execution_count": null,
   "id": "ee9b9b87-88e7-40c7-8153-9fee7c5080a3",
   "metadata": {},
   "outputs": [],
   "source": []
  }
 ],
 "metadata": {
  "kernelspec": {
   "display_name": "Python 3 (ipykernel)",
   "language": "python",
   "name": "python3"
  },
  "language_info": {
   "codemirror_mode": {
    "name": "ipython",
    "version": 3
   },
   "file_extension": ".py",
   "mimetype": "text/x-python",
   "name": "python",
   "nbconvert_exporter": "python",
   "pygments_lexer": "ipython3",
   "version": "3.10.8"
  }
 },
 "nbformat": 4,
 "nbformat_minor": 5
}
