{
 "cells": [
  {
   "cell_type": "markdown",
   "id": "65be3844-591a-4531-9359-658eec6be520",
   "metadata": {},
   "source": [
    "#### 1. What are the five key concepts of Object-Oriented Programming (OOP)?\n",
    "\n"
   ]
  },
  {
   "cell_type": "markdown",
   "id": "76e1d747-fb83-4c0b-aed1-b8183825307f",
   "metadata": {},
   "source": [
    "The five key concepts of Object-Oriented Programming (OOP) are:"
   ]
  },
  {
   "cell_type": "markdown",
   "id": "42ceb6aa-e0d1-4000-a1b7-6fe3b77ae2bf",
   "metadata": {},
   "source": [
    " 1.Encapsulation:"
   ]
  },
  {
   "cell_type": "markdown",
   "id": "df3c8b80-9280-4142-9a48-e42bc8d7ad9b",
   "metadata": {},
   "source": [
    "Encapsulation is the bundling of data (attributes) and methods (functions) that operate on that data into a single unit or class. It restricts direct access to certain components, which is essential for protecting the integrity of the object's state. Access to these components is controlled through public methods (getters and setters)."
   ]
  },
  {
   "cell_type": "markdown",
   "id": "6a5473c7-32b1-4931-ad93-37224f574988",
   "metadata": {},
   "source": [
    "  2 Abstraction:"
   ]
  },
  {
   "cell_type": "markdown",
   "id": "d021a0a2-4c3d-405d-9235-c8557b0a7beb",
   "metadata": {},
   "source": [
    "Abstraction involves simplifying complex systems by modeling classes based on essential features while hiding the underlying details. It allows the user to interact with objects at a higher level without needing to understand the internal complexities."
   ]
  },
  {
   "cell_type": "markdown",
   "id": "52411128-9306-4bb5-b9d0-5ec17d62899e",
   "metadata": {},
   "source": [
    "3.Inheritance:"
   ]
  },
  {
   "cell_type": "markdown",
   "id": "bf112645-61ce-4228-b94a-478ebea8304f",
   "metadata": {},
   "source": [
    "Inheritance allows a class to inherit properties and methods from another class, promoting code reuse and establishing a hierarchical relationship between classes. A subclass can override or extend the functionality of its parent class."
   ]
  },
  {
   "cell_type": "markdown",
   "id": "fc1d023c-3556-47f3-9960-137b46e079fb",
   "metadata": {},
   "source": [
    " 4.Polymorphism:"
   ]
  },
  {
   "cell_type": "markdown",
   "id": "037464a7-c253-4c83-9014-4cca811bd112",
   "metadata": {},
   "source": [
    "Polymorphism allows objects of different types to be treated as objects of a common superclass. The most common use of polymorphism is the ability to define multiple methods with the same name but different implementations (method overloading) or using inheritance (method overriding)."
   ]
  },
  {
   "cell_type": "markdown",
   "id": "3680cd46-096c-4754-be0b-6e63078faf28",
   "metadata": {},
   "source": [
    "5.Association, Aggregation, and Composition"
   ]
  },
  {
   "cell_type": "markdown",
   "id": "a0bb88bc-1827-4110-9c23-2a6cdeef1e25",
   "metadata": {},
   "source": [
    "Association: A general relationship where objects of one class are connected to objects of another (e.g., a teacher and a student)."
   ]
  },
  {
   "cell_type": "markdown",
   "id": "f72d0f7d-42c4-4de9-9e82-4bcd8aa074e0",
   "metadata": {},
   "source": [
    "Aggregation: A specialized form of association where the lifetime of the contained objects is independent of the container (e.g., a library and books).\n"
   ]
  },
  {
   "cell_type": "markdown",
   "id": "0f70cbc0-857c-4756-ab6e-6741b4bbea65",
   "metadata": {},
   "source": [
    "Composition: A strong form of aggregation where the lifetime of the contained object depends on the container (e.g., a house and rooms, where the rooms cannot exist without the house)."
   ]
  },
  {
   "cell_type": "markdown",
   "id": "0b00f051-cd4b-4d7a-84c2-3e874fa093a1",
   "metadata": {},
   "source": [
    " #### 2 Write a Python class for a `Car` with attributes for `make`, `model`, and `year`. Include a method to display the car's information.\n",
    "\n",
    "\n"
   ]
  },
  {
   "cell_type": "code",
   "execution_count": 2,
   "id": "788b7178-9495-4a7b-9fba-39f36c6df4ef",
   "metadata": {},
   "outputs": [
    {
     "name": "stdout",
     "output_type": "stream",
     "text": [
      "Car Info: 2020 Toyota Corolla\n"
     ]
    }
   ],
   "source": [
    "class Car:\n",
    "    def __init__(self, make, model, year):\n",
    "        self.make = make\n",
    "        self.model = model\n",
    "        self.year = year\n",
    "    \n",
    "    def display_info(self):\n",
    "        print(f\"Car Info: {self.year} {self.make} {self.model}\")\n",
    "\n",
    "# Example usage\n",
    "my_car = Car(\"Toyota\", \"Corolla\", 2020)\n",
    "my_car.display_info()\n"
   ]
  },
  {
   "cell_type": "markdown",
   "id": "2741e301-663a-49c6-a3ce-64293adb2063",
   "metadata": {},
   "source": [
    " #### 3 Explain the difference between instance methods and class methods. Provide an example of each.\n",
    "\n",
    "\n"
   ]
  },
  {
   "cell_type": "code",
   "execution_count": 3,
   "id": "e2918a6e-563c-4112-bcb3-16eb04f9b4ef",
   "metadata": {},
   "outputs": [
    {
     "name": "stdout",
     "output_type": "stream",
     "text": [
      "Total cars created: 2\n"
     ]
    }
   ],
   "source": [
    "class Car:\n",
    "    total_cars = 0  # Class variable\n",
    "    \n",
    "    def __init__(self, make, model, year):\n",
    "        self.make = make\n",
    "        self.model = model\n",
    "        self.year = year\n",
    "        Car.total_cars += 1\n",
    "\n",
    "    # Class method\n",
    "    @classmethod\n",
    "    def total_cars_created(cls):\n",
    "        print(f\"Total cars created: {cls.total_cars}\")\n",
    "\n",
    "# Creating instances of Car\n",
    "car1 = Car(\"Toyota\", \"Corolla\", 2020)\n",
    "car2 = Car(\"Honda\", \"Civic\", 2019)\n",
    "\n",
    "Car.total_cars_created()  # Calls class method\n"
   ]
  },
  {
   "cell_type": "markdown",
   "id": "501ee609-6715-41ac-a52f-ee39ee254067",
   "metadata": {},
   "source": [
    "### 4.How does Python implement method overloading? Give an example.\n",
    "\n"
   ]
  },
  {
   "cell_type": "code",
   "execution_count": 4,
   "id": "b3cd8241-4c2a-44da-9ef6-28689bd9dee9",
   "metadata": {},
   "outputs": [
    {
     "name": "stdout",
     "output_type": "stream",
     "text": [
      "5\n",
      "15\n",
      "30\n"
     ]
    }
   ],
   "source": [
    "class Calculator:\n",
    "    def add(self, a, b=0, c=0):\n",
    "        return a + b + c\n",
    "\n",
    "# Example usage\n",
    "calc = Calculator()\n",
    "\n",
    "print(calc.add(5))        # Output: 5 (only one argument, b and c default to 0)\n",
    "print(calc.add(5, 10))    # Output: 15 (two arguments)\n",
    "print(calc.add(5, 10, 15))  # Output: 30 (three arguments)\n"
   ]
  },
  {
   "cell_type": "code",
   "execution_count": 5,
   "id": "2214f717-cfb9-461d-9d35-c5ba4342671a",
   "metadata": {},
   "outputs": [
    {
     "name": "stdout",
     "output_type": "stream",
     "text": [
      "5\n",
      "15\n",
      "30\n"
     ]
    }
   ],
   "source": [
    "class Calculator:\n",
    "    def add(self, *args):\n",
    "        return sum(args)\n",
    "\n",
    "# Example usage\n",
    "calc = Calculator()\n",
    "\n",
    "print(calc.add(5))          # Output: 5\n",
    "print(calc.add(5, 10))      # Output: 15\n",
    "print(calc.add(5, 10, 15))  # Output: 30\n"
   ]
  },
  {
   "cell_type": "markdown",
   "id": "7490c566-d44d-4ff0-bd9c-0011dce25d70",
   "metadata": {},
   "source": [
    " ### 5. What are the three types of access modifiers in Python? How are they denoted?\n",
    "\n",
    "\n"
   ]
  },
  {
   "cell_type": "markdown",
   "id": "6bd33940-b26c-42cd-aa8f-1d0435e4aa8f",
   "metadata": {},
   "source": [
    "1. Public:"
   ]
  },
  {
   "cell_type": "code",
   "execution_count": 6,
   "id": "ed4d3d80-2f5b-474f-af49-bbefa7d21520",
   "metadata": {},
   "outputs": [
    {
     "name": "stdout",
     "output_type": "stream",
     "text": [
      "Toyota\n",
      "Car: Toyota Corolla\n"
     ]
    }
   ],
   "source": [
    "class Car:\n",
    "    def __init__(self, make, model):\n",
    "        self.make = make  # Public attribute\n",
    "        self.model = model  # Public attribute\n",
    "\n",
    "    def display_info(self):  # Public method\n",
    "        print(f\"Car: {self.make} {self.model}\")\n",
    "\n",
    "car = Car(\"Toyota\", \"Corolla\")\n",
    "print(car.make)  # Accessing public attribute\n",
    "car.display_info()  # Accessing public method\n"
   ]
  },
  {
   "cell_type": "markdown",
   "id": "0ef21870-a54d-4ec1-ad20-fb234c6c4587",
   "metadata": {},
   "source": [
    "2. Protected:\n"
   ]
  },
  {
   "cell_type": "code",
   "execution_count": 7,
   "id": "c288effa-ff41-4022-adef-b1d9dea6ff5a",
   "metadata": {},
   "outputs": [
    {
     "name": "stdout",
     "output_type": "stream",
     "text": [
      "Honda\n",
      "Car: Honda Civic\n"
     ]
    }
   ],
   "source": [
    "class Car:\n",
    "    def __init__(self, make, model):\n",
    "        self._make = make  # Protected attribute\n",
    "        self._model = model  # Protected attribute\n",
    "\n",
    "    def _display_info(self):  # Protected method\n",
    "        print(f\"Car: {self._make} {self._model}\")\n",
    "\n",
    "car = Car(\"Honda\", \"Civic\")\n",
    "print(car._make)  # Can access but intended to be protected\n",
    "car._display_info()  # Can access but intended to be protected\n"
   ]
  },
  {
   "cell_type": "markdown",
   "id": "91295384-07e7-4ce1-9a66-384dd0b34089",
   "metadata": {},
   "source": [
    "3. Private:"
   ]
  },
  {
   "cell_type": "code",
   "execution_count": 8,
   "id": "28e0c2ce-1fda-4e59-a762-08a373bad47d",
   "metadata": {},
   "outputs": [
    {
     "name": "stdout",
     "output_type": "stream",
     "text": [
      "Car: Ford Mustang\n"
     ]
    }
   ],
   "source": [
    "class Car:\n",
    "    def __init__(self, make, model):\n",
    "        self.__make = make  # Private attribute\n",
    "        self.__model = model  # Private attribute\n",
    "\n",
    "    def __display_info(self):  # Private method\n",
    "        print(f\"Car: {self.__make} {self.__model}\")\n",
    "\n",
    "    def get_info(self):  # Public method to access private members\n",
    "        self.__display_info()\n",
    "\n",
    "car = Car(\"Ford\", \"Mustang\")\n",
    "# print(car.__make)  # This will raise an AttributeError\n",
    "car.get_info()  # Access private method through public method\n"
   ]
  },
  {
   "cell_type": "markdown",
   "id": "71216628-92fe-463f-8cca-091647d74f28",
   "metadata": {},
   "source": [
    "### 6. Describe the five types of inheritance in Python. Provide a simple example of multiple inheritance.\n",
    "\n",
    "\n"
   ]
  },
  {
   "cell_type": "markdown",
   "id": "deba8b91-8e48-4611-90d9-49a1d1d25a44",
   "metadata": {},
   "source": [
    "1. Single Inheritance:"
   ]
  },
  {
   "cell_type": "code",
   "execution_count": 9,
   "id": "dbe2b78b-2f5e-488b-89e1-39cad1d828e8",
   "metadata": {},
   "outputs": [
    {
     "name": "stdout",
     "output_type": "stream",
     "text": [
      "This is the parent method.\n"
     ]
    }
   ],
   "source": [
    "class Parent:\n",
    "    def parent_method(self):\n",
    "        print(\"This is the parent method.\")\n",
    "\n",
    "class Child(Parent):\n",
    "    def child_method(self):\n",
    "        print(\"This is the child method.\")\n",
    "\n",
    "c = Child()\n",
    "c.parent_method()  # Inherited from Parent class\n"
   ]
  },
  {
   "cell_type": "markdown",
   "id": "011b990d-fb8c-4579-8f52-e6e4c3d34c9d",
   "metadata": {},
   "source": [
    "2. Multiple Inheritance:"
   ]
  },
  {
   "cell_type": "code",
   "execution_count": 10,
   "id": "faa3ccaa-c755-4cb9-8e51-3c6e0ed53441",
   "metadata": {},
   "outputs": [
    {
     "name": "stdout",
     "output_type": "stream",
     "text": [
      "Method from Parent1\n",
      "Method from Parent2\n"
     ]
    }
   ],
   "source": [
    "class Parent1:\n",
    "    def method1(self):\n",
    "        print(\"Method from Parent1\")\n",
    "\n",
    "class Parent2:\n",
    "    def method2(self):\n",
    "        print(\"Method from Parent2\")\n",
    "\n",
    "class Child(Parent1, Parent2):\n",
    "    def child_method(self):\n",
    "        print(\"This is the child method.\")\n",
    "\n",
    "c = Child()\n",
    "c.method1()  # Inherited from Parent1\n",
    "c.method2()  # Inherited from Parent2\n"
   ]
  },
  {
   "cell_type": "markdown",
   "id": "e8bd121b-1db1-4e7b-ad7b-3f15d046b2c7",
   "metadata": {},
   "source": [
    "3. Multilevel Inheritance:"
   ]
  },
  {
   "cell_type": "code",
   "execution_count": 11,
   "id": "ab3226cd-4b6b-4ffd-b10e-503edd0bff16",
   "metadata": {},
   "outputs": [
    {
     "name": "stdout",
     "output_type": "stream",
     "text": [
      "This is the grandparent method.\n"
     ]
    }
   ],
   "source": [
    "class Grandparent:\n",
    "    def grandparent_method(self):\n",
    "        print(\"This is the grandparent method.\")\n",
    "\n",
    "class Parent(Grandparent):\n",
    "    def parent_method(self):\n",
    "        print(\"This is the parent method.\")\n",
    "\n",
    "class Child(Parent):\n",
    "    def child_method(self):\n",
    "        print(\"This is the child method.\")\n",
    "\n",
    "c = Child()\n",
    "c.grandparent_method()  # Inherited from Grandparent class\n"
   ]
  },
  {
   "cell_type": "markdown",
   "id": "ba33ebdb-5a08-4978-9486-7058c17acf15",
   "metadata": {},
   "source": [
    "4. Hierarchical Inheritance:"
   ]
  },
  {
   "cell_type": "code",
   "execution_count": 12,
   "id": "30cfde00-ab9f-4cbc-b219-9a21567535b4",
   "metadata": {},
   "outputs": [
    {
     "name": "stdout",
     "output_type": "stream",
     "text": [
      "This is the parent method.\n",
      "This is the parent method.\n"
     ]
    }
   ],
   "source": [
    "class Parent:\n",
    "    def parent_method(self):\n",
    "        print(\"This is the parent method.\")\n",
    "\n",
    "class Child1(Parent):\n",
    "    def child1_method(self):\n",
    "        print(\"This is child1 method.\")\n",
    "\n",
    "class Child2(Parent):\n",
    "    def child2_method(self):\n",
    "        print(\"This is child2 method.\")\n",
    "\n",
    "c1 = Child1()\n",
    "c2 = Child2()\n",
    "c1.parent_method()  # Inherited from Parent\n",
    "c2.parent_method()  # Inherited from Parent\n"
   ]
  },
  {
   "cell_type": "markdown",
   "id": "2b98a922-fc51-42ef-8b64-c9d5a1edb070",
   "metadata": {},
   "source": [
    "5. Hybrid Inheritance:"
   ]
  },
  {
   "cell_type": "code",
   "execution_count": 13,
   "id": "b32c5b8f-b80f-4ef2-be99-bbc2189c2b28",
   "metadata": {},
   "outputs": [
    {
     "name": "stdout",
     "output_type": "stream",
     "text": [
      "This is the parent method.\n"
     ]
    }
   ],
   "source": [
    "class Parent:\n",
    "    def parent_method(self):\n",
    "        print(\"This is the parent method.\")\n",
    "\n",
    "class Child1(Parent):\n",
    "    def child1_method(self):\n",
    "        print(\"This is child1 method.\")\n",
    "\n",
    "class Child2(Parent):\n",
    "    def child2_method(self):\n",
    "        print(\"This is child2 method.\")\n",
    "\n",
    "class Grandchild(Child1, Child2):\n",
    "    def grandchild_method(self):\n",
    "        print(\"This is grandchild method.\")\n",
    "    \n",
    "g = Grandchild()\n",
    "g.parent_method()  # Inherited from Parent via Child1 and Child2\n"
   ]
  },
  {
   "cell_type": "markdown",
   "id": "56b1d620-9c78-446e-93f3-e8457bc30075",
   "metadata": {},
   "source": [
    "### 7. What is the Method Resolution Order (MRO) in Python? How can you retrieve it programmatically?\n",
    "\n",
    "\n"
   ]
  },
  {
   "cell_type": "markdown",
   "id": "2218a42e-870c-4beb-80e2-ff0b6ec49b10",
   "metadata": {},
   "source": [
    "The Method Resolution Order (MRO) defines the order in which methods are inherited from parent classes in the presence of multiple inheritance. Python follows the C3 linearization algorithm (also called C3 superclass linearization) to determine the MRO. This ensures a consistent and predictable order of method inheritance."
   ]
  },
  {
   "cell_type": "code",
   "execution_count": 14,
   "id": "4957e497-ecf9-4406-9d1c-708151ec4061",
   "metadata": {},
   "outputs": [
    {
     "name": "stdout",
     "output_type": "stream",
     "text": [
      "Method in B\n"
     ]
    }
   ],
   "source": [
    "class A:\n",
    "    def method(self):\n",
    "        print(\"Method in A\")\n",
    "\n",
    "class B(A):\n",
    "    def method(self):\n",
    "        print(\"Method in B\")\n",
    "\n",
    "class C(A):\n",
    "    def method(self):\n",
    "        print(\"Method in C\")\n",
    "\n",
    "class D(B, C):\n",
    "    pass\n",
    "\n",
    "d = D()\n",
    "d.method()  # This will print \"Method in B\"\n"
   ]
  },
  {
   "cell_type": "markdown",
   "id": "c37f10ac-4ccb-46cd-8cd4-d6b671c7719a",
   "metadata": {},
   "source": [
    "Retrieving MRO Programmatically"
   ]
  },
  {
   "cell_type": "markdown",
   "id": "55384254-755a-4a33-9745-596924171492",
   "metadata": {},
   "source": [
    "1.The __mro__ attribute.\n",
    "2.The mro() method.\n",
    "3.The inspect.getmro() function from the inspect module.\n"
   ]
  },
  {
   "cell_type": "code",
   "execution_count": 15,
   "id": "9a9ce670-93d6-4757-af6f-5a5b7ae70e2b",
   "metadata": {},
   "outputs": [
    {
     "name": "stdout",
     "output_type": "stream",
     "text": [
      "(<class '__main__.D'>, <class '__main__.B'>, <class '__main__.C'>, <class '__main__.A'>, <class 'object'>)\n"
     ]
    }
   ],
   "source": [
    "#1. Using __mro__ Attribute\n",
    "\n",
    "print(D.__mro__)\n"
   ]
  },
  {
   "cell_type": "code",
   "execution_count": 16,
   "id": "c399e22a-7e3d-4ea3-aaa2-1ee3f5e29fbe",
   "metadata": {},
   "outputs": [
    {
     "name": "stdout",
     "output_type": "stream",
     "text": [
      "[<class '__main__.D'>, <class '__main__.B'>, <class '__main__.C'>, <class '__main__.A'>, <class 'object'>]\n"
     ]
    }
   ],
   "source": [
    "#2. Using mro() Method\n",
    "print(D.mro())\n"
   ]
  },
  {
   "cell_type": "code",
   "execution_count": 17,
   "id": "213ee210-fa24-4c2f-b56d-2162562d037d",
   "metadata": {},
   "outputs": [
    {
     "name": "stdout",
     "output_type": "stream",
     "text": [
      "(<class '__main__.D'>, <class '__main__.B'>, <class '__main__.C'>, <class '__main__.A'>, <class 'object'>)\n"
     ]
    }
   ],
   "source": [
    "# 3. Using inspect.getmro()\n",
    "import inspect\n",
    "print(inspect.getmro(D))\n"
   ]
  },
  {
   "cell_type": "markdown",
   "id": "3d4b4b6b-0fe6-4d67-96f0-00062c863db9",
   "metadata": {},
   "source": [
    "### 8. Create an abstract base class `Shape` with an abstract method `area()`. Then create two subclasses `Circle` and `Rectangle` that implement the `area()` method.\n",
    "\n",
    "\n"
   ]
  },
  {
   "cell_type": "code",
   "execution_count": 18,
   "id": "5dbf824a-18ad-4080-9cb8-ef70d33690d7",
   "metadata": {},
   "outputs": [
    {
     "name": "stdout",
     "output_type": "stream",
     "text": [
      "Area of the circle: 78.53981633974483\n",
      "Area of the rectangle: 24\n"
     ]
    }
   ],
   "source": [
    "from abc import ABC, abstractmethod\n",
    "import math\n",
    "\n",
    "# Abstract base class\n",
    "class Shape(ABC):\n",
    "    \n",
    "    @abstractmethod\n",
    "    def area(self):\n",
    "        \"\"\"Abstract method to calculate the area of the shape\"\"\"\n",
    "        pass\n",
    "\n",
    "# Subclass for Circle\n",
    "class Circle(Shape):\n",
    "    def __init__(self, radius):\n",
    "        self.radius = radius\n",
    "    \n",
    "    def area(self):\n",
    "        \"\"\"Implements the area calculation for a circle\"\"\"\n",
    "        return math.pi * self.radius ** 2\n",
    "\n",
    "# Subclass for Rectangle\n",
    "class Rectangle(Shape):\n",
    "    def __init__(self, width, height):\n",
    "        self.width = width\n",
    "        self.height = height\n",
    "    \n",
    "    def area(self):\n",
    "        \"\"\"Implements the area calculation for a rectangle\"\"\"\n",
    "        return self.width * self.height\n",
    "\n",
    "# Example Usage\n",
    "circle = Circle(5)\n",
    "rectangle = Rectangle(4, 6)\n",
    "\n",
    "print(f\"Area of the circle: {circle.area()}\")       # Output: Area of the circle: 78.53981633974483\n",
    "print(f\"Area of the rectangle: {rectangle.area()}\") # Output: Area of the rectangle: 24\n"
   ]
  },
  {
   "cell_type": "markdown",
   "id": "49f28483-90ae-423f-a7ef-d2edbbf7b158",
   "metadata": {},
   "source": [
    "### 9. Demonstrate polymorphism by creating a function that can work with different shape objects to calculate and print their areas.\n",
    "\n"
   ]
  },
  {
   "cell_type": "code",
   "execution_count": 20,
   "id": "7305458f-4c93-4f20-a7e5-ea22db3e157e",
   "metadata": {},
   "outputs": [
    {
     "name": "stdout",
     "output_type": "stream",
     "text": [
      "Area: 78.53981633974483\n",
      "Area: 24\n"
     ]
    }
   ],
   "source": [
    "from abc import ABC, abstractmethod\n",
    "import math\n",
    "\n",
    "# Abstract base class\n",
    "class Shape(ABC):\n",
    "    \n",
    "    @abstractmethod\n",
    "    def area(self):\n",
    "        \"\"\"Abstract method to calculate the area of the shape\"\"\"\n",
    "        pass\n",
    "\n",
    "# Subclass for Circle\n",
    "class Circle(Shape):\n",
    "    def __init__(self, radius):\n",
    "        self.radius = radius\n",
    "    \n",
    "    def area(self):\n",
    "        \"\"\"Implements the area calculation for a circle\"\"\"\n",
    "        return math.pi * self.radius ** 2\n",
    "\n",
    "# Subclass for Rectangle\n",
    "class Rectangle(Shape):\n",
    "    def __init__(self, width, height):\n",
    "        self.width = width\n",
    "        self.height = height\n",
    "    \n",
    "    def area(self):\n",
    "        \"\"\"Implements the area calculation for a rectangle\"\"\"\n",
    "        return self.width * self.height\n",
    "\n",
    "# Function demonstrating polymorphism\n",
    "def print_area(shape: Shape):\n",
    "    \"\"\"Function to print the area of a shape\"\"\"\n",
    "    print(f\"Area: {shape.area()}\")\n",
    "\n",
    "# Example Usage\n",
    "circle = Circle(5)\n",
    "rectangle = Rectangle(4, 6)\n",
    "\n",
    "print_area(circle)      # Output: Area: 78.53981633974483\n",
    "print_area(rectangle)  # Output: Area: 24\n"
   ]
  },
  {
   "cell_type": "markdown",
   "id": "00a0c204-b207-48d0-a959-33075337167d",
   "metadata": {},
   "source": [
    "\n",
    "### 10. Implement encapsulation in a `BankAccount` class with private attributes for `balance` and `account_number`. Include methods for deposit, withdrawal, and balance inquiry.\n",
    "\n",
    "\n"
   ]
  },
  {
   "cell_type": "code",
   "execution_count": 21,
   "id": "e4ed0fc3-7918-4b73-9698-0e78f6e24b55",
   "metadata": {},
   "outputs": [
    {
     "name": "stdout",
     "output_type": "stream",
     "text": [
      "Account Number: 123456789\n",
      "Deposited $500. New balance is $1500.\n",
      "Withdrew $200. New balance is $1300.\n",
      "Current Balance: $1300\n"
     ]
    }
   ],
   "source": [
    "class BankAccount:\n",
    "    def __init__(self, account_number, initial_balance=0):\n",
    "        self.__account_number = account_number  # Private attribute\n",
    "        self.__balance = initial_balance       # Private attribute\n",
    "    \n",
    "    def deposit(self, amount):\n",
    "        \"\"\"Deposit money into the account\"\"\"\n",
    "        if amount > 0:\n",
    "            self.__balance += amount\n",
    "            print(f\"Deposited ${amount}. New balance is ${self.__balance}.\")\n",
    "        else:\n",
    "            print(\"Deposit amount must be positive.\")\n",
    "    \n",
    "    def withdraw(self, amount):\n",
    "        \"\"\"Withdraw money from the account\"\"\"\n",
    "        if 0 < amount <= self.__balance:\n",
    "            self.__balance -= amount\n",
    "            print(f\"Withdrew ${amount}. New balance is ${self.__balance}.\")\n",
    "        elif amount <= 0:\n",
    "            print(\"Withdrawal amount must be positive.\")\n",
    "        else:\n",
    "            print(\"Insufficient funds.\")\n",
    "    \n",
    "    def get_balance(self):\n",
    "        \"\"\"Return the current balance\"\"\"\n",
    "        return self.__balance\n",
    "\n",
    "    def get_account_number(self):\n",
    "        \"\"\"Return the account number\"\"\"\n",
    "        return self.__account_number\n",
    "\n",
    "# Example Usage\n",
    "account = BankAccount(\"123456789\", 1000)\n",
    "\n",
    "print(f\"Account Number: {account.get_account_number()}\")  # Output: Account Number: 123456789\n",
    "\n",
    "account.deposit(500)   # Output: Deposited $500. New balance is $1500.\n",
    "account.withdraw(200)  # Output: Withdrew $200. New balance is $1300.\n",
    "\n",
    "print(f\"Current Balance: ${account.get_balance()}\")  # Output: Current Balance: $1300\n"
   ]
  },
  {
   "cell_type": "markdown",
   "id": "320e04e6-b4ce-4095-92a2-e5156a1d7c7c",
   "metadata": {},
   "source": [
    "### 11. Write a class that overrides the `__str__` and `__add__` magic methods. What will these methods allow you to do?\n",
    "\n",
    "\n"
   ]
  },
  {
   "cell_type": "code",
   "execution_count": 22,
   "id": "e9d80301-0b27-48db-8c60-feb5efbc7a81",
   "metadata": {},
   "outputs": [
    {
     "name": "stdout",
     "output_type": "stream",
     "text": [
      "CustomNumber(value=10)\n",
      "CustomNumber(value=30)\n"
     ]
    }
   ],
   "source": [
    "class CustomNumber:\n",
    "    def __init__(self, value):\n",
    "        self.value = value\n",
    "    \n",
    "    def __str__(self):\n",
    "        \"\"\"Return a human-readable string representation of the object\"\"\"\n",
    "        return f\"CustomNumber(value={self.value})\"\n",
    "    \n",
    "    def __add__(self, other):\n",
    "        \"\"\"Define behavior for addition with another CustomNumber\"\"\"\n",
    "        if isinstance(other, CustomNumber):\n",
    "            return CustomNumber(self.value + other.value)\n",
    "        return NotImplemented\n",
    "\n",
    "# Example Usage\n",
    "num1 = CustomNumber(10)\n",
    "num2 = CustomNumber(20)\n",
    "\n",
    "# Using the overridden __str__ method\n",
    "print(num1)  # Output: CustomNumber(value=10)\n",
    "\n",
    "# Using the overridden __add__ method\n",
    "num3 = num1 + num2\n",
    "print(num3)  # Output: CustomNumber(value=30)\n"
   ]
  },
  {
   "cell_type": "markdown",
   "id": "c971a211-24ed-43bf-ae4a-0bd03421598e",
   "metadata": {},
   "source": [
    "\n",
    "### 12. Create a decorator that measures and prints the execution time of a function.\n",
    "\n",
    "\n"
   ]
  },
  {
   "cell_type": "code",
   "execution_count": 23,
   "id": "8a8bb354-bc04-45f9-82ec-28a7ad5cd948",
   "metadata": {},
   "outputs": [
    {
     "name": "stdout",
     "output_type": "stream",
     "text": [
      "Execution time for example_function: 0.3830 seconds\n",
      "Result: 333332833333500000\n"
     ]
    }
   ],
   "source": [
    "import time\n",
    "\n",
    "def timing_decorator(func):\n",
    "    \"\"\"Decorator that measures the execution time of a function.\"\"\"\n",
    "    def wrapper(*args, **kwargs):\n",
    "        start_time = time.time()  # Record start time\n",
    "        result = func(*args, **kwargs)  # Call the decorated function\n",
    "        end_time = time.time()  # Record end time\n",
    "        execution_time = end_time - start_time  # Calculate the execution time\n",
    "        print(f\"Execution time for {func.__name__}: {execution_time:.4f} seconds\")\n",
    "        return result  # Return the result of the function\n",
    "    return wrapper\n",
    "\n",
    "# Example usage of the decorator\n",
    "@timing_decorator\n",
    "def example_function(n):\n",
    "    \"\"\"Function that performs a time-consuming task.\"\"\"\n",
    "    total = 0\n",
    "    for i in range(n):\n",
    "        total += i ** 2\n",
    "    return total\n",
    "\n",
    "# Call the decorated function\n",
    "result = example_function(1000000)\n",
    "print(f\"Result: {result}\")\n"
   ]
  },
  {
   "cell_type": "markdown",
   "id": "76d3ce7a-e833-4ffa-9b8c-98c3efd01fda",
   "metadata": {},
   "source": [
    "### 13. Explain the concept of the Diamond Problem in multiple inheritance. How does Python resolve it?\n",
    "\n",
    "\n"
   ]
  },
  {
   "cell_type": "code",
   "execution_count": 24,
   "id": "6e9baac9-cd80-4e17-91bf-e29794d0d92d",
   "metadata": {},
   "outputs": [
    {
     "name": "stdout",
     "output_type": "stream",
     "text": [
      "Method in B\n"
     ]
    }
   ],
   "source": [
    "class A:\n",
    "    def method(self):\n",
    "        print(\"Method in A\")\n",
    "\n",
    "class B(A):\n",
    "    def method(self):\n",
    "        print(\"Method in B\")\n",
    "\n",
    "class C(A):\n",
    "    def method(self):\n",
    "        print(\"Method in C\")\n",
    "\n",
    "class D(B, C):\n",
    "    pass\n",
    "\n",
    "d = D()\n",
    "d.method()\n"
   ]
  },
  {
   "cell_type": "markdown",
   "id": "5ead2253-4aa6-4aae-8c4c-69967b40b0a8",
   "metadata": {},
   "source": [
    "Python uses the Method Resolution Order (MRO) to resolve the Diamond Problem. The MRO determines the order in which base classes are looked up when searching for a method or attribute. Python’s MRO is based on the C3 Linearization algorithm, which ensures a consistent order and resolves ambiguities.\n",
    "\n",
    "The MRO is calculated such that:\n",
    "\n",
    "1. The method from the most derived class is used if it exists.\n",
    "2. It looks up in the order of base classes specified in the class definition,   3.but following a specific linearization rule that respects the hierarchy."
   ]
  },
  {
   "cell_type": "code",
   "execution_count": 25,
   "id": "24fc3c5b-cedd-452d-bca8-c293be6321b8",
   "metadata": {},
   "outputs": [
    {
     "name": "stdout",
     "output_type": "stream",
     "text": [
      "(<class '__main__.D'>, <class '__main__.B'>, <class '__main__.C'>, <class '__main__.A'>, <class 'object'>)\n",
      "[<class '__main__.D'>, <class '__main__.B'>, <class '__main__.C'>, <class '__main__.A'>, <class 'object'>]\n",
      "Method in B\n"
     ]
    }
   ],
   "source": [
    "class A:\n",
    "    def method(self):\n",
    "        print(\"Method in A\")\n",
    "\n",
    "class B(A):\n",
    "    def method(self):\n",
    "        print(\"Method in B\")\n",
    "\n",
    "class C(A):\n",
    "    def method(self):\n",
    "        print(\"Method in C\")\n",
    "\n",
    "class D(B, C):\n",
    "    pass\n",
    "\n",
    "# Retrieve the MRO\n",
    "print(D.__mro__)  # Output: (<class '__main__.D'>, <class '__main__.B'>, <class '__main__.C'>, <class '__main__.A'>, <class 'object'>)\n",
    "\n",
    "# Or use the mro() method\n",
    "print(D.mro())   # Output: [<class '__main__.D'>, <class '__main__.B'>, <class '__main__.C'>, <class '__main__.A'>, <class 'object'>]\n",
    "\n",
    "# Call the method\n",
    "d = D()\n",
    "d.method()      # Output: Method in B\n"
   ]
  },
  {
   "cell_type": "markdown",
   "id": "ae49a122-e665-4463-b3e9-6ca915e36321",
   "metadata": {},
   "source": [
    "### 14. Write a class method that keeps track of the number of instances created from a class.\n",
    "\n",
    "\n"
   ]
  },
  {
   "cell_type": "code",
   "execution_count": 26,
   "id": "6f2cc085-5c10-41ce-bf08-b71e77c5ce42",
   "metadata": {},
   "outputs": [
    {
     "name": "stdout",
     "output_type": "stream",
     "text": [
      "Number of instances created: 3\n"
     ]
    }
   ],
   "source": [
    "class InstanceCounter:\n",
    "    # Class variable to keep track of the number of instances\n",
    "    instance_count = 0\n",
    "    \n",
    "    def __init__(self):\n",
    "        # Increment the count each time a new instance is created\n",
    "        InstanceCounter.instance_count += 1\n",
    "    \n",
    "    @classmethod\n",
    "    def get_instance_count(cls):\n",
    "        \"\"\"Class method to get the current count of instances\"\"\"\n",
    "        return cls.instance_count\n",
    "\n",
    "# Example Usage\n",
    "obj1 = InstanceCounter()\n",
    "obj2 = InstanceCounter()\n",
    "obj3 = InstanceCounter()\n",
    "\n",
    "print(f\"Number of instances created: {InstanceCounter.get_instance_count()}\")\n",
    "# Output: Number of instances created: 3\n"
   ]
  },
  {
   "cell_type": "markdown",
   "id": "462edd4f-1856-4747-a344-491776269375",
   "metadata": {},
   "source": [
    "### 15. Implement a static method in a class that checks if a given year is a leap year.\n"
   ]
  },
  {
   "cell_type": "code",
   "execution_count": 27,
   "id": "0a9626bb-4f1d-4e61-aeff-fdeccb097e9e",
   "metadata": {},
   "outputs": [
    {
     "name": "stdout",
     "output_type": "stream",
     "text": [
      "True\n",
      "False\n",
      "True\n",
      "True\n"
     ]
    }
   ],
   "source": [
    "class DateUtils:\n",
    "    @staticmethod\n",
    "    def is_leap_year(year):\n",
    "        \"\"\"Check if a given year is a leap year.\"\"\"\n",
    "        if (year % 4 == 0):\n",
    "            if (year % 100 == 0):\n",
    "                if (year % 400 == 0):\n",
    "                    return True\n",
    "                else:\n",
    "                    return False\n",
    "            else:\n",
    "                return True\n",
    "        else:\n",
    "            return False\n",
    "\n",
    "# Example Usage\n",
    "print(DateUtils.is_leap_year(2020))  # Output: True\n",
    "print(DateUtils.is_leap_year(1900))  # Output: False\n",
    "print(DateUtils.is_leap_year(2000))  # Output: True\n",
    "print(DateUtils.is_leap_year(2024))  # Output: True\n"
   ]
  },
  {
   "cell_type": "code",
   "execution_count": null,
   "id": "ab3d9f28-50f8-4a65-b5e6-2234a0b1d06f",
   "metadata": {},
   "outputs": [],
   "source": []
  }
 ],
 "metadata": {
  "kernelspec": {
   "display_name": "Python 3 (ipykernel)",
   "language": "python",
   "name": "python3"
  },
  "language_info": {
   "codemirror_mode": {
    "name": "ipython",
    "version": 3
   },
   "file_extension": ".py",
   "mimetype": "text/x-python",
   "name": "python",
   "nbconvert_exporter": "python",
   "pygments_lexer": "ipython3",
   "version": "3.10.8"
  }
 },
 "nbformat": 4,
 "nbformat_minor": 5
}
