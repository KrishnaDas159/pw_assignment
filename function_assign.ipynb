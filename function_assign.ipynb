{
 "cells": [
  {
   "cell_type": "markdown",
   "id": "272d2ca9-1578-4a9a-b291-6d98d0968e76",
   "metadata": {},
   "source": [
    "#### 1.What is the difference between a function and a method  in Python\n"
   ]
  },
  {
   "cell_type": "markdown",
   "id": "5039ed38-937f-4518-9648-21145c47d0c5",
   "metadata": {},
   "source": [
    "Function: A function is a standalone block of code designed to perform a particular task.\n",
    "It is defined using the 'def' keyword."
   ]
  },
  {
   "cell_type": "markdown",
   "id": "81708f72-a158-407f-bfb4-2742c8424256",
   "metadata": {},
   "source": [
    "Scope: Functions can be defined at the module level and can be called independently \n",
    "without being associated with any object."
   ]
  },
  {
   "cell_type": "markdown",
   "id": "52cd2e88-5430-4c5c-9dc2-c636fce3a5ba",
   "metadata": {},
   "source": [
    "Usage: Functions can take inputs, perform operations, and return outputs. They are often used for code reuse and to break complex problems into smaller, manageable tasks."
   ]
  },
  {
   "cell_type": "markdown",
   "id": "dc965ddd-bcc8-48e2-be5b-424b6b70dcd6",
   "metadata": {},
   "source": [
    "Example:"
   ]
  },
  {
   "cell_type": "code",
   "execution_count": 1,
   "id": "09044f3f-eea0-456b-810b-3124dc53aeac",
   "metadata": {},
   "outputs": [],
   "source": [
    "def add(a, b):\n",
    "    return a + b\n",
    "\n",
    "result = add(2, 3)\n"
   ]
  },
  {
   "cell_type": "markdown",
   "id": "952d584b-2f18-4211-a357-b05a88dfbe2b",
   "metadata": {},
   "source": [
    "#### Method"
   ]
  },
  {
   "cell_type": "markdown",
   "id": "8bb3c12f-0266-4522-b862-3fbe4f8eaecd",
   "metadata": {},
   "source": [
    "A method is similar to a function but is associated with an object. It is defined within a class and operates on instances of that class."
   ]
  },
  {
   "cell_type": "markdown",
   "id": "df5cefd3-d710-4e83-a26c-4f4f2c2ebbfe",
   "metadata": {},
   "source": [
    "Scope: Methods are part of a class and have access to the instance they belong to via the self parameter."
   ]
  },
  {
   "cell_type": "markdown",
   "id": "666c3a2a-4ec8-46ae-954a-225a6f228b66",
   "metadata": {},
   "source": [
    "Usage: Methods are used to define the behaviors and actions that an object can perform. They can modify the object's state or interact with other methods and properties of the object."
   ]
  },
  {
   "cell_type": "code",
   "execution_count": 2,
   "id": "6555fb61-386b-4edc-850b-712a6b4f8d64",
   "metadata": {},
   "outputs": [],
   "source": [
    "class Calculator:\n",
    "    def add(self, a, b):\n",
    "        return a + b\n",
    "\n",
    "calc = Calculator()\n",
    "result = calc.add(2, 3)\n"
   ]
  },
  {
   "cell_type": "markdown",
   "id": "b2a95f3d-4884-42ec-a5fb-fd7ea9469bc6",
   "metadata": {},
   "source": [
    "#### 2.Explain the concept of function arguments and parameters in Python"
   ]
  },
  {
   "cell_type": "markdown",
   "id": "ca3e0210-d6c2-4a4c-9b34-c3f2035250df",
   "metadata": {},
   "source": [
    "### Parameters"
   ]
  },
  {
   "cell_type": "markdown",
   "id": "948a8903-d660-482a-b0d4-b53945320c85",
   "metadata": {},
   "source": [
    "Parameters are variables listed in the function's definition. They act as placeholders for the values that will be passed to the function when it is called."
   ]
  },
  {
   "cell_type": "markdown",
   "id": "adfc8714-c742-49a1-be39-ae7339de6b3a",
   "metadata": {},
   "source": [
    "Purpose: Parameters define what inputs a function expects and how it will use those inputs."
   ]
  },
  {
   "cell_type": "markdown",
   "id": "d0216f4e-c4b3-4d03-96f3-44205f1bbee2",
   "metadata": {},
   "source": [
    "Example:"
   ]
  },
  {
   "cell_type": "code",
   "execution_count": 4,
   "id": "b7b8ddd3-cd92-4833-bb53-d9b3b9f7e3d0",
   "metadata": {},
   "outputs": [],
   "source": [
    "def greet(name):\n",
    "    print(f\"Hello, {name}!\")\n"
   ]
  },
  {
   "cell_type": "markdown",
   "id": "303d65a4-0ae2-437a-9328-c99ca0fb2aea",
   "metadata": {},
   "source": [
    "In this example, 'name' is a parameter of the 'greet' function."
   ]
  },
  {
   "cell_type": "markdown",
   "id": "8ca312bc-ed9a-4a0b-9bc2-49dc9ea48714",
   "metadata": {},
   "source": [
    "### Arguments"
   ]
  },
  {
   "cell_type": "markdown",
   "id": "f86066c6-d81c-4306-9c59-70a68316cf32",
   "metadata": {},
   "source": [
    "Arguments are the actual values supplied to the function when it is called. They replace the parameters in the function definition with real data."
   ]
  },
  {
   "cell_type": "markdown",
   "id": "36518de7-6b73-4029-9660-2e17dce0be3c",
   "metadata": {},
   "source": [
    "Example:"
   ]
  },
  {
   "cell_type": "code",
   "execution_count": 5,
   "id": "bb7e6b36-36fb-48e4-9165-0f09b86f23d8",
   "metadata": {},
   "outputs": [
    {
     "name": "stdout",
     "output_type": "stream",
     "text": [
      "Hello, Alice!\n"
     ]
    }
   ],
   "source": [
    "greet(\"Alice\")\n"
   ]
  },
  {
   "cell_type": "markdown",
   "id": "0b3bd9d3-7055-42ec-b041-438ecdc6b053",
   "metadata": {},
   "source": [
    "Here, \"Alice\" is an argument passed to the greet function."
   ]
  },
  {
   "cell_type": "markdown",
   "id": "fc733649-a149-4d4a-bff1-890d7f53f4cc",
   "metadata": {},
   "source": [
    "### 3.What ate the different ways to define and calls a function in Python"
   ]
  },
  {
   "cell_type": "markdown",
   "id": "3e70a02e-9ba8-4f8e-b28b-5572a9399fe2",
   "metadata": {},
   "source": [
    "### Defining Functions"
   ]
  },
  {
   "cell_type": "markdown",
   "id": "35b8d1dc-941c-46f9-973b-dd6227e1da61",
   "metadata": {},
   "source": [
    "1. Standard Function Definition"
   ]
  },
  {
   "cell_type": "code",
   "execution_count": 6,
   "id": "e0b979c5-66b2-49cb-b9b8-668f75922f39",
   "metadata": {},
   "outputs": [],
   "source": [
    "def greet(name):\n",
    "    print(f\"Hello, {name}!\")\n"
   ]
  },
  {
   "cell_type": "markdown",
   "id": "11081ed0-88b1-4241-bd26-3752a940c9e7",
   "metadata": {},
   "source": [
    "2. Default Parameters"
   ]
  },
  {
   "cell_type": "code",
   "execution_count": 7,
   "id": "d0488419-463c-4f11-b852-fea3401b4c0d",
   "metadata": {},
   "outputs": [
    {
     "name": "stdout",
     "output_type": "stream",
     "text": [
      "Hello, Guest!\n",
      "Hello, Alice!\n"
     ]
    }
   ],
   "source": [
    "def greet(name=\"Guest\"):\n",
    "    print(f\"Hello, {name}!\")\n",
    "\n",
    "greet()         # Uses default value \"Guest\"\n",
    "greet(\"Alice\")  # Overrides default with \"Alice\"\n"
   ]
  },
  {
   "cell_type": "markdown",
   "id": "096b48b2-b412-4331-93a4-d74353b590af",
   "metadata": {},
   "source": [
    "3. Variable-Length Arguments"
   ]
  },
  {
   "cell_type": "code",
   "execution_count": 8,
   "id": "aa99ab3e-b299-40cb-b681-21cbc0a71cc7",
   "metadata": {},
   "outputs": [],
   "source": [
    "def sum_all(*args):\n",
    "    return sum(args)\n",
    "\n",
    "def print_details(**kwargs):\n",
    "    for key, value in kwargs.items():\n",
    "        print(f\"{key}: {value}\")\n"
   ]
  },
  {
   "cell_type": "markdown",
   "id": "f29b1afe-2f0a-40f3-944a-cba0d1ed859b",
   "metadata": {},
   "source": [
    "4. Lambda Functions"
   ]
  },
  {
   "cell_type": "code",
   "execution_count": 9,
   "id": "ba1d36ab-66e0-4217-a3e6-b4d529f64371",
   "metadata": {},
   "outputs": [],
   "source": [
    "add = lambda a, b: a + b\n",
    "result = add(2, 3)\n"
   ]
  },
  {
   "cell_type": "markdown",
   "id": "04772ffb-62d3-4eb4-96b6-ae56e605b422",
   "metadata": {},
   "source": [
    "### Calling Functions"
   ]
  },
  {
   "cell_type": "markdown",
   "id": "44a0371e-0c7e-46b6-840f-1e7ac71bd295",
   "metadata": {},
   "source": [
    "1. Positional Arguments"
   ]
  },
  {
   "cell_type": "code",
   "execution_count": 10,
   "id": "e902b79c-71ea-421f-8be5-85e28a73bf39",
   "metadata": {},
   "outputs": [],
   "source": [
    "def add(a, b):\n",
    "    return a + b\n",
    "\n",
    "result = add(2, 3)\n"
   ]
  },
  {
   "cell_type": "markdown",
   "id": "0ba1bbcb-e406-4a05-b71d-c042fcf6252b",
   "metadata": {},
   "source": [
    "2. Keyword Arguments"
   ]
  },
  {
   "cell_type": "code",
   "execution_count": 11,
   "id": "1bf05c69-7dc3-4d24-b4d8-58b099a630df",
   "metadata": {},
   "outputs": [],
   "source": [
    "result = add(a=2, b=3)\n",
    "result = add(b=3, a=2)  # Order doesn't matter with keyword arguments\n"
   ]
  },
  {
   "cell_type": "markdown",
   "id": "15597c2a-50ae-4dde-a2ec-2724d8a35753",
   "metadata": {},
   "source": [
    "3. Unpacking Arguments"
   ]
  },
  {
   "cell_type": "code",
   "execution_count": 12,
   "id": "e72fef97-54c1-4ffb-b7f0-2c21532ed004",
   "metadata": {},
   "outputs": [],
   "source": [
    "def add(a, b):\n",
    "    return a + b\n",
    "\n",
    "numbers = (2, 3)\n",
    "result = add(*numbers)  # Unpacks the tuple into positional arguments\n"
   ]
  },
  {
   "cell_type": "code",
   "execution_count": 13,
   "id": "26c81a36-43aa-40fd-9768-fcdc35f87dcb",
   "metadata": {},
   "outputs": [],
   "source": [
    "def add(a, b):\n",
    "    return a + b\n",
    "\n",
    "numbers_dict = {'a': 2, 'b': 3}\n",
    "result = add(**numbers_dict)  # Unpacks the dictionary into keyword arguments\n"
   ]
  },
  {
   "cell_type": "markdown",
   "id": "34919abf-648f-498c-b2ab-b8b7ac827fef",
   "metadata": {},
   "source": [
    "4. Calling Lambda Functions"
   ]
  },
  {
   "cell_type": "code",
   "execution_count": 14,
   "id": "a1a91165-6b58-4c2c-af84-78e171226985",
   "metadata": {},
   "outputs": [],
   "source": [
    "multiply = lambda x, y: x * y\n",
    "result = multiply(4, 5)\n"
   ]
  },
  {
   "cell_type": "markdown",
   "id": "137c0c4b-ee74-4fa7-9bad-c72d56beb1e5",
   "metadata": {},
   "source": [
    "### 4.What is the purpose of the 'return' statements in a Python a Python function"
   ]
  },
  {
   "cell_type": "markdown",
   "id": "ff6e13b5-dc0e-4a0c-aa96-b9da99c417ff",
   "metadata": {},
   "source": [
    "The return statement in a Python function serves several key purposes:-"
   ]
  },
  {
   "cell_type": "markdown",
   "id": "01cf65af-ea6a-4914-8a89-42566c1fd3ce",
   "metadata": {},
   "source": [
    "1. Returning a Value"
   ]
  },
  {
   "cell_type": "code",
   "execution_count": 16,
   "id": "cf22d07a-a12f-444b-a061-409a5255d7e3",
   "metadata": {},
   "outputs": [],
   "source": [
    "def add(a, b):\n",
    "    return a + b\n",
    "\n",
    "result = add(2, 3)  # result will be 5\n"
   ]
  },
  {
   "cell_type": "markdown",
   "id": "f12b4000-fd9e-4639-93e9-7fd509f2b03d",
   "metadata": {},
   "source": [
    "2.Exiting a Function"
   ]
  },
  {
   "cell_type": "code",
   "execution_count": 17,
   "id": "adf241d1-8481-41f9-aa27-17bf8e26135a",
   "metadata": {},
   "outputs": [],
   "source": [
    "def check_positive(number):\n",
    "    if number > 0:\n",
    "        return \"Positive\"\n",
    "    return \"Non-positive\"\n",
    "\n",
    "# Only one return statement is executed\n"
   ]
  },
  {
   "cell_type": "markdown",
   "id": "0f49138f-e364-4c4d-9ef6-de3f3436f5b1",
   "metadata": {},
   "source": [
    "3. Returning Multiple Values"
   ]
  },
  {
   "cell_type": "code",
   "execution_count": 19,
   "id": "060cb3fc-f3cd-465e-b71f-92e3856acab4",
   "metadata": {},
   "outputs": [],
   "source": [
    "def get_coordinates():\n",
    "    return 10, 20\n",
    "\n",
    "x, y = get_coordinates()  # x is 10, y is 20\n"
   ]
  },
  {
   "cell_type": "markdown",
   "id": "daa2f0e6-d72a-477a-857d-e3ae122f8b13",
   "metadata": {},
   "source": [
    "4. Returning None"
   ]
  },
  {
   "cell_type": "code",
   "execution_count": 20,
   "id": "8044a5ed-c31c-4f98-ab44-bd6a60e819e7",
   "metadata": {},
   "outputs": [
    {
     "name": "stdout",
     "output_type": "stream",
     "text": [
      "Hello, Alice!\n"
     ]
    }
   ],
   "source": [
    "def greet(name):\n",
    "    print(f\"Hello, {name}!\")\n",
    "\n",
    "result = greet(\"Alice\")  # result is None\n"
   ]
  },
  {
   "cell_type": "markdown",
   "id": "8b650621-6341-46b3-8685-5b393d143e11",
   "metadata": {},
   "source": [
    "5. Conditional Logic"
   ]
  },
  {
   "cell_type": "code",
   "execution_count": 21,
   "id": "a7dee27a-23a9-416f-9c91-c0cc2612370c",
   "metadata": {},
   "outputs": [],
   "source": [
    "def categorize_number(number):\n",
    "    if number > 0:\n",
    "        return \"Positive\"\n",
    "    elif number < 0:\n",
    "        return \"Negative\"\n",
    "    else:\n",
    "        return \"Zero\"\n"
   ]
  },
  {
   "cell_type": "markdown",
   "id": "570ce49e-b7cc-49f5-8d4b-f1a159b01db6",
   "metadata": {},
   "source": [
    "### 5.What are iterators in Python and how do they differ from iterables?"
   ]
  },
  {
   "cell_type": "markdown",
   "id": "9b934ea0-87e2-4d38-bd89-097f46646b03",
   "metadata": {},
   "source": [
    "### Iterables"
   ]
  },
  {
   "cell_type": "markdown",
   "id": "fb846981-83f4-432f-8f2e-08156a6cbda8",
   "metadata": {},
   "source": [
    "Definition: An iterable is any Python object capable of returning its elements one at a time. It must implement the __iter__() method, which returns an iterator."
   ]
  },
  {
   "cell_type": "markdown",
   "id": "9dc1037d-0624-4494-b846-f590464ea8bf",
   "metadata": {},
   "source": [
    "Examples: Common iterables include lists, tuples, strings, dictionaries, and sets."
   ]
  },
  {
   "cell_type": "code",
   "execution_count": 22,
   "id": "721510bf-eadb-46a0-bdbd-62908699084c",
   "metadata": {},
   "outputs": [
    {
     "name": "stdout",
     "output_type": "stream",
     "text": [
      "1\n",
      "2\n",
      "3\n",
      "4\n"
     ]
    }
   ],
   "source": [
    "# A list is an iterable\n",
    "my_list = [1, 2, 3, 4]\n",
    "\n",
    "# Using a for loop to iterate over an iterable\n",
    "for item in my_list:\n",
    "    print(item)\n"
   ]
  },
  {
   "cell_type": "markdown",
   "id": "d0246fd8-975a-4672-be09-d20f4dfd465d",
   "metadata": {},
   "source": [
    "### Iterators"
   ]
  },
  {
   "cell_type": "markdown",
   "id": "01a26685-8ca8-45da-856f-bd852be84ba1",
   "metadata": {},
   "source": [
    "Definition: An iterator is an object representing a stream of data, returning one element at a time when iterated over. It must implement two methods: __iter__() and __next__()."
   ]
  },
  {
   "cell_type": "code",
   "execution_count": 23,
   "id": "1dba833e-0f6c-4d75-aca9-8f789ab6a68c",
   "metadata": {},
   "outputs": [
    {
     "name": "stdout",
     "output_type": "stream",
     "text": [
      "1\n",
      "2\n"
     ]
    }
   ],
   "source": [
    "# Creating an iterator from an iterable\n",
    "my_iter = iter(my_list)\n",
    "\n",
    "# Using next() to manually iterate over an iterator\n",
    "print(next(my_iter))  # Output: 1\n",
    "print(next(my_iter))  # Output: 2\n",
    "# Continue calling next() until StopIteration is raised\n"
   ]
  },
  {
   "cell_type": "markdown",
   "id": "cf05efff-4c37-40d2-874e-eb5eea4fd886",
   "metadata": {},
   "source": [
    "### 6.Explain  the concepts of generators in Python an how they are defined"
   ]
  },
  {
   "cell_type": "markdown",
   "id": "adcbb214-912b-4c61-8580-e66d118e65c4",
   "metadata": {},
   "source": [
    "Generators in Python are a type of iterable, like lists or tuples, but they generate values on the fly and are especially useful when dealing with large datasets or when you want to implement lazy evaluation"
   ]
  },
  {
   "cell_type": "markdown",
   "id": "9d3dc119-3512-4c2b-aaf9-90a1e7548a5d",
   "metadata": {},
   "source": [
    "### Concepts of Generators"
   ]
  },
  {
   "cell_type": "markdown",
   "id": "179e4e22-ca3e-43db-95ef-1bee1440c306",
   "metadata": {},
   "source": [
    "1.Lazy Evaluation:"
   ]
  },
  {
   "cell_type": "markdown",
   "id": "e5fcba49-7bd4-45fc-a0b7-078ea59f74c2",
   "metadata": {},
   "source": [
    "Generators do not compute values upfront; they yield them one at a time as they are requested. This makes them memory-efficient, as they only keep the current value in memory."
   ]
  },
  {
   "cell_type": "markdown",
   "id": "8b103088-4acd-405b-83ca-ba87654144f1",
   "metadata": {},
   "source": [
    "2.State Preservation:"
   ]
  },
  {
   "cell_type": "markdown",
   "id": "224d5b77-a404-4054-a135-fe41eabcf1ff",
   "metadata": {},
   "source": [
    "When a generator function yields a value, it retains its state, allowing it to resume execution right after the last yield statement when the next value is requested."
   ]
  },
  {
   "cell_type": "markdown",
   "id": "4ac8aaf3-e860-4aca-8d55-29394a06979b",
   "metadata": {},
   "source": [
    "3.Single Iteration:"
   ]
  },
  {
   "cell_type": "markdown",
   "id": "51ecdac5-2221-4b5d-8915-8f23fa2a6e17",
   "metadata": {},
   "source": [
    "Generators can only be iterated over once. After all the values have been yielded, any subsequent iteration will not return any values."
   ]
  },
  {
   "cell_type": "markdown",
   "id": "f60834dd-1b2a-4899-a7bb-03bb75bee5d0",
   "metadata": {},
   "source": [
    "4.Efficiency:"
   ]
  },
  {
   "cell_type": "markdown",
   "id": "3159e3dc-33b1-432d-9012-1beedc7baa9d",
   "metadata": {},
   "source": [
    "Generators are ideal for working with large data streams or infinite sequences because they don’t store the entire sequence in memory."
   ]
  },
  {
   "cell_type": "markdown",
   "id": "d849f56e-e48b-4dbd-94a0-4dc541f66292",
   "metadata": {},
   "source": [
    "#### Defining Generators"
   ]
  },
  {
   "cell_type": "markdown",
   "id": "3edce7ab-f49a-48e7-a330-6916484a9ab8",
   "metadata": {},
   "source": [
    "Generators are defined using functions and the yield keyword. When a generator function is called, it returns a generator object without executing the function. The function’s code runs each time the next() function is called on the generator, until it hits a yield, which returns a value."
   ]
  },
  {
   "cell_type": "code",
   "execution_count": 1,
   "id": "45cc8a3f-83ce-41bf-a605-4a0b9dc66349",
   "metadata": {},
   "outputs": [
    {
     "name": "stdout",
     "output_type": "stream",
     "text": [
      "1\n",
      "2\n",
      "3\n",
      "4\n",
      "5\n"
     ]
    }
   ],
   "source": [
    "def count_up_to(max):\n",
    "    count = 1\n",
    "    while count <= max:\n",
    "        yield count\n",
    "        count += 1\n",
    "\n",
    "# Create a generator\n",
    "counter = count_up_to(5)\n",
    "\n",
    "# Iterate through the generator\n",
    "for number in counter:\n",
    "    print(number)\n"
   ]
  },
  {
   "cell_type": "markdown",
   "id": "1f7e47dc-78b0-49d8-a78a-b61edc865746",
   "metadata": {},
   "source": [
    "### 7.What are the advantages of using generators over regular functions"
   ]
  },
  {
   "cell_type": "markdown",
   "id": "8007171f-58ce-44f2-b5ad-41230e36d214",
   "metadata": {},
   "source": [
    "Generators offer several advantages over regular functions, especially when dealing with large datasets or implementing certain types of algorithms. Here are some key benefits of using generators:"
   ]
  },
  {
   "cell_type": "markdown",
   "id": "8fda33e8-bcf3-4f83-9079-12a8290ca007",
   "metadata": {},
   "source": [
    "1. Memory Efficiency"
   ]
  },
  {
   "cell_type": "markdown",
   "id": "416f67fc-7037-42fb-b5c2-19c0ab541984",
   "metadata": {},
   "source": [
    "Lazy Evaluation:"
   ]
  },
  {
   "cell_type": "markdown",
   "id": "043c5b9b-cb43-48e2-8367-e35835dc0395",
   "metadata": {},
   "source": [
    "Generators compute values on-the-fly and yield them one at a time. This means that they don’t store the entire result set in memory at once, making them ideal for working with large datasets or streams of data.\n"
   ]
  },
  {
   "cell_type": "markdown",
   "id": "63fe79eb-3f58-453b-96cd-6f730762da7a",
   "metadata": {},
   "source": [
    "For example, iterating over a large file or a data stream without loading the entire content into memory can save significant resources."
   ]
  },
  {
   "cell_type": "markdown",
   "id": "39d506d2-79c6-4959-84ee-ce4d6cbbe35f",
   "metadata": {},
   "source": [
    "2. Improved Performance"
   ]
  },
  {
   "cell_type": "markdown",
   "id": "c6f9a290-208b-41e7-8fa1-5d31155695ba",
   "metadata": {},
   "source": [
    "Reduced Overhead:"
   ]
  },
  {
   "cell_type": "markdown",
   "id": "f4860e05-b81f-428f-809e-ecb6c6f06bc6",
   "metadata": {},
   "source": [
    "Since generators yield values one at a time, they often have less computational overhead compared to building and returning large data structures like lists."
   ]
  },
  {
   "cell_type": "markdown",
   "id": "c9a0fde7-20fc-4ca3-87e9-64414408566a",
   "metadata": {},
   "source": [
    "This can lead to performance improvements in scenarios where not all values need to be computed or accessed immediately."
   ]
  },
  {
   "cell_type": "markdown",
   "id": "768f87ed-68de-488b-9b60-142ba34e1d9b",
   "metadata": {},
   "source": [
    "3. Simplicity and Readability"
   ]
  },
  {
   "cell_type": "markdown",
   "id": "fba2ff87-68f0-4f8e-a996-ba04427ef296",
   "metadata": {},
   "source": [
    "Simplified Code for Iterators:"
   ]
  },
  {
   "cell_type": "markdown",
   "id": "06b662cc-1dc5-4585-aac2-315aa4e625aa",
   "metadata": {},
   "source": [
    "Generators simplify the creation of iterators by using the yield keyword, eliminating the need to write complex classes with __iter__() and __next__() methods.\n"
   ]
  },
  {
   "cell_type": "markdown",
   "id": "cdf2bebf-b4ff-4bf3-b7cf-e361720221fd",
   "metadata": {},
   "source": [
    "They make it easier to implement iterators with state, as the generator automatically retains its state between yields.\n"
   ]
  },
  {
   "cell_type": "markdown",
   "id": "e0ddff61-0a23-4f0c-981c-c8351591ba15",
   "metadata": {},
   "source": [
    "4. Infinite Sequences"
   ]
  },
  {
   "cell_type": "markdown",
   "id": "1461c8a6-520f-4ca2-a6ce-5035bbc2fe33",
   "metadata": {},
   "source": [
    "Handling Infinite Data:"
   ]
  },
  {
   "cell_type": "markdown",
   "id": "41d3e67c-9c48-4338-8e3e-d8db17b102a0",
   "metadata": {},
   "source": [
    "Generators can represent infinite sequences because they compute each item as requested. This allows for the creation of iterators that produce an endless sequence of values without running out of memory."
   ]
  },
  {
   "cell_type": "markdown",
   "id": "af04b7cf-bc0c-4d4a-a5e1-2f983b31862e",
   "metadata": {},
   "source": [
    "For example, generating an infinite sequence of numbers or repeatedly reading from a data stream is straightforward with generators."
   ]
  },
  {
   "cell_type": "markdown",
   "id": "8e304e28-6318-40a0-8e11-3915bbaa7ec1",
   "metadata": {},
   "source": [
    "Using a List"
   ]
  },
  {
   "cell_type": "code",
   "execution_count": 4,
   "id": "b746ecc0-8f97-416c-9877-a59cc115b34e",
   "metadata": {},
   "outputs": [],
   "source": [
    "def sum_of_squares(n):\n",
    "    squares = [x**2 for x in range(n)]\n",
    "    return sum(squares)\n",
    "\n",
    "result = sum_of_squares(1000000)\n"
   ]
  },
  {
   "cell_type": "markdown",
   "id": "8f4bac00-6ce3-4159-a583-ab9f03d684eb",
   "metadata": {},
   "source": [
    "Using a Generator"
   ]
  },
  {
   "cell_type": "code",
   "execution_count": 5,
   "id": "b1252256-7de1-4fa8-a8b2-00f79473410c",
   "metadata": {},
   "outputs": [],
   "source": [
    "def sum_of_squares_gen(n):\n",
    "    return sum(x**2 for x in range(n))\n",
    "\n",
    "result = sum_of_squares_gen(1000000)\n"
   ]
  },
  {
   "cell_type": "markdown",
   "id": "747451a4-1bc2-4e4b-af1c-e1ab21011294",
   "metadata": {},
   "source": [
    "### 8.What is a lambda function in Python and when is it typically used"
   ]
  },
  {
   "cell_type": "markdown",
   "id": "079b1f48-fcd0-4bf7-a198-69f4c00aa15c",
   "metadata": {},
   "source": [
    "Lambda functions in Python are a way to create small, anonymous functions using a single line of code."
   ]
  },
  {
   "cell_type": "markdown",
   "id": "bbf5a417-a215-4846-9ca7-dec5e8defe5a",
   "metadata": {},
   "source": [
    "Typical Use Cases for Lambda Functions"
   ]
  },
  {
   "cell_type": "markdown",
   "id": "9442627b-9dfa-40fc-852b-5ec50f664eb2",
   "metadata": {},
   "source": [
    "1. Sorting:"
   ]
  },
  {
   "cell_type": "markdown",
   "id": "f706b492-279e-4662-a3cb-3caac673ddb1",
   "metadata": {},
   "source": [
    "Lambda functions are often used as the key parameter in sorting functions to define a custom sort order."
   ]
  },
  {
   "cell_type": "code",
   "execution_count": 7,
   "id": "79e70667-a54e-4b6a-b0b4-dd71be657665",
   "metadata": {},
   "outputs": [
    {
     "name": "stdout",
     "output_type": "stream",
     "text": [
      "[(1, 'apple'), (3, 'banana'), (2, 'cherry')]\n"
     ]
    }
   ],
   "source": [
    "items = [(1, 'apple'), (3, 'banana'), (2, 'cherry')]\n",
    "sorted_items = sorted(items, key=lambda item: item[1])\n",
    "print(sorted_items)\n",
    "# Output: [(1, 'apple'), (3, 'banana'), (2, 'cherry')]\n"
   ]
  },
  {
   "cell_type": "markdown",
   "id": "563c7c1c-a1e3-419d-aa13-00108309eceb",
   "metadata": {},
   "source": [
    "2.Functional Programming Tools:"
   ]
  },
  {
   "cell_type": "markdown",
   "id": "958affca-327a-4081-b024-94982f42cafd",
   "metadata": {},
   "source": [
    "Lambda functions are frequently used with functions like map(), filter(), and reduce()."
   ]
  },
  {
   "cell_type": "code",
   "execution_count": 8,
   "id": "0d7cf118-7b0c-4e14-aadb-d6e220846bd6",
   "metadata": {},
   "outputs": [
    {
     "name": "stdout",
     "output_type": "stream",
     "text": [
      "[1, 4, 9, 16]\n"
     ]
    }
   ],
   "source": [
    "numbers = [1, 2, 3, 4]\n",
    "squares = map(lambda x: x**2, numbers)\n",
    "print(list(squares))  # Output: [1, 4, 9, 16]\n"
   ]
  },
  {
   "cell_type": "code",
   "execution_count": 9,
   "id": "0a983bcb-b9f2-4861-9ad3-3481658bbe52",
   "metadata": {},
   "outputs": [
    {
     "name": "stdout",
     "output_type": "stream",
     "text": [
      "[2, 4, 6]\n"
     ]
    }
   ],
   "source": [
    "numbers = [1, 2, 3, 4, 5, 6]\n",
    "even_numbers = filter(lambda x: x % 2 == 0, numbers)\n",
    "print(list(even_numbers))  # Output: [2, 4, 6]\n"
   ]
  },
  {
   "cell_type": "code",
   "execution_count": 10,
   "id": "7a5a7d79-5443-42d3-ae41-493b51fd07b2",
   "metadata": {},
   "outputs": [
    {
     "name": "stdout",
     "output_type": "stream",
     "text": [
      "24\n"
     ]
    }
   ],
   "source": [
    "from functools import reduce\n",
    "numbers = [1, 2, 3, 4]\n",
    "product = reduce(lambda x, y: x * y, numbers)\n",
    "print(product)  # Output: 24\n"
   ]
  },
  {
   "cell_type": "markdown",
   "id": "5e549980-49e9-44c6-9775-af12a15265fd",
   "metadata": {},
   "source": [
    "### 9.Explain the purpose and usage of the map() function in Python"
   ]
  },
  {
   "cell_type": "markdown",
   "id": "f0b18bae-a3c7-4cbb-a25c-d7064d25665c",
   "metadata": {},
   "source": [
    "The map() function in Python is a built-in function that allows you to apply a given function to each item of an iterable (such as a list, tuple, or string) and return an iterator that produces the results. "
   ]
  },
  {
   "cell_type": "markdown",
   "id": "dc5072c9-be19-4fa2-ad46-26b9ffc14c65",
   "metadata": {},
   "source": [
    "#### Purpose of map()"
   ]
  },
  {
   "cell_type": "markdown",
   "id": "3cb38308-4b83-4e94-8d2e-bbf2febeecdd",
   "metadata": {},
   "source": [
    "The primary purpose of map() is to simplify the process of applying a function to each element in an iterable."
   ]
  },
  {
   "cell_type": "markdown",
   "id": "d3c6c4b8-7565-4ef6-85bf-545596967fe0",
   "metadata": {},
   "source": [
    "The map() function can take multiple iterables if the function accepts multiple arguments. In this case, the function is applied in parallel, taking one element from each iterable at a time."
   ]
  },
  {
   "cell_type": "markdown",
   "id": "fd9b7484-5da4-428e-8293-f28825f21e5b",
   "metadata": {},
   "source": [
    "Example Usage of map()"
   ]
  },
  {
   "cell_type": "code",
   "execution_count": 11,
   "id": "6dd9c5d5-2b2b-4d22-8736-f3a555376d4f",
   "metadata": {},
   "outputs": [
    {
     "name": "stdout",
     "output_type": "stream",
     "text": [
      "[1, 4, 9, 16, 25]\n"
     ]
    }
   ],
   "source": [
    "numbers = [1, 2, 3, 4, 5]\n",
    "squared_numbers = map(lambda x: x**2, numbers)\n",
    "\n",
    "# Convert the result to a list\n",
    "print(list(squared_numbers))\n",
    "# Output: [1, 4, 9, 16, 25]\n"
   ]
  },
  {
   "cell_type": "code",
   "execution_count": 12,
   "id": "ab5ec2fa-0658-4904-b475-7c66c17f43bb",
   "metadata": {},
   "outputs": [
    {
     "name": "stdout",
     "output_type": "stream",
     "text": [
      "[1, 4, 9, 16, 25]\n"
     ]
    }
   ],
   "source": [
    "def square(x):\n",
    "    return x**2\n",
    "\n",
    "numbers = [1, 2, 3, 4, 5]\n",
    "squared_numbers = map(square, numbers)\n",
    "\n",
    "print(list(squared_numbers))\n",
    "# Output: [1, 4, 9, 16, 25]\n"
   ]
  },
  {
   "cell_type": "code",
   "execution_count": 13,
   "id": "41079079-4474-45e5-bc34-d4dabf894e18",
   "metadata": {},
   "outputs": [
    {
     "name": "stdout",
     "output_type": "stream",
     "text": [
      "[5, 7, 9]\n"
     ]
    }
   ],
   "source": [
    "list1 = [1, 2, 3]\n",
    "list2 = [4, 5, 6]\n",
    "\n",
    "sums = map(lambda x, y: x + y, list1, list2)\n",
    "\n",
    "print(list(sums))\n",
    "# Output: [5, 7, 9]\n"
   ]
  },
  {
   "cell_type": "markdown",
   "id": "c33b262e-4101-4972-8536-0895ae504599",
   "metadata": {},
   "source": [
    "### 10.What is the difference between map(), reduce(), and filter() functions in Python"
   ]
  },
  {
   "cell_type": "markdown",
   "id": "cb1a0306-50de-4329-9061-2e61ae7733cf",
   "metadata": {},
   "source": [
    "The map(), reduce(), and filter() functions in Python are functional programming tools that allow you to apply functions to iterables in different ways. "
   ]
  },
  {
   "cell_type": "markdown",
   "id": "522d97ce-bb49-4c58-9a57-6ca2f83fb998",
   "metadata": {},
   "source": [
    "### 'map()'"
   ]
  },
  {
   "cell_type": "markdown",
   "id": "f67c39c6-3bcc-412e-9012-23baa4020f37",
   "metadata": {},
   "source": [
    "The map() function applies a given function to each item of an iterable (like a list or tuple) and returns an iterator that produces the results."
   ]
  },
  {
   "cell_type": "markdown",
   "id": "c3a52c4f-9ed0-4fdb-b9f9-8aee0a8d1441",
   "metadata": {},
   "source": [
    "Purpose: Transform each element in an iterable by applying a function."
   ]
  },
  {
   "cell_type": "markdown",
   "id": "4fdb22a1-4dca-4805-aa70-c4524c9023be",
   "metadata": {},
   "source": [
    "Returns: An iterator containing the transformed elements."
   ]
  },
  {
   "cell_type": "markdown",
   "id": "7d69792e-fc17-4c52-a385-9497d3beb670",
   "metadata": {},
   "source": [
    "Input: A function and one or more iterables."
   ]
  },
  {
   "cell_type": "code",
   "execution_count": 14,
   "id": "04e76f2d-5b18-4260-a689-48e2e1a47078",
   "metadata": {},
   "outputs": [
    {
     "name": "stdout",
     "output_type": "stream",
     "text": [
      "[1, 4, 9, 16, 25]\n"
     ]
    }
   ],
   "source": [
    "numbers = [1, 2, 3, 4, 5]\n",
    "squared_numbers = map(lambda x: x**2, numbers)\n",
    "print(list(squared_numbers))\n",
    "# Output: [1, 4, 9, 16, 25]\n"
   ]
  },
  {
   "cell_type": "markdown",
   "id": "5ba2e8f8-ca8c-46fe-a402-37564a3d5f76",
   "metadata": {},
   "source": [
    "### 'filter()'"
   ]
  },
  {
   "cell_type": "markdown",
   "id": "7523df63-2a36-487a-ad73-13c5cc624207",
   "metadata": {},
   "source": [
    "The filter() function filters elements from an iterable by applying a function that returns either True or False for each element. Only elements for which the function returns True are included in the result.\n",
    "\n"
   ]
  },
  {
   "cell_type": "markdown",
   "id": "3b636f3f-3299-4a21-a9f9-99186371ef70",
   "metadata": {},
   "source": [
    "Purpose: Select elements from an iterable that meet a certain condition.\n"
   ]
  },
  {
   "cell_type": "markdown",
   "id": "d2cb03fd-b743-4c0f-858b-2c37ab1bb367",
   "metadata": {},
   "source": [
    "Returns: An iterator containing elements that satisfy the condition."
   ]
  },
  {
   "cell_type": "markdown",
   "id": "0cd1d832-3758-4661-848f-1127e341622d",
   "metadata": {},
   "source": [
    "Returns: An iterator containing elements that satisfy the condition."
   ]
  },
  {
   "cell_type": "code",
   "execution_count": 15,
   "id": "70d8f75a-7882-4d89-bfce-e50fa57f9493",
   "metadata": {},
   "outputs": [
    {
     "name": "stdout",
     "output_type": "stream",
     "text": [
      "[2, 4, 6]\n"
     ]
    }
   ],
   "source": [
    "numbers = [1, 2, 3, 4, 5, 6]\n",
    "even_numbers = filter(lambda x: x % 2 == 0, numbers)\n",
    "print(list(even_numbers))\n",
    "# Output: [2, 4, 6]\n"
   ]
  },
  {
   "cell_type": "markdown",
   "id": "fb86f8da-7092-4846-bada-37746e941901",
   "metadata": {},
   "source": [
    "### 'reduce()'"
   ]
  },
  {
   "cell_type": "markdown",
   "id": "c2eee4a3-9958-40b7-8b96-9e0ad4b74c29",
   "metadata": {},
   "source": [
    "The reduce() function applies a rolling computation to sequential pairs of values in an iterable. It reduces the iterable to a single cumulative value by applying a binary function.\n",
    "\n"
   ]
  },
  {
   "cell_type": "markdown",
   "id": "78ecf7e5-faf8-484e-90bd-db9c6b972c9a",
   "metadata": {},
   "source": [
    "Purpose: Combine all elements of an iterable into a single value using a binary function."
   ]
  },
  {
   "cell_type": "markdown",
   "id": "717e2e6f-58c3-4926-912d-cebb8a074696",
   "metadata": {},
   "source": [
    "Returns: A single value."
   ]
  },
  {
   "cell_type": "markdown",
   "id": "bfeb7285-4999-4860-a14b-e62ccb3383ca",
   "metadata": {},
   "source": [
    "Input: A function that takes two arguments and an iterable."
   ]
  },
  {
   "cell_type": "code",
   "execution_count": 16,
   "id": "e0e1cedc-5142-4985-b1e2-eb926b5dc9e1",
   "metadata": {},
   "outputs": [
    {
     "name": "stdout",
     "output_type": "stream",
     "text": [
      "15\n"
     ]
    }
   ],
   "source": [
    "from functools import reduce\n",
    "\n",
    "numbers = [1, 2, 3, 4, 5]\n",
    "sum_of_numbers = reduce(lambda x, y: x + y, numbers)\n",
    "print(sum_of_numbers)\n",
    "# Output: 15\n"
   ]
  },
  {
   "cell_type": "markdown",
   "id": "c4cfb5bb-fd75-4651-9b50-538a535c3df5",
   "metadata": {},
   "source": [
    "### 1. Write a Python function that takes a list of numbers as input and returns the sum of all even numbers in the list."
   ]
  },
  {
   "cell_type": "code",
   "execution_count": 1,
   "id": "8062fb7b-9135-424b-b1ca-9e0d76eb25fd",
   "metadata": {},
   "outputs": [
    {
     "name": "stdout",
     "output_type": "stream",
     "text": [
      "Sum of even numbers: 30\n"
     ]
    }
   ],
   "source": [
    "def sum_of_even_numbers(numbers):\n",
    "    even_sum=0;\n",
    "    \n",
    "    for num in numbers:\n",
    "        if num%2==0:\n",
    "            even_sum+=num;\n",
    "            \n",
    "    return even_sum\n",
    "\n",
    "numbers_list = [1, 2, 3, 4, 5, 6, 7, 8, 9, 10]\n",
    "result = sum_of_even_numbers(numbers_list)\n",
    "print(\"Sum of even numbers:\", result)  "
   ]
  },
  {
   "cell_type": "markdown",
   "id": "e110f87c-fa26-44f3-a391-25a48928cbfb",
   "metadata": {},
   "source": [
    "### 2. Create a Python function that accepts a string and returns the reverse of that string.\n"
   ]
  },
  {
   "cell_type": "code",
   "execution_count": 2,
   "id": "0706d0a8-e888-4ee1-bc00-8ac53c6e0f05",
   "metadata": {},
   "outputs": [
    {
     "name": "stdout",
     "output_type": "stream",
     "text": [
      "Original string:  Hello,World!\n",
      "Reversed string:  !dlroW,olleH\n"
     ]
    }
   ],
   "source": [
    "def reverse_string(s):\n",
    "    return s[::-1]\n",
    "\n",
    "original_string=\"Hello,World!\"\n",
    "\n",
    "reversed_string=reverse_string(original_string)\n",
    "print(\"Original string: \",original_string)\n",
    "print(\"Reversed string: \",reversed_string)"
   ]
  },
  {
   "cell_type": "code",
   "execution_count": 3,
   "id": "d6e1b262-b866-4c7f-864e-71dc2db3f29c",
   "metadata": {},
   "outputs": [
    {
     "name": "stdout",
     "output_type": "stream",
     "text": [
      "Original list: [1, 2, 3, 4, 5]\n",
      "Squared list: [1, 4, 9, 16, 25]\n"
     ]
    }
   ],
   "source": [
    "def square_numbers(numbers):\n",
    "    squared_numbers=[num**2 for num in numbers]\n",
    "    return squared_numbers\n",
    "\n",
    "numbers_list = [1, 2, 3, 4, 5]\n",
    "squared_list = square_numbers(numbers_list)\n",
    "print(\"Original list:\", numbers_list)\n",
    "print(\"Squared list:\", squared_list)  "
   ]
  },
  {
   "cell_type": "code",
   "execution_count": null,
   "id": "ca2257b1-7d17-4fd9-9645-c317dd4b5c28",
   "metadata": {},
   "outputs": [],
   "source": [
    "def is_prime(number):\n",
    "    \"\"\"Check if the given number is a prime number.\"\"\"\n",
    "    if number==1:\n",
    "        return False\n",
    "    \n",
    "    if number==2:\n",
    "        return True\n",
    "    \n",
    "    i=2\n",
    "    while i < number:\n",
    "        if number % i == 0 :\n",
    "            return False\n",
    "        \n",
    "        i+=1\n",
    "      \n",
    "    return True\n",
    "\n",
    "# Example usage:\n",
    "for num in range(1, 201+1):\n",
    "    if is_prime(num):\n",
    "        print(f\"{num} is a prime number.\")\n",
    "    else:\n",
    "        print(f\"{num} is not a prime number.\")\n",
    "\n",
    "        "
   ]
  },
  {
   "cell_type": "markdown",
   "id": "e3a8de76-6024-44a7-9a07-5e4cc2cf17a2",
   "metadata": {},
   "source": [
    "### 5. Create an iterator class in Python that generates the Fibonacci sequence up to a specified number of terms.\n"
   ]
  },
  {
   "cell_type": "markdown",
   "id": "69a60d75-0c39-49fc-a571-91194ad61342",
   "metadata": {},
   "source": [
    "### 6. Write a generator function in Python that yields the powers of 2 up to a given exponent."
   ]
  },
  {
   "cell_type": "code",
   "execution_count": null,
   "id": "bae00daa-08c2-4a0a-bffb-3fd7e2d17555",
   "metadata": {},
   "outputs": [],
   "source": [
    "def powers_of_two(max_exponent):\n",
    "    \"\"\"Generator function to yield powers of 2 up to the given exponent.\"\"\"\n",
    "    for exponent in range(max_exponent + 1):\n",
    "        yield 2 ** exponent\n",
    "\n",
    "# Example usage:\n",
    "max_exponent = 10\n",
    "for power in powers_of_two(max_exponent):\n",
    "    print(power)\n"
   ]
  },
  {
   "cell_type": "markdown",
   "id": "676edb03-fe2d-430e-86d2-58bce11b18ba",
   "metadata": {},
   "source": [
    "### 7. Implement a generator function that reads a file line by line and yields each line as a string."
   ]
  },
  {
   "cell_type": "code",
   "execution_count": null,
   "id": "cb43674d-a3fb-4d4e-ae1a-4a5d1c98a3d4",
   "metadata": {},
   "outputs": [],
   "source": [
    "def read_lines(filename):\n",
    "    \"\"\"Generator function to yield lines from a file one by one.\"\"\"\n",
    "    with open(filename, 'r') as file:\n",
    "        for line in file:\n",
    "            yield line.rstrip('\\n')  # Remove the newline character at the end of each line\n",
    "\n",
    "# Example usage:\n",
    "filename = 'example.txt'\n",
    "for line in read_lines(filename):\n",
    "    print(line)\n"
   ]
  },
  {
   "cell_type": "markdown",
   "id": "763cf216-c0b2-4d25-b825-cec0cfbd93a9",
   "metadata": {},
   "source": [
    "### 8. Use a lambda function in Python to sort a list of tuples based on the second element of each tuple.\n",
    "\n"
   ]
  },
  {
   "cell_type": "code",
   "execution_count": null,
   "id": "b6df7539-a6bf-41cc-bef8-8a1e1378c08c",
   "metadata": {},
   "outputs": [],
   "source": [
    "# List of tuples\n",
    "tuples_list = [(1, 'banana'), (2, 'apple'), (3, 'cherry'), (4, 'date')]\n",
    "\n",
    "# Sorting the list of tuples based on the second element\n",
    "sorted_list = sorted(tuples_list, key=lambda x: x[1])\n",
    "\n",
    "# Print the sorted list\n",
    "print(sorted_list)\n"
   ]
  },
  {
   "cell_type": "markdown",
   "id": "6ef46e7a-9292-4d0c-976e-b4f3ca380947",
   "metadata": {},
   "source": [
    "### 9. Write a Python program that uses `map()` to convert a list of temperatures from Celsius to Fahrenheit.\n",
    "\n"
   ]
  },
  {
   "cell_type": "code",
   "execution_count": null,
   "id": "050c0a0f-b7ca-415a-b4e1-289b970057e4",
   "metadata": {},
   "outputs": [],
   "source": [
    "def celsius_to_fahrenheit(celsius):\n",
    "    \"\"\"Convert Celsius to Fahrenheit.\"\"\"\n",
    "    return (celsius * 9/5) + 32\n",
    "\n",
    "# List of temperatures in Celsius\n",
    "celsius_temps = [0, 20, 37, 100]\n",
    "\n",
    "# Use map to convert each temperature to Fahrenheit\n",
    "fahrenheit_temps = map(celsius_to_fahrenheit, celsius_temps)\n",
    "\n",
    "# Convert the map object to a list and print it\n",
    "fahrenheit_temps_list = list(fahrenheit_temps)\n",
    "print(fahrenheit_temps_list)\n"
   ]
  },
  {
   "cell_type": "markdown",
   "id": "8a25ff47-4383-4047-8bae-36aa72efaade",
   "metadata": {},
   "source": [
    "### 10. Create a Python program that uses filter() to remove all the vowels from a given string.\n"
   ]
  },
  {
   "cell_type": "code",
   "execution_count": null,
   "id": "74bd038a-9fb8-4cd7-893a-72ec4acc4dfd",
   "metadata": {},
   "outputs": [],
   "source": [
    "def is_not_vowel(char):\n",
    "    \"\"\"Return True if the character is not a vowel.\"\"\"\n",
    "    return char.lower() not in 'aeiou'\n",
    "\n",
    "def remove_vowels(input_string):\n",
    "    \"\"\"Remove all vowels from the given string using filter.\"\"\"\n",
    "    # Filter out vowels\n",
    "    filtered_chars = filter(is_not_vowel, input_string)\n",
    "    # Join the filtered characters into a new string\n",
    "    return ''.join(filtered_chars)\n",
    "\n",
    "# Example usage\n",
    "input_string = \"Hello, World!\"\n",
    "result = remove_vowels(input_string)\n",
    "print(result)\n"
   ]
  },
  {
   "cell_type": "markdown",
   "id": "9ac23894-b675-42b3-ba5f-ba25bb21f34c",
   "metadata": {},
   "source": [
    "\n",
    "### 11 Write a Python program, which returns a list with 2-tuples. Each tuple consists of the order number and the product of the price per item and the quantity. The product should be increased by 10,- € if the value of the order is smaller than 100,00 €.\n",
    "\n",
    "Write a Python program using lambda and map.\n",
    "\n"
   ]
  },
  {
   "cell_type": "code",
   "execution_count": null,
   "id": "314e0905-702b-449b-990c-ce5ff92f7dd9",
   "metadata": {},
   "outputs": [],
   "source": [
    "def process_orders(orders):\n",
    "    def calculate_total(order):\n",
    "        order_number, _, quantity, price = order\n",
    "        total = quantity * price\n",
    "        return (order_number, total + 10 if total < 100 else total)\n",
    "\n",
    "    return list(map(calculate_total, orders))\n",
    "\n",
    "# Sample data (replace with your actual data)\n",
    "orders = [\n",
    "    (34587, \"Learning Python, Mark Lutz\", 4, 40.95),\n",
    "    (98762, \"Programming Python, Mark Lutz\", 5, 56.80),\n",
    "    (77226, \"Head First Python, Paul Barry\", 3, 32.95),\n",
    "    (88112, \"Einführung in Python3, Bernd Klein\", 3, 24.99)\n",
    "]\n",
    "\n",
    "result = process_orders(orders)\n",
    "print(result)"
   ]
  }
 ],
 "metadata": {
  "kernelspec": {
   "display_name": "Python 3 (ipykernel)",
   "language": "python",
   "name": "python3"
  },
  "language_info": {
   "codemirror_mode": {
    "name": "ipython",
    "version": 3
   },
   "file_extension": ".py",
   "mimetype": "text/x-python",
   "name": "python",
   "nbconvert_exporter": "python",
   "pygments_lexer": "ipython3",
   "version": "3.10.8"
  }
 },
 "nbformat": 4,
 "nbformat_minor": 5
}
