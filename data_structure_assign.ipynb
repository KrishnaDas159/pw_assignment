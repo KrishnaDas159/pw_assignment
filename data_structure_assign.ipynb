{
 "cells": [
  {
   "cell_type": "markdown",
   "id": "4a2ccf01-dc60-4325-a838-a0a11f386424",
   "metadata": {},
   "source": [
    "### 1.  Discuss string slicing and provide examples."
   ]
  },
  {
   "cell_type": "markdown",
   "id": "660f22c9-794e-4579-81a3-56622eeff3b1",
   "metadata": {},
   "source": [
    "Ans:String slicing is a way to extract a portion of a string by specifying a range of indices.\n"
   ]
  },
  {
   "cell_type": "markdown",
   "id": "bcb059e6-7404-4e48-8f0f-a874e08a877a",
   "metadata": {},
   "source": [
    "##### syntax string[start:end:step],"
   ]
  },
  {
   "cell_type": "markdown",
   "id": "86aafc1d-9b42-4e8e-b228-c14319e60456",
   "metadata": {},
   "source": [
    "examples:\n"
   ]
  },
  {
   "cell_type": "code",
   "execution_count": 2,
   "id": "4307cbe9-bc11-45fc-912f-eda65b56a998",
   "metadata": {},
   "outputs": [
    {
     "name": "stdout",
     "output_type": "stream",
     "text": [
      "Hello\n"
     ]
    }
   ],
   "source": [
    "# Extracting a Substring:\n",
    "text = \"Hello, World!\"\n",
    "substring = text[0:5]  # \"Hello\"\n",
    "print(substring)"
   ]
  },
  {
   "cell_type": "code",
   "execution_count": 4,
   "id": "a2bf26cd-6e93-4b76-999f-9e3d90d8072b",
   "metadata": {},
   "outputs": [
    {
     "name": "stdout",
     "output_type": "stream",
     "text": [
      "Hello\n"
     ]
    }
   ],
   "source": [
    "# Slicing with Omitted Start or End:\n",
    "text = \"Hello, World!\"\n",
    "substring = text[:5]  # \"Hello\"\n",
    "print(substring)"
   ]
  },
  {
   "cell_type": "code",
   "execution_count": 5,
   "id": "a96b8c0b-3162-4192-8f4e-9a6a8eaea5b0",
   "metadata": {},
   "outputs": [
    {
     "name": "stdout",
     "output_type": "stream",
     "text": [
      "World!\n"
     ]
    }
   ],
   "source": [
    "text = \"Hello, World!\"\n",
    "substring = text[7:]  # \"World!\"\n",
    "print(substring)"
   ]
  },
  {
   "cell_type": "code",
   "execution_count": 6,
   "id": "6d9fbc03-1612-4153-a9a0-38409a8ee082",
   "metadata": {},
   "outputs": [
    {
     "name": "stdout",
     "output_type": "stream",
     "text": [
      "World!\n"
     ]
    }
   ],
   "source": [
    "# Slicing with Negative Indices:\n",
    "text = \"Hello, World!\"\n",
    "substring = text[-6:]  # \"World!\"\n",
    "print(substring)"
   ]
  },
  {
   "cell_type": "code",
   "execution_count": 7,
   "id": "1605360a-a5b1-4003-aa28-48bd586b7dd4",
   "metadata": {},
   "outputs": [
    {
     "name": "stdout",
     "output_type": "stream",
     "text": [
      "Hlo ol\n"
     ]
    }
   ],
   "source": [
    "# Using Step:\n",
    "text = \"Hello, World!\"\n",
    "substring = text[0:12:2]  # \"Hlo ol\"\n",
    "print(substring)"
   ]
  },
  {
   "cell_type": "code",
   "execution_count": 8,
   "id": "0eadb26d-ec18-4e0d-a812-e0e397d4ef5b",
   "metadata": {},
   "outputs": [
    {
     "name": "stdout",
     "output_type": "stream",
     "text": [
      "!dlroW ,olleH\n"
     ]
    }
   ],
   "source": [
    "# Reversing a String:\n",
    "text = \"Hello, World!\"\n",
    "reversed_text = text[::-1]  # \"!dlroW ,olleH\"\n",
    "print(reversed_text)"
   ]
  },
  {
   "cell_type": "markdown",
   "id": "c34b7de3-72c3-400d-972b-440895ba5a51",
   "metadata": {},
   "source": [
    "### 2. Explain the key features of lists in Python"
   ]
  },
  {
   "cell_type": "markdown",
   "id": "3f7da0b3-fecb-499a-8ab7-8e8b8c42f6c7",
   "metadata": {},
   "source": [
    "Lists are one of the most versatile and commonly used data structures in Python.\n",
    "They are mutable, ordered collections of items that can store elements of \n",
    "different types. Here are the key features of lists in Python:"
   ]
  },
  {
   "cell_type": "markdown",
   "id": "c77df9af-ba23-426c-8c8d-2e51597b11eb",
   "metadata": {},
   "source": [
    "1. Mutability :\n",
    "Lists can be modified after creation"
   ]
  },
  {
   "cell_type": "code",
   "execution_count": 9,
   "id": "16ea4630-261d-4a6f-86a3-aa958360933e",
   "metadata": {},
   "outputs": [
    {
     "name": "stdout",
     "output_type": "stream",
     "text": [
      "[10, 2, 3, 4]\n"
     ]
    }
   ],
   "source": [
    "my_list = [1, 2, 3]\n",
    "my_list[0] = 10  # [10, 2, 3]\n",
    "my_list.append(4)  # [10, 2, 3, 4]\n",
    "print(my_list)"
   ]
  },
  {
   "cell_type": "markdown",
   "id": "a8f1ef58-2ae5-405e-9c7f-effc31f59058",
   "metadata": {},
   "source": [
    "2. Ordered"
   ]
  },
  {
   "cell_type": "markdown",
   "id": "f28a1f44-b149-4ff6-9c63-38b240cecb82",
   "metadata": {},
   "source": [
    "Elements in a list have a defined order, and this order will not change unless explicitly modified."
   ]
  },
  {
   "cell_type": "code",
   "execution_count": 10,
   "id": "dd9224b3-c4c1-4d44-80c1-3a792c55f26a",
   "metadata": {},
   "outputs": [],
   "source": [
    "my_list = ['a', 'b', 'c']\n",
    "# 'a' is always at index 0, 'b' at index 1, and so on\n"
   ]
  },
  {
   "cell_type": "markdown",
   "id": "f8a4317b-7945-4546-ae7f-43db7b5a33d2",
   "metadata": {},
   "source": [
    "3. Indexed Access"
   ]
  },
  {
   "cell_type": "markdown",
   "id": "73ff62cd-7ca8-498a-a34c-9c47c99d66ae",
   "metadata": {},
   "source": [
    "Elements can be accessed and modified using indices. Negative indices can be used to access elements from the end of the list."
   ]
  },
  {
   "cell_type": "code",
   "execution_count": 11,
   "id": "13e2750c-0856-464d-8ced-e2b703979821",
   "metadata": {},
   "outputs": [
    {
     "name": "stdout",
     "output_type": "stream",
     "text": [
      "apple\n",
      "cherry\n"
     ]
    }
   ],
   "source": [
    "my_list = ['apple', 'banana', 'cherry']\n",
    "first = my_list[0]  # 'apple'\n",
    "last = my_list[-1]  # 'cherry'\n",
    "print(first)\n",
    "print(last)"
   ]
  },
  {
   "cell_type": "markdown",
   "id": "6d2d2846-8611-40e4-9a5e-6f7f7e388193",
   "metadata": {},
   "source": [
    "4. Heterogeneous Elements"
   ]
  },
  {
   "cell_type": "markdown",
   "id": "6e9cd6ee-6c90-413f-bb70-923f65ed9d51",
   "metadata": {},
   "source": [
    "A list can contain elements of different types."
   ]
  },
  {
   "cell_type": "code",
   "execution_count": 12,
   "id": "164d119c-8324-4d9c-8f5f-4b2f6947b5d3",
   "metadata": {},
   "outputs": [],
   "source": [
    "my_list = [1, \"hello\", 3.14, [1, 2, 3]]\n"
   ]
  },
  {
   "cell_type": "markdown",
   "id": "dc9eb378-36c5-4c1a-bc85-654480f7ec0c",
   "metadata": {},
   "source": [
    "5.Dynamic Size"
   ]
  },
  {
   "cell_type": "markdown",
   "id": "7963a112-3c4a-4b69-a467-a53ee9acbcdb",
   "metadata": {},
   "source": [
    "Lists can grow and shrink in size as elements are added or removed."
   ]
  },
  {
   "cell_type": "code",
   "execution_count": 30,
   "id": "037e9371-32e6-43bc-87a1-17fca8bc3929",
   "metadata": {},
   "outputs": [
    {
     "name": "stdout",
     "output_type": "stream",
     "text": [
      "[1, 2, 3, 4]\n",
      "[1, 2, 3]\n"
     ]
    }
   ],
   "source": [
    "my_list = [1, 2, 3]\n",
    "my_list.append(4)  # [1, 2, 3, 4]\n",
    "print(my_list)\n",
    "my_list.pop()  # [1, 2, 3]\n",
    "print(my_list)\n"
   ]
  },
  {
   "cell_type": "markdown",
   "id": "91dfd446-8f52-49f5-be84-6d353cfdc4a8",
   "metadata": {},
   "source": [
    "6. Comprehensions\n"
   ]
  },
  {
   "cell_type": "code",
   "execution_count": 27,
   "id": "9069f6b3-6c67-4452-b2c3-3b1d90a3210d",
   "metadata": {},
   "outputs": [
    {
     "name": "stdout",
     "output_type": "stream",
     "text": [
      "[0, 1, 4, 9, 16, 25, 36, 49, 64, 81]\n"
     ]
    }
   ],
   "source": [
    "squares = [x**2 for x in range(10)]  # [0, 1, 4, 9, 16, 25, 36, 49, 64, 81]\n",
    "print(squares)"
   ]
  },
  {
   "cell_type": "markdown",
   "id": "02b47ea4-29c6-4f2d-bade-f5fdadaac501",
   "metadata": {},
   "source": [
    " 7.Slicing\n"
   ]
  },
  {
   "cell_type": "code",
   "execution_count": 28,
   "id": "96806356-f626-470f-ba8c-17c68cf7d6f6",
   "metadata": {},
   "outputs": [
    {
     "name": "stdout",
     "output_type": "stream",
     "text": [
      "[1, 2, 3]\n"
     ]
    }
   ],
   "source": [
    "my_list = [0, 1, 2, 3, 4, 5]\n",
    "sub_list = my_list[1:4]  # [1, 2, 3]\n",
    "print(sub_list)"
   ]
  },
  {
   "cell_type": "markdown",
   "id": "9fd84e06-7392-4678-9912-04f411fd566f",
   "metadata": {},
   "source": [
    "### 3. Describe how to access,modify , and delete elements in a list with examples"
   ]
  },
  {
   "cell_type": "markdown",
   "id": "35b1b401-fec1-4574-8cae-a9b2287dda2f",
   "metadata": {},
   "source": [
    "Accessing Elements in a List"
   ]
  },
  {
   "cell_type": "code",
   "execution_count": 31,
   "id": "fb380306-898e-4da9-8501-2b947eabb3bc",
   "metadata": {},
   "outputs": [
    {
     "name": "stdout",
     "output_type": "stream",
     "text": [
      "apple\n",
      "banana\n",
      "date\n",
      "cherry\n"
     ]
    }
   ],
   "source": [
    "my_list = ['apple', 'banana', 'cherry', 'date']\n",
    "\n",
    "# Accessing elements by positive index\n",
    "first_element = my_list[0]  # 'apple'\n",
    "print(first_element)\n",
    "second_element = my_list[1]  # 'banana'\n",
    "print(second_element)\n",
    "\n",
    "# Accessing elements by negative index\n",
    "last_element = my_list[-1]  # 'date'\n",
    "print(last_element)\n",
    "\n",
    "second_last_element = my_list[-2]  # 'cherry'\n",
    "print(second_last_element)\n"
   ]
  },
  {
   "cell_type": "markdown",
   "id": "2ca2c51e-b433-47fc-a8bb-35ab0def8836",
   "metadata": {},
   "source": [
    "Modifying Elements in a List"
   ]
  },
  {
   "cell_type": "code",
   "execution_count": 32,
   "id": "160d9f85-c0eb-421b-b3e8-7192437d3949",
   "metadata": {},
   "outputs": [
    {
     "name": "stdout",
     "output_type": "stream",
     "text": [
      "['apple', 'blueberry', 'cherry', 'date']\n",
      "['apple', 'blueberry', 'cherry', 'dragonfruit']\n"
     ]
    }
   ],
   "source": [
    "my_list = ['apple', 'banana', 'cherry', 'date']\n",
    "\n",
    "# Modifying elements by index\n",
    "my_list[1] = 'blueberry'  # ['apple', 'blueberry', 'cherry', 'date']\n",
    "print(my_list)\n",
    "my_list[-1] = 'dragonfruit'  # ['apple', 'blueberry', 'cherry', 'dragonfruit']\n",
    "print(my_list)"
   ]
  },
  {
   "cell_type": "markdown",
   "id": "6bbb783d-fa7b-4227-8bec-82cf09e9bdc0",
   "metadata": {},
   "source": [
    "Deleting Elements in a List"
   ]
  },
  {
   "cell_type": "code",
   "execution_count": 33,
   "id": "f56a293a-e877-414c-a7e2-728f293edb40",
   "metadata": {},
   "outputs": [
    {
     "name": "stdout",
     "output_type": "stream",
     "text": [
      "['apple', 'cherry', 'date']\n"
     ]
    }
   ],
   "source": [
    "my_list = ['apple', 'banana', 'cherry', 'date']\n",
    "\n",
    "# Removing an element by value\n",
    "my_list.remove('banana')  # ['apple', 'cherry', 'date']\n",
    "print(my_list)"
   ]
  },
  {
   "cell_type": "code",
   "execution_count": 34,
   "id": "60f0296a-52ee-4684-b84c-ada9ec5b7bb2",
   "metadata": {},
   "outputs": [
    {
     "name": "stdout",
     "output_type": "stream",
     "text": [
      "['apple', 'cherry', 'date']\n",
      "['apple']\n"
     ]
    }
   ],
   "source": [
    "my_list = ['apple', 'banana', 'cherry', 'date']\n",
    "\n",
    "# Deleting an element by index\n",
    "del my_list[1]  # ['apple', 'cherry', 'date']\n",
    "print(my_list)\n",
    "# Deleting a slice of the list\n",
    "del my_list[1:3]  # ['apple']\n",
    "print(my_list)"
   ]
  },
  {
   "cell_type": "code",
   "execution_count": 35,
   "id": "dbc85941-ad91-4187-9614-9c0d3189cb11",
   "metadata": {},
   "outputs": [
    {
     "name": "stdout",
     "output_type": "stream",
     "text": [
      "['apple', 'cherry', 'date']\n",
      "['apple', 'cherry']\n"
     ]
    }
   ],
   "source": [
    "my_list = ['apple', 'banana', 'cherry', 'date']\n",
    "\n",
    "# Removing and returning an element by index\n",
    "popped_element = my_list.pop(1)  # 'banana'\n",
    "print(my_list)  # ['apple', 'cherry', 'date']\n",
    "\n",
    "# Removing and returning the last element\n",
    "last_element = my_list.pop()  # 'date'\n",
    "print(my_list)  # ['apple', 'cherry']\n"
   ]
  },
  {
   "cell_type": "markdown",
   "id": "b12e2ab8-52c2-4801-8b56-85549187b42c",
   "metadata": {},
   "source": [
    "### 4. Compare and contrast tuples and lists with examples"
   ]
  },
  {
   "cell_type": "markdown",
   "id": "e862cc96-8998-4a8c-b3a1-ade817c873c9",
   "metadata": {},
   "source": [
    "Both tuples and lists are data structures in Python used to store collections of items."
   ]
  },
  {
   "cell_type": "markdown",
   "id": "6aac6499-d757-4b40-9666-a7a5460b6982",
   "metadata": {},
   "source": [
    "1. Mutability"
   ]
  },
  {
   "cell_type": "markdown",
   "id": "835ace8f-fc54-4e87-91b7-41ab9cd65ab7",
   "metadata": {},
   "source": [
    "Lists are mutable, meaning their elements can be changed after creation."
   ]
  },
  {
   "cell_type": "markdown",
   "id": "d0472c9a-e5fe-4944-8fe4-e62b55372da4",
   "metadata": {},
   "source": [
    "Tuples are immutable, meaning once they are created, their elements cannot be changed."
   ]
  },
  {
   "cell_type": "code",
   "execution_count": 36,
   "id": "3c8fd7a5-2cd8-473f-ac2e-1f7672c1a28c",
   "metadata": {},
   "outputs": [
    {
     "name": "stdout",
     "output_type": "stream",
     "text": [
      "[1, 20, 3]\n"
     ]
    }
   ],
   "source": [
    "# List (mutable)\n",
    "my_list = [1, 2, 3]\n",
    "my_list[1] = 20  # [1, 20, 3]\n",
    "print(my_list)\n",
    "# Tuple (immutable)\n",
    "my_tuple = (1, 2, 3)\n",
    "\n",
    "# my_tuple[1] = 20  # This will raise a TypeError\n"
   ]
  },
  {
   "cell_type": "markdown",
   "id": "4d62c543-cd78-4543-9d19-a12a5882d555",
   "metadata": {},
   "source": [
    "2. Syntax"
   ]
  },
  {
   "cell_type": "markdown",
   "id": "e51fc2f7-3e4b-4833-b9d8-1eba4271bfb1",
   "metadata": {},
   "source": [
    "Lists are defined using square brackets []."
   ]
  },
  {
   "cell_type": "markdown",
   "id": "de6f1c9d-7a72-47f2-ac3c-0f121bc26a20",
   "metadata": {},
   "source": [
    "Tuples are defined using parentheses ()."
   ]
  },
  {
   "cell_type": "code",
   "execution_count": 37,
   "id": "2fc0c3d9-fd7e-4f97-a2f8-80c28e5e7b63",
   "metadata": {},
   "outputs": [],
   "source": [
    "# List\n",
    "my_list = [1, 2, 3]\n",
    "\n",
    "# Tuple\n",
    "my_tuple = (1, 2, 3)\n"
   ]
  },
  {
   "cell_type": "markdown",
   "id": "b9b9d124-ff53-49e6-8dd0-7b80e4311622",
   "metadata": {},
   "source": [
    "3. Performance"
   ]
  },
  {
   "cell_type": "markdown",
   "id": "740f3a13-6058-4065-98bf-fb2c25c24735",
   "metadata": {},
   "source": [
    "Lists have a slight performance overhead due to their mutable nature."
   ]
  },
  {
   "cell_type": "markdown",
   "id": "d29a39c7-7fce-4844-9fa1-fb27fb979bcd",
   "metadata": {},
   "source": [
    "Tuples are generally faster and use less memory because they are immutable."
   ]
  },
  {
   "cell_type": "markdown",
   "id": "ffd8c41a-355a-473f-ae60-03a7039403b8",
   "metadata": {},
   "source": [
    "4. Use Cases\n"
   ]
  },
  {
   "cell_type": "markdown",
   "id": "f22e1ad5-f910-404a-b520-58f618506d38",
   "metadata": {},
   "source": [
    "Lists are used when we need a collection of items that may change during the program's execution."
   ]
  },
  {
   "cell_type": "markdown",
   "id": "5848a016-756d-47e3-baa0-d80925cb9e7f",
   "metadata": {},
   "source": [
    "Tuples are used for fixed collections of items, especially when you want to ensure the data remains constant."
   ]
  },
  {
   "cell_type": "code",
   "execution_count": 38,
   "id": "d374aff1-2289-4568-8aa1-008ed7a2ee47",
   "metadata": {},
   "outputs": [],
   "source": [
    "# List (mutable collection)\n",
    "shopping_list = ['eggs', 'milk', 'bread']\n",
    "shopping_list.append('butter')  # ['eggs', 'milk', 'bread', 'butter']\n",
    "\n",
    "# Tuple (fixed collection)\n",
    "point = (10, 20)\n",
    "# The coordinates of the point should not change\n"
   ]
  },
  {
   "cell_type": "markdown",
   "id": "faf7d650-476d-46c5-9c62-fe33568075c0",
   "metadata": {},
   "source": [
    "5. Methods"
   ]
  },
  {
   "cell_type": "markdown",
   "id": "c4ddb5d3-2a9a-4ac2-ad11-da5c9cd0cb4c",
   "metadata": {},
   "source": [
    "Lists have a wide range of methods like append(), extend(), remove(), pop(), etc."
   ]
  },
  {
   "cell_type": "markdown",
   "id": "3fde7bc8-c1ac-4cba-b6fc-2567ee878fc4",
   "metadata": {},
   "source": [
    "Tuples have very few methods, mainly count() and index().\n"
   ]
  },
  {
   "cell_type": "code",
   "execution_count": 39,
   "id": "9ca1931c-9dfc-4002-a445-b6db3a9959e3",
   "metadata": {},
   "outputs": [],
   "source": [
    "# List methods\n",
    "my_list = [1, 2, 3]\n",
    "my_list.append(4)  # [1, 2, 3, 4]\n",
    "my_list.remove(2)  # [1, 3, 4]\n",
    "\n",
    "# Tuple methods\n",
    "my_tuple = (1, 2, 3, 2)\n",
    "count_of_twos = my_tuple.count(2)  # 2\n",
    "index_of_three = my_tuple.index(3)  # 2\n"
   ]
  },
  {
   "cell_type": "markdown",
   "id": "90917f3c-de6c-4306-8c3c-5a186bf12496",
   "metadata": {},
   "source": [
    "### 5. Describe the key features of sets and provide examples of their use"
   ]
  },
  {
   "cell_type": "markdown",
   "id": "8b713887-19f6-4bf9-ac82-6b2f3d60837e",
   "metadata": {},
   "source": [
    "A set is an unordered collection of unique elements."
   ]
  },
  {
   "cell_type": "markdown",
   "id": "676c19e3-d71b-407a-a1b6-17104449e59c",
   "metadata": {},
   "source": [
    "1. Unordered Collection"
   ]
  },
  {
   "cell_type": "markdown",
   "id": "abcd94ed-40cb-4150-824b-b910a57d2e3f",
   "metadata": {},
   "source": [
    "Sets do not maintain any order for their elements. This means the elements have no index, and you cannot access elements using indices."
   ]
  },
  {
   "cell_type": "code",
   "execution_count": 40,
   "id": "723e2780-885d-4634-8e9a-9e257bbe0dc9",
   "metadata": {},
   "outputs": [
    {
     "name": "stdout",
     "output_type": "stream",
     "text": [
      "{1, 2, 3, 4}\n"
     ]
    }
   ],
   "source": [
    "my_set = {3, 1, 4, 2}\n",
    "print(my_set)  # Output might be {1, 2, 3, 4}, but the order is not guaranteed\n"
   ]
  },
  {
   "cell_type": "markdown",
   "id": "9ea306cd-90ba-406f-b898-60446579782d",
   "metadata": {},
   "source": [
    "2. Unique Elements\n",
    "\n"
   ]
  },
  {
   "cell_type": "markdown",
   "id": "a14a2840-89a1-4705-a9ff-f2c012d8c4e2",
   "metadata": {},
   "source": [
    "Sets automatically remove duplicate entries. Each element in a set must be unique."
   ]
  },
  {
   "cell_type": "code",
   "execution_count": 41,
   "id": "05578e22-f31a-4d36-bb18-9b258f1d9041",
   "metadata": {},
   "outputs": [
    {
     "name": "stdout",
     "output_type": "stream",
     "text": [
      "{1, 2, 3, 4}\n"
     ]
    }
   ],
   "source": [
    "my_set = {1, 2, 2, 3, 4, 4}\n",
    "print(my_set)  # Output: {1, 2, 3, 4}\n"
   ]
  },
  {
   "cell_type": "markdown",
   "id": "f5487da9-bf5a-4585-b1c8-12d57b91ffc3",
   "metadata": {},
   "source": [
    "3. Mutable"
   ]
  },
  {
   "cell_type": "markdown",
   "id": "aae49582-cd63-4a40-878a-2b79914a0152",
   "metadata": {},
   "source": [
    "Sets are mutable, meaning you can add or remove elements after creating the set."
   ]
  },
  {
   "cell_type": "code",
   "execution_count": 42,
   "id": "088dfaa0-6e9c-448e-a020-8d2cce5b3acc",
   "metadata": {},
   "outputs": [
    {
     "name": "stdout",
     "output_type": "stream",
     "text": [
      "{1, 2, 3, 4}\n",
      "{1, 3, 4}\n"
     ]
    }
   ],
   "source": [
    "my_set = {1, 2, 3}\n",
    "my_set.add(4)  # {1, 2, 3, 4}\n",
    "print(my_set)\n",
    "my_set.remove(2)  # {1, 3, 4}\n",
    "print(my_set)\n"
   ]
  },
  {
   "cell_type": "markdown",
   "id": "2a05bba2-0aef-48f5-aa41-134af895bf17",
   "metadata": {},
   "source": [
    "4. Set Operations"
   ]
  },
  {
   "cell_type": "markdown",
   "id": "3b494ac9-36fe-4582-ac9e-e431518aabf2",
   "metadata": {},
   "source": [
    "Sets support operations like union, intersection, difference, and symmetric difference."
   ]
  },
  {
   "cell_type": "code",
   "execution_count": 43,
   "id": "07ec8244-39d5-424c-852f-0cc71cc934b3",
   "metadata": {},
   "outputs": [],
   "source": [
    "set1 = {1, 2, 3}\n",
    "set2 = {3, 4, 5}\n",
    "\n",
    "# Union\n",
    "union_set = set1 | set2  # {1, 2, 3, 4, 5}\n",
    "union_set = set1.union(set2)  # {1, 2, 3, 4, 5}\n",
    "\n",
    "# Intersection\n",
    "intersection_set = set1 & set2  # {3}\n",
    "intersection_set = set1.intersection(set2)  # {3}\n",
    "\n",
    "# Difference\n",
    "difference_set = set1 - set2  # {1, 2}\n",
    "difference_set = set1.difference(set2)  # {1, 2}\n",
    "\n",
    "# Symmetric Difference\n",
    "symmetric_difference_set = set1 ^ set2  # {1, 2, 4, 5}\n",
    "symmetric_difference_set = set1.symmetric_difference(set2)  # {1, 2, 4, 5}\n"
   ]
  },
  {
   "cell_type": "markdown",
   "id": "011ad2c4-3a93-470b-aacf-51d9a4c828b9",
   "metadata": {},
   "source": [
    "5.Set Comprehensions"
   ]
  },
  {
   "cell_type": "code",
   "execution_count": 44,
   "id": "8272da87-be1b-4304-9eb6-8fdb5c0d1229",
   "metadata": {},
   "outputs": [
    {
     "name": "stdout",
     "output_type": "stream",
     "text": [
      "{0, 64, 4, 36, 16}\n"
     ]
    }
   ],
   "source": [
    "squared_set = {x**2 for x in range(10) if x % 2 == 0}\n",
    "print(squared_set)  # Output: {0, 4, 16, 36, 64}\n"
   ]
  },
  {
   "cell_type": "markdown",
   "id": "6067cf08-d204-492a-a40a-1bc8aa28970b",
   "metadata": {},
   "source": [
    "Examples of Set Usage"
   ]
  },
  {
   "cell_type": "markdown",
   "id": "e662c789-15a3-44a6-a8a0-3763b1619d85",
   "metadata": {},
   "source": [
    "1.Removing Duplicates from a List:"
   ]
  },
  {
   "cell_type": "code",
   "execution_count": 45,
   "id": "6039ceb5-0500-45fb-887c-971d07ff4a09",
   "metadata": {},
   "outputs": [
    {
     "name": "stdout",
     "output_type": "stream",
     "text": [
      "[1, 2, 3, 4, 5]\n"
     ]
    }
   ],
   "source": [
    "my_list = [1, 2, 2, 3, 4, 4, 5]\n",
    "unique_elements = list(set(my_list))\n",
    "print(unique_elements)  # Output: [1, 2, 3, 4, 5]\n"
   ]
  },
  {
   "cell_type": "markdown",
   "id": "1195a819-36f7-4bac-b3e1-ac8e127056ac",
   "metadata": {},
   "source": [
    "2.Finding Common Elements Between Two Lists:"
   ]
  },
  {
   "cell_type": "code",
   "execution_count": 46,
   "id": "ec66a3c1-fff2-47a7-8c4e-a48ee78586a1",
   "metadata": {},
   "outputs": [
    {
     "name": "stdout",
     "output_type": "stream",
     "text": [
      "{3, 4}\n"
     ]
    }
   ],
   "source": [
    "list1 = [1, 2, 3, 4]\n",
    "list2 = [3, 4, 5, 6]\n",
    "common_elements = set(list1).intersection(list2)\n",
    "print(common_elements)  # Output: {3, 4}\n"
   ]
  },
  {
   "cell_type": "markdown",
   "id": "1142ca1e-a4d9-4746-b528-665e583737f3",
   "metadata": {},
   "source": [
    "### 6.Discuss the use cases of tuples and sets in Python programming"
   ]
  },
  {
   "cell_type": "markdown",
   "id": "f6054e9b-1df2-4ca5-a016-f7d1fde096a8",
   "metadata": {},
   "source": [
    "#### Use Cases of Tuples in Python"
   ]
  },
  {
   "cell_type": "markdown",
   "id": "b49da3a6-0ff4-4c8d-baf3-7891cd49abee",
   "metadata": {},
   "source": [
    "1. Returning Multiple Values from Functions"
   ]
  },
  {
   "cell_type": "code",
   "execution_count": 47,
   "id": "8689aff5-0ae7-48b3-809b-90235590c902",
   "metadata": {},
   "outputs": [
    {
     "name": "stdout",
     "output_type": "stream",
     "text": [
      "Min: 1, Max: 5\n"
     ]
    }
   ],
   "source": [
    "def get_min_max(numbers):\n",
    "    return (min(numbers), max(numbers))\n",
    "\n",
    "min_val, max_val = get_min_max([1, 2, 3, 4, 5])\n",
    "print(f\"Min: {min_val}, Max: {max_val}\")  # Output: Min: 1, Max: 5\n"
   ]
  },
  {
   "cell_type": "markdown",
   "id": "4870154d-28bd-49b9-9b3c-176bfd667b38",
   "metadata": {},
   "source": [
    "2.Immutable Data Collections"
   ]
  },
  {
   "cell_type": "code",
   "execution_count": 48,
   "id": "a2378757-ade0-40a0-96c0-1dc2bd3ef541",
   "metadata": {},
   "outputs": [],
   "source": [
    "coordinates = (40.7128, -74.0060)  # Coordinates for New York City\n",
    "# coordinates[0] = 41.0  # This will raise a TypeError\n"
   ]
  },
  {
   "cell_type": "markdown",
   "id": "1a302c6e-b5b8-428a-86dc-4292fcec13a4",
   "metadata": {},
   "source": [
    "4.Storing Heterogeneous Data"
   ]
  },
  {
   "cell_type": "code",
   "execution_count": 49,
   "id": "e5d844e0-54c5-4b27-a8d5-bc3e1c8bdd98",
   "metadata": {},
   "outputs": [
    {
     "name": "stdout",
     "output_type": "stream",
     "text": [
      "John Doe\n"
     ]
    }
   ],
   "source": [
    "person = (\"John Doe\", 30, \"Engineer\")\n",
    "name, age, profession = person\n",
    "print(name)  # Output: John Doe\n"
   ]
  },
  {
   "cell_type": "markdown",
   "id": "6bd67d3b-547f-454e-a043-ee3859ee8774",
   "metadata": {},
   "source": [
    "#### Use Cases of Sets in Python"
   ]
  },
  {
   "cell_type": "markdown",
   "id": "3bdf9c86-2960-447d-a563-7792556182cf",
   "metadata": {},
   "source": [
    "1.Removing Duplicates from a Collection\n"
   ]
  },
  {
   "cell_type": "code",
   "execution_count": 50,
   "id": "6d402461-6897-4413-87ef-d0efe05346e3",
   "metadata": {},
   "outputs": [
    {
     "name": "stdout",
     "output_type": "stream",
     "text": [
      "{1, 2, 3, 4, 5}\n"
     ]
    }
   ],
   "source": [
    "numbers = [1, 2, 2, 3, 4, 4, 5]\n",
    "unique_numbers = set(numbers)\n",
    "print(unique_numbers)  # Output: {1, 2, 3, 4, 5}\n"
   ]
  },
  {
   "cell_type": "markdown",
   "id": "cc7cb542-e89b-4ed9-bdcf-294e1c33244e",
   "metadata": {},
   "source": [
    "2. Membership Testing\n"
   ]
  },
  {
   "cell_type": "code",
   "execution_count": 51,
   "id": "f4dbd625-4780-4bc2-87aa-506e4fb4581e",
   "metadata": {},
   "outputs": [
    {
     "name": "stdout",
     "output_type": "stream",
     "text": [
      "ID is valid.\n"
     ]
    }
   ],
   "source": [
    "valid_ids = {101, 102, 103, 104}\n",
    "if 102 in valid_ids:\n",
    "    print(\"ID is valid.\")  # Output: ID is valid.\n"
   ]
  },
  {
   "cell_type": "markdown",
   "id": "28a6d81f-920e-4e87-8bcf-c63f0a55a941",
   "metadata": {},
   "source": [
    "3. Set Operations"
   ]
  },
  {
   "cell_type": "code",
   "execution_count": 52,
   "id": "78f6d841-4e0e-4339-947f-996e9416ac5e",
   "metadata": {},
   "outputs": [
    {
     "name": "stdout",
     "output_type": "stream",
     "text": [
      "{1, 2, 3, 4, 5}\n",
      "{3}\n",
      "{1, 2}\n",
      "{1, 2, 4, 5}\n"
     ]
    }
   ],
   "source": [
    "set1 = {1, 2, 3}\n",
    "set2 = {3, 4, 5}\n",
    "\n",
    "# Union\n",
    "print(set1 | set2)  # Output: {1, 2, 3, 4, 5}\n",
    "\n",
    "# Intersection\n",
    "print(set1 & set2)  # Output: {3}\n",
    "\n",
    "# Difference\n",
    "print(set1 - set2)  # Output: {1, 2}\n",
    "\n",
    "# Symmetric Difference\n",
    "print(set1 ^ set2)  # Output: {1, 2, 4, 5}\n"
   ]
  },
  {
   "cell_type": "markdown",
   "id": "a4855ca1-fe18-4705-a304-2622ae152972",
   "metadata": {},
   "source": [
    "### 7. Describe how to add, modify, and delete items in a dictionary with examples"
   ]
  },
  {
   "cell_type": "markdown",
   "id": "cc8f9485-fc34-467a-b6ed-24117576688f",
   "metadata": {},
   "source": [
    "Dictionaries in Python are mutable, unordered collections of key-value pairs."
   ]
  },
  {
   "cell_type": "markdown",
   "id": "fe2feaad-c5fd-4ef7-a546-7bd9e61b965e",
   "metadata": {},
   "source": [
    "#### Adding Items to a Dictionary"
   ]
  },
  {
   "cell_type": "markdown",
   "id": "581eb274-a7fd-4327-9108-35313a3e6741",
   "metadata": {},
   "source": [
    "1. Using Assignment"
   ]
  },
  {
   "cell_type": "code",
   "execution_count": 53,
   "id": "1a39e8d0-9ed6-4f3f-bcbd-f749cb054db7",
   "metadata": {},
   "outputs": [
    {
     "name": "stdout",
     "output_type": "stream",
     "text": [
      "{'name': 'Alice', 'age': 25, 'city': 'New York'}\n"
     ]
    }
   ],
   "source": [
    "my_dict = {\"name\": \"Alice\", \"age\": 25}\n",
    "my_dict[\"city\"] = \"New York\"  # Adding a new key-value pair\n",
    "print(my_dict)  # Output: {'name': 'Alice', 'age': 25, 'city': 'New York'}\n"
   ]
  },
  {
   "cell_type": "markdown",
   "id": "d6685a75-c689-4897-8262-5ab51f2b6f95",
   "metadata": {},
   "source": [
    "2 Using update() Method"
   ]
  },
  {
   "cell_type": "code",
   "execution_count": 54,
   "id": "14f1157b-d82a-49c5-a806-9da9f9273b8f",
   "metadata": {},
   "outputs": [
    {
     "name": "stdout",
     "output_type": "stream",
     "text": [
      "{'name': 'Alice', 'age': 25, 'city': 'New York', 'country': 'USA'}\n"
     ]
    }
   ],
   "source": [
    "my_dict = {\"name\": \"Alice\", \"age\": 25}\n",
    "my_dict.update({\"city\": \"New York\", \"country\": \"USA\"})\n",
    "print(my_dict)  # Output: {'name': 'Alice', 'age': 25, 'city': 'New York', 'country': 'USA'}\n"
   ]
  },
  {
   "cell_type": "markdown",
   "id": "701baeb0-754d-4432-a6a7-b420c6ed95a3",
   "metadata": {},
   "source": [
    "#### Modifying Items in a Dictionary"
   ]
  },
  {
   "cell_type": "markdown",
   "id": "a17b8790-b283-488a-a5e7-9ed5ed4ebdfc",
   "metadata": {},
   "source": [
    "1.Using Assignment\n"
   ]
  },
  {
   "cell_type": "code",
   "execution_count": 55,
   "id": "e3bc3c55-eebe-4fa1-aab3-bcaec94a2645",
   "metadata": {},
   "outputs": [
    {
     "name": "stdout",
     "output_type": "stream",
     "text": [
      "{'name': 'Alice', 'age': 26}\n"
     ]
    }
   ],
   "source": [
    "my_dict = {\"name\": \"Alice\", \"age\": 25}\n",
    "my_dict[\"age\"] = 26  # Modifying the value associated with the key 'age'\n",
    "print(my_dict)  # Output: {'name': 'Alice', 'age': 26}\n"
   ]
  },
  {
   "cell_type": "markdown",
   "id": "0755e532-09ff-4545-bf6a-fa31924602a8",
   "metadata": {},
   "source": [
    "2. Using update() Method"
   ]
  },
  {
   "cell_type": "code",
   "execution_count": 56,
   "id": "6e526fb9-8df8-4b7a-813c-0fc4ce870ef8",
   "metadata": {},
   "outputs": [
    {
     "name": "stdout",
     "output_type": "stream",
     "text": [
      "{'name': 'Alice', 'age': 26, 'city': 'Boston'}\n"
     ]
    }
   ],
   "source": [
    "my_dict = {\"name\": \"Alice\", \"age\": 25}\n",
    "my_dict.update({\"age\": 26, \"city\": \"Boston\"})\n",
    "print(my_dict)  # Output: {'name': 'Alice', 'age': 26, 'city': 'Boston'}\n"
   ]
  },
  {
   "cell_type": "markdown",
   "id": "54098528-6421-4672-ae91-3c46d45cb854",
   "metadata": {},
   "source": [
    "#### Deleting Items from a Dictionary"
   ]
  },
  {
   "cell_type": "markdown",
   "id": "bca6edb4-1635-48b3-886d-e1f779c3cf01",
   "metadata": {},
   "source": [
    "1. Using del Statement"
   ]
  },
  {
   "cell_type": "code",
   "execution_count": 57,
   "id": "33f6c494-4106-4fbe-b3e2-b6084aa81de0",
   "metadata": {},
   "outputs": [
    {
     "name": "stdout",
     "output_type": "stream",
     "text": [
      "{'name': 'Alice', 'age': 25}\n"
     ]
    }
   ],
   "source": [
    "my_dict = {\"name\": \"Alice\", \"age\": 25, \"city\": \"New York\"}\n",
    "del my_dict[\"city\"]  # Removing the key 'city'\n",
    "print(my_dict)  # Output: {'name': 'Alice', 'age': 25}\n"
   ]
  },
  {
   "cell_type": "markdown",
   "id": "6f08053a-bd0e-4e14-8a87-75b3c9309484",
   "metadata": {},
   "source": [
    "2. Using pop() Method"
   ]
  },
  {
   "cell_type": "code",
   "execution_count": 58,
   "id": "63e2c47b-02d1-45fb-9bed-5d9ffd4d9625",
   "metadata": {},
   "outputs": [
    {
     "name": "stdout",
     "output_type": "stream",
     "text": [
      "{'name': 'Alice', 'city': 'New York'}\n",
      "25\n"
     ]
    }
   ],
   "source": [
    "my_dict = {\"name\": \"Alice\", \"age\": 25, \"city\": \"New York\"}\n",
    "age = my_dict.pop(\"age\")  # Removing the key 'age' and returning its value\n",
    "print(my_dict)  # Output: {'name': 'Alice', 'city': 'New York'}\n",
    "print(age)  # Output: 25\n"
   ]
  },
  {
   "cell_type": "markdown",
   "id": "cd63c969-2ae6-410f-a175-a5051f184039",
   "metadata": {},
   "source": [
    "3. Using popitem() Method"
   ]
  },
  {
   "cell_type": "code",
   "execution_count": 59,
   "id": "b65d78bf-c10e-4cd9-8467-4421182bcc1b",
   "metadata": {},
   "outputs": [
    {
     "name": "stdout",
     "output_type": "stream",
     "text": [
      "{'name': 'Alice', 'age': 25}\n",
      "city New York\n"
     ]
    }
   ],
   "source": [
    "my_dict = {\"name\": \"Alice\", \"age\": 25, \"city\": \"New York\"}\n",
    "key, value = my_dict.popitem()  # Removing the last inserted key-value pair\n",
    "print(my_dict)  # Output: {'name': 'Alice', 'age': 25}\n",
    "print(key, value)  # Output: 'city', 'New York'\n"
   ]
  },
  {
   "cell_type": "markdown",
   "id": "2a5a528e-b8de-43af-bcc4-6837e074a156",
   "metadata": {},
   "source": [
    "4. Using clear() Method"
   ]
  },
  {
   "cell_type": "code",
   "execution_count": 60,
   "id": "3f448e68-2203-4748-a899-3c3c598c5a3b",
   "metadata": {},
   "outputs": [
    {
     "name": "stdout",
     "output_type": "stream",
     "text": [
      "{}\n"
     ]
    }
   ],
   "source": [
    "my_dict = {\"name\": \"Alice\", \"age\": 25, \"city\": \"New York\"}\n",
    "my_dict.clear()  # Removing all items\n",
    "print(my_dict)  # Output: {}\n"
   ]
  },
  {
   "cell_type": "markdown",
   "id": "2ca3aa35-7506-4671-a020-028521d2a436",
   "metadata": {},
   "source": [
    " ### 8. Discuss the importance  of dictionary keys being  immutable and provide examples"
   ]
  },
  {
   "cell_type": "markdown",
   "id": "8587f5e7-d1ce-42ff-923c-84583a7603ac",
   "metadata": {},
   "source": [
    "In Python, dictionary keys must be immutable. This is crucial for several reasons related to how dictionaries function:"
   ]
  },
  {
   "cell_type": "markdown",
   "id": "1686e7c4-dd2d-475b-a18e-bb439372b6f8",
   "metadata": {},
   "source": [
    "1. Hashability"
   ]
  },
  {
   "cell_type": "markdown",
   "id": "3ccb882f-1316-4897-ae2b-cddabe995df9",
   "metadata": {},
   "source": [
    "Dictionaries in Python are implemented as hash tables. For a key to be used in a hash table, it must be hashable, which means its hash value must not change over time"
   ]
  },
  {
   "cell_type": "markdown",
   "id": "b7095934-d87d-4ab4-aca9-b3e239f1d18a",
   "metadata": {},
   "source": [
    "2.Efficiency"
   ]
  },
  {
   "cell_type": "markdown",
   "id": "3e11b5cd-1060-4312-acf6-1e47288019b1",
   "metadata": {},
   "source": [
    "The immutability of keys ensures that the dictionary can quickly locate the value associated with a key. "
   ]
  },
  {
   "cell_type": "markdown",
   "id": "88071f7b-1615-4792-9bed-e12c02c11bd3",
   "metadata": {},
   "source": [
    "3. Data Integrity"
   ]
  },
  {
   "cell_type": "markdown",
   "id": "d1d25cc2-b480-43f3-a059-d49dafa423f7",
   "metadata": {},
   "source": [
    "Immutability ensures that the keys cannot be altered accidentally or intentionally, which protects the integrity of the data structure."
   ]
  },
  {
   "cell_type": "markdown",
   "id": "20ba6036-5411-401f-bc78-f12b40e434bc",
   "metadata": {},
   "source": [
    "#### Examples of Immutable Keys"
   ]
  },
  {
   "cell_type": "markdown",
   "id": "13a5c315-d47d-4703-b831-421f1f3242d7",
   "metadata": {},
   "source": [
    "1. Using Integers as Keys"
   ]
  },
  {
   "cell_type": "code",
   "execution_count": 61,
   "id": "ba69286b-8fc0-4e68-83bf-7aac090d1773",
   "metadata": {},
   "outputs": [
    {
     "name": "stdout",
     "output_type": "stream",
     "text": [
      "one\n"
     ]
    }
   ],
   "source": [
    "# Integers are immutable\n",
    "my_dict = {1: \"one\", 2: \"two\", 3: \"three\"}\n",
    "print(my_dict[1])  # Output: one\n"
   ]
  },
  {
   "cell_type": "markdown",
   "id": "5d44bdd3-32a6-4cd9-80e7-73e0fac7146b",
   "metadata": {},
   "source": [
    "2. Using Strings as Keys"
   ]
  },
  {
   "cell_type": "code",
   "execution_count": 62,
   "id": "68444880-8f09-4e76-acd9-5315be912b22",
   "metadata": {},
   "outputs": [
    {
     "name": "stdout",
     "output_type": "stream",
     "text": [
      "Alice\n"
     ]
    }
   ],
   "source": [
    "# Strings are immutable\n",
    "my_dict = {\"name\": \"Alice\", \"age\": 25}\n",
    "print(my_dict[\"name\"])  # Output: Alice\n"
   ]
  },
  {
   "cell_type": "markdown",
   "id": "068ec86c-dd49-438f-84f8-edcbfd3edb4f",
   "metadata": {},
   "source": [
    "3. Using Tuples as Keys"
   ]
  },
  {
   "cell_type": "code",
   "execution_count": 63,
   "id": "eacbfe1e-8518-40a6-9ed0-fd9d18ab6614",
   "metadata": {},
   "outputs": [
    {
     "name": "stdout",
     "output_type": "stream",
     "text": [
      "a point\n"
     ]
    }
   ],
   "source": [
    "# Tuples are immutable (if they contain only immutable elements)\n",
    "my_dict = {(1, 2): \"a point\", (3, 4): \"another point\"}\n",
    "print(my_dict[(1, 2)])  # Output: a point\n"
   ]
  },
  {
   "cell_type": "markdown",
   "id": "1e866eb8-9cf1-44bd-9766-fd863a9a6ac5",
   "metadata": {},
   "source": [
    "#### Examples of Mutable Objects as Keys (Not Allowed)"
   ]
  },
  {
   "cell_type": "markdown",
   "id": "8cfc887c-506b-4049-9902-8af155387efa",
   "metadata": {},
   "source": [
    "1. Using Lists as Keys (Raises TypeError)"
   ]
  },
  {
   "cell_type": "code",
   "execution_count": 65,
   "id": "8934098b-fada-4280-829a-256d8072db35",
   "metadata": {},
   "outputs": [
    {
     "name": "stdout",
     "output_type": "stream",
     "text": [
      "unhashable type: 'list'\n"
     ]
    }
   ],
   "source": [
    "# Lists are mutable and cannot be used as dictionary keys\n",
    "try:\n",
    "    my_dict = {[1, 2]: \"a list\"}\n",
    "except TypeError as e:\n",
    "    print(e)  # Output: unhashable type: 'list'\n"
   ]
  },
  {
   "cell_type": "markdown",
   "id": "06b7ac19-0788-4e08-8c23-9c50601ca127",
   "metadata": {},
   "source": [
    "2. Using Dictionaries as Keys (Raises TypeError)"
   ]
  },
  {
   "cell_type": "code",
   "execution_count": 66,
   "id": "5d07eb43-367b-4dc7-bf66-b91af9b3942c",
   "metadata": {},
   "outputs": [
    {
     "name": "stdout",
     "output_type": "stream",
     "text": [
      "unhashable type: 'dict'\n"
     ]
    }
   ],
   "source": [
    "# Dictionaries are mutable and cannot be used as dictionary keys\n",
    "try:\n",
    "    my_dict = {{\"key\": \"value\"}: \"a dictionary\"}\n",
    "except TypeError as e:\n",
    "    print(e)  # Output: unhashable type: 'dict'\n"
   ]
  },
  {
   "cell_type": "code",
   "execution_count": null,
   "id": "9a8f4ca9-8b5d-473d-a003-9822750ff42c",
   "metadata": {},
   "outputs": [],
   "source": []
  }
 ],
 "metadata": {
  "kernelspec": {
   "display_name": "Python 3 (ipykernel)",
   "language": "python",
   "name": "python3"
  },
  "language_info": {
   "codemirror_mode": {
    "name": "ipython",
    "version": 3
   },
   "file_extension": ".py",
   "mimetype": "text/x-python",
   "name": "python",
   "nbconvert_exporter": "python",
   "pygments_lexer": "ipython3",
   "version": "3.10.8"
  }
 },
 "nbformat": 4,
 "nbformat_minor": 5
}
