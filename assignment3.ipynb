{
 "cells": [
  {
   "cell_type": "code",
   "execution_count": 2,
   "id": "b54c85a1-9e95-46f0-bc43-5bbbbd6ae95e",
   "metadata": {},
   "outputs": [
    {
     "name": "stdin",
     "output_type": "stream",
     "text": [
      "Enter a sentence:  gdfhgjh\n"
     ]
    },
    {
     "name": "stdout",
     "output_type": "stream",
     "text": [
      "Reversed sentence: hjghfdg\n"
     ]
    }
   ],
   "source": [
    "# 1.Write a code to reverse a string\n",
    "\n",
    "def reverse_string(sentence):\n",
    "    return sentence[::-1]\n",
    "\n",
    "\n",
    "sentence = input(\"Enter a sentence: \")\n",
    "\n",
    "\n",
    "# Reverse the sentence\n",
    "rev_sentence = reverse_string(sentence)\n",
    "\n",
    "# Print the reversed sentence\n",
    "print(\"Reversed sentence:\", rev_sentence)\n"
   ]
  },
  {
   "cell_type": "code",
   "execution_count": 1,
   "id": "3eafb398-8140-427b-a693-0ff6b666a02d",
   "metadata": {},
   "outputs": [
    {
     "name": "stdout",
     "output_type": "stream",
     "text": [
      "5\n"
     ]
    }
   ],
   "source": [
    "# 2.write a code to count number  of vowels in a string\n",
    "def count_vowels(string):\n",
    "    count=0\n",
    "    for ch in string:\n",
    "        if (ch=='a')or (ch=='e' )or (ch=='i' )or (ch=='o') or (ch=='u')or (ch=='A')or (ch=='E' )or (ch=='I') or (ch=='O' )or (ch=='U'):\n",
    "            count+=1\n",
    "        \n",
    "    return count\n",
    "\n",
    "string=\"aeiou\"   \n",
    "print(count_vowels(string))\n",
    "        "
   ]
  },
  {
   "cell_type": "code",
   "execution_count": 2,
   "id": "78851601-e6c5-46d4-a425-13cb0a741d12",
   "metadata": {},
   "outputs": [
    {
     "name": "stdin",
     "output_type": "stream",
     "text": [
      "Enter a sentence dfgjh\n"
     ]
    },
    {
     "name": "stdout",
     "output_type": "stream",
     "text": [
      "not pelindrome\n"
     ]
    }
   ],
   "source": [
    "#3.Write a code to check if a given string is pelindrome or not\n",
    "def is_pelindrome(s):\n",
    "    left=0\n",
    "    right=len(s)-1\n",
    "    \n",
    "    while left<right:\n",
    "        if (s[left]!=s[right]) :\n",
    "            \n",
    "            print(\"not pelindrome\")\n",
    "            return\n",
    "    \n",
    "        left+=1\n",
    "        right-=1\n",
    "    print(\"pelindrome\")       \n",
    "    \n",
    "\n",
    "input_string = input(\"Enter a sentence\")\n",
    "is_pelindrome(input_string)\n"
   ]
  },
  {
   "cell_type": "code",
   "execution_count": null,
   "id": "4de7e540-c2c6-47da-86c3-d98976ed019e",
   "metadata": {},
   "outputs": [],
   "source": [
    "# 4.Write  a code to check if two given string are anagrams of each other"
   ]
  },
  {
   "cell_type": "code",
   "execution_count": 3,
   "id": "73f000aa-e21a-4dac-8ad4-fa6348076c5e",
   "metadata": {},
   "outputs": [
    {
     "name": "stdout",
     "output_type": "stream",
     "text": [
      "True\n"
     ]
    }
   ],
   "source": [
    "def are_anagrams(str1,str2):\n",
    "    str1=str1.lower()\n",
    "    str2=str2.lower()\n",
    "    \n",
    "    return sorted(str1)==sorted(str2)\n",
    "\n",
    "str1=\"listen\"\n",
    "str2=\"silent\"\n",
    "print(are_anagrams(str1,str2))"
   ]
  },
  {
   "cell_type": "code",
   "execution_count": 1,
   "id": "74d4eb5f-ab7b-4214-b261-6b67ac7a5fd3",
   "metadata": {},
   "outputs": [
    {
     "name": "stdout",
     "output_type": "stream",
     "text": [
      "[0, 7]\n"
     ]
    }
   ],
   "source": [
    "# 5.Write a code to find all occurances of a given substring within another string\n",
    "def find_all_occurrences(main_string, sub_string):\n",
    "    occurrences = []\n",
    "    i = 0\n",
    "    while i < len(main_string):\n",
    "        pos = main_string.find(sub_string, i)\n",
    "        \n",
    "        if pos != -1:\n",
    "            occurrences.append(pos)\n",
    "            i = pos + 1\n",
    "        else:\n",
    "            break\n",
    "        \n",
    "    return occurrences\n",
    "    \n",
    "main_string = \"abracadabra\"\n",
    "sub_string = \"abra\"\n",
    "print(find_all_occurrences(main_string, sub_string))\n"
   ]
  },
  {
   "cell_type": "code",
   "execution_count": 6,
   "id": "d87e2f71-4182-4130-82e3-5fcacbf3e62b",
   "metadata": {},
   "outputs": [
    {
     "name": "stdout",
     "output_type": "stream",
     "text": [
      "Original string: aabcccccaaa\n",
      "Compressed string: a2b1c5a3\n"
     ]
    }
   ],
   "source": [
    "#6.Write a code to perform basic string compression using the counts of repeated characters\n",
    "\n",
    "def compress_string(s):\n",
    "    compressed = []\n",
    "    count = 1\n",
    "    \n",
    "    for i in range(1, len(s)):\n",
    "        if s[i] == s[i - 1]:\n",
    "            count += 1\n",
    "        else:\n",
    "            compressed.append(s[i - 1] + str(count))\n",
    "            count = 1\n",
    "    compressed.append(s[-1] + str(count))\n",
    "    \n",
    "    compressed_string = ''.join(compressed)\n",
    "    return compressed_string if len(compressed_string) < len(s) else s\n",
    "\n",
    "# Example usage:\n",
    "string = \"aabcccccaaa\"\n",
    "print(f\"Original string: {string}\")\n",
    "print(f\"Compressed string: {compress_string(string)}\")\n"
   ]
  },
  {
   "cell_type": "code",
   "execution_count": 6,
   "id": "83289708-4959-42a9-a7d0-998c9b7953a7",
   "metadata": {},
   "outputs": [
    {
     "name": "stdout",
     "output_type": "stream",
     "text": [
      "False\n"
     ]
    }
   ],
   "source": [
    "#7.Write a code to perform basic string compression using the counts of repeated characters\n",
    "\n",
    "def has_unique_charcters(s):\n",
    "    char_str=\" \"\n",
    "    for ch in s:\n",
    "        \n",
    "        if( ch in char_str):\n",
    "            return False\n",
    "        char_str+=ch\n",
    "        \n",
    "    return True\n",
    "    \n",
    "\n",
    "string =\"abcdadg\"\n",
    "print( has_unique_charcters(string))"
   ]
  },
  {
   "cell_type": "code",
   "execution_count": 5,
   "id": "25fa308a-ea9e-4ede-b38c-f54e5c2de04e",
   "metadata": {},
   "outputs": [
    {
     "name": "stdout",
     "output_type": "stream",
     "text": [
      "Original string: Hello, World!\n",
      "Uppercase: HELLO, WORLD!\n",
      "Lowercase: hello, world!\n"
     ]
    }
   ],
   "source": [
    "#8.Write a code to convert a given string to uppercase or lowercase\n",
    "def convert_case(s, to_upper=True):\n",
    "    if to_upper:\n",
    "        return s.upper()\n",
    "    else:\n",
    "        return s.lower()\n",
    "\n",
    "\n",
    "string = \"Hello, World!\"\n",
    "print(f\"Original string: {string}\")\n",
    "print(f\"Uppercase: {convert_case(string, to_upper=True)}\")\n",
    "print(f\"Lowercase: {convert_case(string, to_upper=False)}\")\n"
   ]
  },
  {
   "cell_type": "code",
   "execution_count": 7,
   "id": "90439b7a-a8b6-4249-9898-faf0b7e84e40",
   "metadata": {},
   "outputs": [
    {
     "name": "stdout",
     "output_type": "stream",
     "text": [
      "3\n"
     ]
    }
   ],
   "source": [
    "#9.write a code to count the numbers of words in a string\n",
    "\n",
    "def count_words(s):\n",
    "    words=[]\n",
    "    words=s.split(\" \")\n",
    "    return len(words)\n",
    "    \n",
    "\n",
    "string = \"sfdg fghjk dfghjg\"\n",
    "print(count_words(string))"
   ]
  },
  {
   "cell_type": "code",
   "execution_count": 8,
   "id": "fe25abc6-4a5a-4ba3-9156-c28456a37725",
   "metadata": {},
   "outputs": [
    {
     "name": "stdout",
     "output_type": "stream",
     "text": [
      "gh ghgj\n"
     ]
    }
   ],
   "source": [
    "\n",
    "#10.write a code to concats two strings without using the + operator\n",
    "def concate_string(s1,s2):\n",
    "   \n",
    "   return ' '.join([s1,s2])\n",
    "    \n",
    "print(concate_string(\"gh\",\"ghgj\"))\n",
    "    "
   ]
  },
  {
   "cell_type": "code",
   "execution_count": 9,
   "id": "6363cc4b-ad25-4977-aacd-4647a7b20624",
   "metadata": {},
   "outputs": [
    {
     "name": "stdout",
     "output_type": "stream",
     "text": [
      "['hjk']\n"
     ]
    }
   ],
   "source": [
    "#11.Write a code to remove all occurrences of a specific element from a list\n",
    "def remove_element(li,ele):\n",
    "    \n",
    "    for i in range(0,len(li)-1):\n",
    "        if li[i]==ele:\n",
    "            li.remove(li[i])\n",
    "    \n",
    "    return li\n",
    "    \n",
    "print(remove_element([\"gf\",\"hjk\",\"gf\"],\"gf\"))"
   ]
  },
  {
   "cell_type": "code",
   "execution_count": 10,
   "id": "8a951e8e-e070-43e0-8654-2bf8c6820fcb",
   "metadata": {},
   "outputs": [
    {
     "name": "stdout",
     "output_type": "stream",
     "text": [
      "[1, 2, 4, 5]\n"
     ]
    }
   ],
   "source": [
    "#11.Write a code to remove all occurrences of a specific element from a list\n",
    "#other way\n",
    "def remove_all_occurrences(lst, element):\n",
    "    return [item for item in lst if item != element]\n",
    "\n",
    "# Example usage\n",
    "lst = [1, 2, 3, 4, 3, 5, 3]\n",
    "element_to_remove = 3\n",
    "result = remove_all_occurrences(lst, element_to_remove)\n",
    "print(result)  # Output: [1, 2, 4, 5]\n"
   ]
  },
  {
   "cell_type": "code",
   "execution_count": 11,
   "id": "7435d7ba-89dd-415a-abbf-aff9e5285c7d",
   "metadata": {},
   "outputs": [
    {
     "name": "stdout",
     "output_type": "stream",
     "text": [
      "3\n"
     ]
    }
   ],
   "source": [
    "# 12.Implement a code to find the second largest number in a given list of integers\n",
    "def second_largest(li):\n",
    "    max_ele1=max(li)\n",
    "    \n",
    "    m1=li[0]\n",
    "   \n",
    "    for i in range(0,len(li)):\n",
    "        if li[i] > m1 and li[i]!=max_ele1:\n",
    "            m1=li[i]\n",
    "        \n",
    "    print(m1)    \n",
    "        \n",
    "second_largest([1,2,3,4])\n",
    " "
   ]
  },
  {
   "cell_type": "code",
   "execution_count": 12,
   "id": "4256435d-60f8-400f-b7d6-30ddb7456074",
   "metadata": {},
   "outputs": [
    {
     "name": "stdout",
     "output_type": "stream",
     "text": [
      "Elements counts: {1: 1, 2: 2, 3: 3, 4: 4}\n"
     ]
    }
   ],
   "source": [
    "#13.Create a code to count the occurrences of each element in a list and return a dictionary with elements as key and their counts as values\n",
    "\n",
    "def list_to_dic(li):\n",
    "    counts={}\n",
    "     \n",
    "    for ele in li:\n",
    "        if ele in counts:\n",
    "             counts[ele]+=1\n",
    "        else:\n",
    "             counts[ele]=1\n",
    "    return counts\n",
    " \n",
    "li=[1,2,2,3,3,3,4,4,4,4]\n",
    "print(\"Elements counts:\",list_to_dic(li))"
   ]
  },
  {
   "cell_type": "code",
   "execution_count": 13,
   "id": "273f485c-9798-4163-b3d6-fff5ce8446ac",
   "metadata": {},
   "outputs": [
    {
     "name": "stdout",
     "output_type": "stream",
     "text": [
      "Reverse list: [4, 4, 4, 4, 3, 3, 3, 2, 2, 1]\n"
     ]
    }
   ],
   "source": [
    "#14.Write a code to reverse a list in-place without using any built-in reverse function\n",
    "def reverse_list(li):\n",
    "    return li[::-1]\n",
    " \n",
    "li=[1,2,2,3,3,3,4,4,4,4]\n",
    "print(\"Reverse list:\",reverse_list(li))"
   ]
  },
  {
   "cell_type": "code",
   "execution_count": 14,
   "id": "f16abed9-d1d0-4a02-89d7-f4c76647a1bb",
   "metadata": {},
   "outputs": [
    {
     "name": "stdout",
     "output_type": "stream",
     "text": [
      "Without duplicate list: [1, 2, 3, 4]\n"
     ]
    }
   ],
   "source": [
    "#15.Implement a code to find and remove duplicates from a list while preserving the original order of elements\n",
    "\n",
    "def removes_duplicates(li):\n",
    "    seen=[]\n",
    "    result=[]\n",
    "    for i in li:\n",
    "        if i not in seen:\n",
    "            result.append(i)\n",
    "            seen.append(i)\n",
    "            \n",
    "    return result\n",
    "\n",
    " \n",
    "li=[1,2,2,3,3,3,4,4,4,4]\n",
    "print(\"Without duplicate list:\",removes_duplicates(li))"
   ]
  },
  {
   "cell_type": "code",
   "execution_count": 15,
   "id": "3c452442-989b-4028-b0a5-c4dfa0e0f98d",
   "metadata": {},
   "outputs": [
    {
     "name": "stdout",
     "output_type": "stream",
     "text": [
      "List in not sorted assending order\n"
     ]
    }
   ],
   "source": [
    "#16.Create a code to check if a given list is sorted(either ins ascending or descending order) or not\n",
    "\n",
    "def is_sorted(li):\n",
    "   \n",
    "    for i in range(1,len(li)):\n",
    "        if li[i]<li[i-1]:\n",
    "            return False\n",
    "            \n",
    "    return True   \n",
    " \n",
    "li=[1,27,4,4,4]\n",
    "if(is_sorted(li)):\n",
    "    print(\"List is sorted in assending order\")\n",
    "\n",
    "else:\n",
    "    print(\"List in not sorted assending order\")"
   ]
  },
  {
   "cell_type": "code",
   "execution_count": 16,
   "id": "42f82148-18cb-4fdc-be16-05e862514255",
   "metadata": {},
   "outputs": [
    {
     "name": "stdout",
     "output_type": "stream",
     "text": [
      "[1, 2, 3, 4, 5, 6, 7, 8, 9]\n"
     ]
    }
   ],
   "source": [
    "#17.Write a code to merge two sorted lists into a single sorted list\n",
    "def merge_sorted_list(l1,l2):\n",
    "    \n",
    "    i=0\n",
    "    j=0\n",
    "    \n",
    "    result=[]\n",
    "    while i<len(l1) and j<len(l2):\n",
    "        if l1[i]<l2[j]:\n",
    "            result.append(l1[i])\n",
    "            i+=1\n",
    "        else:\n",
    "            result.append(l2[i])\n",
    "            j+=1\n",
    "    \n",
    "    while i < len(l1):\n",
    "        result.append(l1[i])\n",
    "        i+=1\n",
    "    while j < len(l2):\n",
    "        result.append(l2[j])\n",
    "        j+=1\n",
    "    return result\n",
    "    \n",
    "l1=[1,2,3,4,5]\n",
    "l2=[6,7,8,9]\n",
    "print(merge_sorted_list(l1,l2))\n",
    "    "
   ]
  },
  {
   "cell_type": "code",
   "execution_count": 17,
   "id": "322680e0-f8f7-4082-80f1-bd45310de48e",
   "metadata": {},
   "outputs": [
    {
     "name": "stdout",
     "output_type": "stream",
     "text": [
      "{3, 4}\n"
     ]
    }
   ],
   "source": [
    "#18.Implement a code to find the intersection of two given lists\n",
    "def find_intersection(l1,l2):\n",
    "    s1=set()\n",
    "    s2=set()\n",
    "    for i in l1:\n",
    "        s1.add(i)\n",
    "        \n",
    "    for i in l2:\n",
    "        s2.add(i)\n",
    "        \n",
    "    return s1 & s2\n",
    "\n",
    "l1=[1,2,3,4,5]\n",
    "l2=[7,8,3,4]\n",
    "print(find_intersection(l1,l2))"
   ]
  },
  {
   "cell_type": "code",
   "execution_count": 4,
   "id": "7f9ac872-4904-48b7-84b2-b03c9de05b0d",
   "metadata": {},
   "outputs": [
    {
     "name": "stdout",
     "output_type": "stream",
     "text": [
      "Union without duplicates: [1, 2, 3, 4, 5, 6, 7, 8]\n"
     ]
    }
   ],
   "source": [
    "#19.Create a code to find the union of two lists without duplicates\n",
    "def union_without_duplicates(l1, l2):\n",
    "    result = []\n",
    "   \n",
    "    \n",
    "    for element in l1 + l2:  # Concatenate lists for iteration\n",
    "        if element not in result:\n",
    "            result.append(element)\n",
    "            # seen.add(element)\n",
    "            \n",
    "    return result\n",
    "\n",
    "# Example usage:\n",
    "l1 = [1, 2, 3, 4, 5]\n",
    "l2 = [4, 5, 6, 7, 8]\n",
    "print(\"Union without duplicates:\", union_without_duplicates(l1, l2))\n"
   ]
  },
  {
   "cell_type": "code",
   "execution_count": 19,
   "id": "166ea15a-3ba3-42c5-9257-2d94bd45fcbf",
   "metadata": {},
   "outputs": [
    {
     "name": "stdout",
     "output_type": "stream",
     "text": [
      "Original list: [1, 2, 3, 4, 5, 6, 7, 8, 9, 10]\n",
      "Shuffled list: [2, 1, 4, 6, 9, 5, 7, 8, 10, 3]\n"
     ]
    }
   ],
   "source": [
    "\n",
    "#20.Write a code to shuffle a given list randomly without using any \n",
    "#built-in shuffle functions\n",
    "import random\n",
    "\n",
    "def shuffle_list(lst):\n",
    "    n = len(lst)\n",
    "    for i in range(n-1, 0, -1):\n",
    "        j = random.randint(0, i)\n",
    "        # Swap elements at indices i and j\n",
    "        lst[i], lst[j] = lst[j], lst[i]\n",
    "    return lst\n",
    "\n",
    "# Example usage:\n",
    "lst = [1, 2, 3, 4, 5, 6, 7, 8, 9, 10]\n",
    "print(\"Original list:\", lst)\n",
    "print(\"Shuffled list:\", shuffle_list(lst[:]))  # Use lst[:] to pass a copy if you want to preserve the original list\n"
   ]
  },
  {
   "cell_type": "code",
   "execution_count": 22,
   "id": "fd4d9ab7-e0d7-4516-918c-287159dcc21a",
   "metadata": {},
   "outputs": [
    {
     "name": "stdin",
     "output_type": "stream",
     "text": [
      "Enter first set:  3,4,5,6\n",
      "Enter second set:  4,5,6\n"
     ]
    },
    {
     "name": "stdout",
     "output_type": "stream",
     "text": [
      "The intersection of the two sets is: {4, 5, 6}\n"
     ]
    }
   ],
   "source": [
    "#22.Create a code that prompts the user to enter two sets of integers \n",
    "#separated by commas.Then, the  intersection of these two sets\n",
    "def users_prompt(prompt):\n",
    "    \n",
    "    input_str=input(prompt)\n",
    "    \n",
    "    return set(map(int,input_str.split(',')))\n",
    "    \n",
    "\n",
    "set1= users_prompt(\"Enter first set: \")\n",
    "set2= users_prompt(\"Enter second set: \")\n",
    "\n",
    "intersection =set1 & set2\n",
    "print(\"The intersection of the two sets is:\",intersection)"
   ]
  },
  {
   "cell_type": "code",
   "execution_count": 23,
   "id": "7c1666f5-5af1-4133-a230-3620a4c394af",
   "metadata": {},
   "outputs": [
    {
     "name": "stdout",
     "output_type": "stream",
     "text": [
      "Concatenated tuple: (1, 2, 3, 4, 5, 6)\n"
     ]
    }
   ],
   "source": [
    "#23.Write a code to concatenate two tuples.The function should \n",
    "#take two tuples as input and return a new tuple containing \n",
    "#elements from both input tuples\n",
    "\n",
    "def concatenate_tuples(tuple1, tuple2):\n",
    "    return tuple1 + tuple2\n",
    "\n",
    "# Example usage:\n",
    "tuple1 = (1, 2, 3)\n",
    "tuple2 = (4, 5, 6)\n",
    "result = concatenate_tuples(tuple1, tuple2)\n",
    "print(\"Concatenated tuple:\", result)\n"
   ]
  },
  {
   "cell_type": "code",
   "execution_count": 24,
   "id": "5e5ef639-0321-4afe-8e38-7db1d8bc0d0e",
   "metadata": {},
   "outputs": [
    {
     "name": "stdin",
     "output_type": "stream",
     "text": [
      "Enter the first set of string:  d,r,y,j\n",
      "Enter the second set of strings:  f,g,h,j\n"
     ]
    },
    {
     "name": "stdout",
     "output_type": "stream",
     "text": [
      "set1 - set2: {'r', 'd', 'y'}\n"
     ]
    }
   ],
   "source": [
    "# 24.Develop a code that prompts the user to input two sets of strings.\n",
    "# Then,print the elements that are present in the first set but not in \n",
    "# the second set\n",
    "def get_set_from_input(prompt):\n",
    "    \n",
    "    input_str = input(prompt)\n",
    "    return set(input_str.split(','))\n",
    "\n",
    "\n",
    "set1 = get_set_from_input(\"Enter the first set of string: \")\n",
    "set2 = get_set_from_input(\"Enter the second set of strings: \")\n",
    "\n",
    "\n",
    "difference = set1 - set2\n",
    "\n",
    "# Print the difference\n",
    "print(\"set1 - set2:\", difference)\n"
   ]
  },
  {
   "cell_type": "code",
   "execution_count": 25,
   "id": "4ee080c6-98da-411c-b025-859212d2d3f4",
   "metadata": {},
   "outputs": [
    {
     "name": "stdout",
     "output_type": "stream",
     "text": [
      "Sliced tuple: (3, 4, 5, 6, 7)\n"
     ]
    }
   ],
   "source": [
    "# 25.create a code that takes a tuple and two integers as input .\n",
    "# The function should  return a new tuple containing elements \n",
    "# from the original tuple within the specified range of indices\n",
    "\n",
    "def slice_tuple(original_tuple, start_index, end_index):\n",
    "    # Slice the tuple using the provided start and end indices\n",
    "    return original_tuple[start_index:end_index]\n",
    "\n",
    "# Example usage:\n",
    "original_tuple = (1, 2, 3, 4, 5, 6, 7, 8, 9, 10)\n",
    "start_index = 2\n",
    "end_index = 7\n",
    "result = slice_tuple(original_tuple, start_index, end_index)\n",
    "print(\"Sliced tuple:\", result)\n"
   ]
  },
  {
   "cell_type": "code",
   "execution_count": 28,
   "id": "2d5a5978-f913-48a2-be2e-c1d99b7c17aa",
   "metadata": {},
   "outputs": [
    {
     "name": "stdin",
     "output_type": "stream",
     "text": [
      "Enter the first set of characters:  a b c\n",
      "Enter the second set of characters:  n m s\n"
     ]
    },
    {
     "name": "stdout",
     "output_type": "stream",
     "text": [
      "Union of the two sets:  {'m', 'n', 'c', 's', 'a', ' ', 'b'}\n"
     ]
    }
   ],
   "source": [
    "#26.Write a code that prompts the user to input two sets of characters.\n",
    "#Then,print the union of these two sets.\n",
    "# Function to get a set of characters from user input\n",
    "def get_character_set(prompt):\n",
    "    user_input = input(prompt)\n",
    "    return set(user_input)\n",
    "\n",
    "# Get two sets of characters from the user\n",
    "set1 = get_character_set(\"Enter the first set of characters: \")\n",
    "set2 = get_character_set(\"Enter the second set of characters: \")\n",
    "\n",
    "# Find the union of the two sets\n",
    "union_set = set1.union(set2)\n",
    "\n",
    "# Print the union set\n",
    "print(\"Union of the two sets: \", union_set)\n"
   ]
  },
  {
   "cell_type": "code",
   "execution_count": 29,
   "id": "008e2d7d-3306-4249-a292-f96657242f53",
   "metadata": {},
   "outputs": [
    {
     "name": "stdout",
     "output_type": "stream",
     "text": [
      "5\n",
      "2\n"
     ]
    }
   ],
   "source": [
    "#27.Develop  a code that takes a tuple  of integers as input .The function\n",
    "#should return the maximum and minimum values from the tuple using tuple \n",
    "#unpacking\n",
    "def find_max_min(tuple1):\n",
    "    maxi=tuple1[0]\n",
    "    mini=tuple1[0]\n",
    "    for i in tuple1:\n",
    "        if i>maxi:\n",
    "            maxi=i\n",
    "        if i< mini:\n",
    "            mini=i\n",
    "    \n",
    "    return maxi,mini\n",
    "    \n",
    "maxi,mini=find_max_min((2,3,4,5))\n",
    "print(maxi)\n",
    "print(mini)"
   ]
  },
  {
   "cell_type": "code",
   "execution_count": 30,
   "id": "0a08686a-e4e6-400b-9381-604639dbf102",
   "metadata": {},
   "outputs": [
    {
     "name": "stdout",
     "output_type": "stream",
     "text": [
      "Set 1: {1, 2, 3, 4, 5}\n",
      "Set 2: {4, 5, 6, 7, 8}\n",
      "Union of Set 1 and Set 2: {1, 2, 3, 4, 5, 6, 7, 8}\n",
      "Intersection of Set 1 and Set 2: {4, 5}\n",
      "Difference of Set 1 from Set 2: {1, 2, 3}\n",
      "Difference of Set 2 from Set 1: {8, 6, 7}\n"
     ]
    }
   ],
   "source": [
    "#28. Create a code that defines two sets of integers.Then,print the union,\n",
    "# interaction,and difference of these two sets.\n",
    "set1 ={1, 2, 3, 4, 5}\n",
    "set2={4, 5, 6, 7, 8}\n",
    "\n",
    "\n",
    "union_set = set1.union(set2)\n",
    "intersection_set = set1.intersection(set2)\n",
    "difference_set1 = set1.difference(set2)\n",
    "difference_set2 = set2.difference(set1)\n",
    "print(\"Set 1:\", set1)\n",
    "print(\"Set 2:\", set2)\n",
    "print(\"Union of Set 1 and Set 2:\", union_set)\n",
    "print(\"Intersection of Set 1 and Set 2:\", intersection_set)\n",
    "print(\"Difference of Set 1 from Set 2:\", difference_set1)\n",
    "print(\"Difference of Set 2 from Set 1:\", difference_set2)\n"
   ]
  },
  {
   "cell_type": "code",
   "execution_count": 1,
   "id": "67a4d73b-cb27-41ee-97db-d6baa13b821f",
   "metadata": {},
   "outputs": [
    {
     "name": "stdout",
     "output_type": "stream",
     "text": [
      "The element 3 occurs 4 times in the tuple.\n"
     ]
    }
   ],
   "source": [
    "#29.Write a code that takes a tuple and and element as \n",
    "#input.The function should return the count of  occurrence of \n",
    "#the given element in the tuple\n",
    "def count_occurrences(tup,ele):\n",
    "    return tup.count(ele)\n",
    "    \n",
    "\n",
    "tup=(1,2,3,4,3,2,2,3,4,5,3)\n",
    "    \n",
    "ele=3\n",
    "count =count_occurrences(tup,ele)\n",
    "print(f\"The element {ele} occurs {count} times in the tuple.\")\n",
    "\n"
   ]
  },
  {
   "cell_type": "code",
   "execution_count": 2,
   "id": "6203aa0a-d10f-4c5f-afbd-75113d44f579",
   "metadata": {},
   "outputs": [
    {
     "name": "stdin",
     "output_type": "stream",
     "text": [
      "Enter the first set of strings (separated by spaces):  apple orange banana grape\n",
      "Enter the second set of strings (separated by spaces):  banana grape watermelon peach\n"
     ]
    },
    {
     "name": "stdout",
     "output_type": "stream",
     "text": [
      "Symmetric difference: {'watermelon', 'orange', 'peach', 'apple'}\n"
     ]
    }
   ],
   "source": [
    "#30.Develop a code that prompts the to input two sets of strings.Then,print the \n",
    "#symmetric difference of these\n",
    "\n",
    "def read_set(prompt):\n",
    "    user_input = input(prompt)\n",
    "    return set(user_input.split())\n",
    "\n",
    "# Read two sets of strings from the user\n",
    "set1 = read_set(\"Enter the first set of strings (separated by spaces): \")\n",
    "set2 = read_set(\"Enter the second set of strings (separated by spaces): \")\n",
    "\n",
    "# Calculate the symmetric difference\n",
    "symmetric_difference = set1.symmetric_difference(set2)\n",
    "\n",
    "# Print the symmetric difference\n",
    "print(\"Symmetric difference:\", symmetric_difference)\n"
   ]
  },
  {
   "cell_type": "code",
   "execution_count": 2,
   "id": "78e6f197-7bd6-482c-8645-e62797bbbf19",
   "metadata": {},
   "outputs": [
    {
     "name": "stdin",
     "output_type": "stream",
     "text": [
      "Enter a list of words separated by spaces:  ghjk hkl kljk\n"
     ]
    },
    {
     "name": "stdout",
     "output_type": "stream",
     "text": [
      "Word frequencies: {'ghjk': 1, 'hkl': 1, 'kljk': 1}\n"
     ]
    }
   ],
   "source": [
    "#31.Write a code that takes list of words as input and returns a dictionary  where the keys are unique words and  the values are the frequencies of those words in the input list\n",
    "def word_frequencies(word_list):\n",
    "    frequency_dict = {}\n",
    "    \n",
    "    for word in word_list:\n",
    "        if word in frequency_dict:\n",
    "            frequency_dict[word] += 1\n",
    "        else:\n",
    "            frequency_dict[word] = 1\n",
    "    \n",
    "    return frequency_dict\n",
    "\n",
    "# Example usage\n",
    "words = input(\"Enter a list of words separated by spaces: \").split()\n",
    "frequencies = word_frequencies(words)\n",
    "print(\"Word frequencies:\", frequencies)\n"
   ]
  },
  {
   "cell_type": "code",
   "execution_count": 1,
   "id": "437ea363-c99e-484f-91d6-e0886738d004",
   "metadata": {},
   "outputs": [
    {
     "name": "stdout",
     "output_type": "stream",
     "text": [
      "Merged dictionary: {'apple': 3, 'banana': 3, 'grape': 5, 'watermelon': 2}\n"
     ]
    }
   ],
   "source": [
    "#32.Write a code that takes two dictionaries as input and merge them into a single dictionary.If there are common keys ,the values should be added together\n",
    "def merge_dictionaries(dict1, dict2):\n",
    "    merged_dict = dict1.copy()  # Start with a copy of the first dictionary\n",
    "    \n",
    "    for key, value in dict2.items():\n",
    "        if key in merged_dict:\n",
    "            merged_dict[key] += value  # Add the values if the key is already present\n",
    "        else:\n",
    "            merged_dict[key] = value  # Add the key-value pair if the key is not present\n",
    "    \n",
    "    return merged_dict\n",
    "\n",
    "# Example usage\n",
    "dict1 = {'apple': 3, 'banana': 2, 'grape': 1}\n",
    "dict2 = {'banana': 1, 'grape': 4, 'watermelon': 2}\n",
    "merged_dict = merge_dictionaries(dict1, dict2)\n",
    "print(\"Merged dictionary:\", merged_dict)\n"
   ]
  },
  {
   "cell_type": "code",
   "execution_count": 3,
   "id": "b07b387b-5316-45bc-89ca-0ebe4ea15ee1",
   "metadata": {},
   "outputs": [
    {
     "name": "stdout",
     "output_type": "stream",
     "text": [
      "42\n",
      "None\n",
      "100\n",
      "None\n"
     ]
    }
   ],
   "source": [
    "#33.Write a code to access a value in a nested dictionary.The function \n",
    "# should take the dictionary and a list of keys as input, and return the\n",
    "# corresponding value.If any of the keys do not exit in the dictionary, the function should return None\n",
    "\n",
    "def get_nested_value(nested_dict, keys):\n",
    "    current_level = nested_dict\n",
    "    \n",
    "    for key in keys:\n",
    "        if isinstance(current_level, dict) and key in current_level:\n",
    "            current_level = current_level[key]\n",
    "        else:\n",
    "            return None\n",
    "    \n",
    "    return current_level\n",
    "\n",
    "# Example usage\n",
    "nested_dict = {\n",
    "    'a': {\n",
    "        'b': {\n",
    "            'c': 42\n",
    "        },\n",
    "        'd': 99\n",
    "    },\n",
    "    'e': {\n",
    "        'f': {\n",
    "            'g': {\n",
    "                'h': 100\n",
    "            }\n",
    "        }\n",
    "    }\n",
    "}\n",
    "\n",
    "# Valid key path\n",
    "keys = ['a', 'b', 'c']\n",
    "print(get_nested_value(nested_dict, keys))  # Output: 42\n",
    "\n",
    "# Invalid key path\n",
    "keys = ['a', 'b', 'x']\n",
    "print(get_nested_value(nested_dict, keys))  # Output: None\n",
    "\n",
    "# Another valid key path\n",
    "keys = ['e', 'f', 'g', 'h']\n",
    "print(get_nested_value(nested_dict, keys))  # Output: 100\n",
    "\n",
    "# Partially invalid key path\n",
    "keys = ['e', 'x', 'g', 'h']\n",
    "print(get_nested_value(nested_dict, keys))  # Output: None\n"
   ]
  },
  {
   "cell_type": "code",
   "execution_count": null,
   "id": "cabfcceb-8b4c-42c4-877b-16fe87e080fd",
   "metadata": {},
   "outputs": [],
   "source": [
    "# 34.Write a code that takes a dictionary as input and returns a sorted \n",
    "# version of it based on the values.You can choose whether to sort in \n",
    "# ascending or descending order\n",
    "\n",
    "\n",
    "def sort_dict_by_values(input_dict, ascending=True):\n",
    "    sorted_items = sorted(input_dict.items(), key=lambda item: item[1], reverse=not ascending)\n",
    "    return dict(sorted_items)\n",
    "\n",
    "# Example usage\n",
    "input_dict = {'apple': 3, 'banana': 2, 'grape': 1, 'watermelon': 5}\n",
    "\n",
    "# Sort in ascending order\n",
    "sorted_dict_ascending = sort_dict_by_values(input_dict, ascending=True)\n",
    "print(\"Sorted dictionary (ascending):\", sorted_dict_ascending)\n",
    "\n",
    "# Sort in descending order\n",
    "sorted_dict_descending = sort_dict_by_values(input_dict, ascending=False)\n",
    "print(\"Sorted dictionary (descending):\", sorted_dict_descending)\n"
   ]
  },
  {
   "cell_type": "code",
   "execution_count": null,
   "id": "c60d46cb-f18d-4942-8bd4-4550c2ab53a5",
   "metadata": {},
   "outputs": [],
   "source": [
    "#35.Write a code that inverts a dictionary, swapping keys and values.\n",
    "# Ensure that the inverted dictionary correctly handles cases where \n",
    "# multiple keys have the same value by storing the keys as a list in the inverted dictionary\n",
    "def invert_dict(input_dict):\n",
    "    inverted_dict = {}\n",
    "    \n",
    "    for key, value in input_dict.items():\n",
    "        if value not in inverted_dict:\n",
    "            inverted_dict[value] = [key]\n",
    "        else:\n",
    "            inverted_dict[value].append(key)\n",
    "    \n",
    "    return inverted_dict\n",
    "\n",
    "# Example usage\n",
    "input_dict = {\n",
    "    'apple': 3,\n",
    "    'banana': 2,\n",
    "    'grape': 1,\n",
    "    'watermelon': 5,\n",
    "    'orange': 2,\n",
    "    'lemon': 3\n",
    "}\n",
    "\n",
    "inverted_dict = invert_dict(input_dict)\n",
    "print(\"Inverted dictionary:\", inverted_dict)\n"
   ]
  }
 ],
 "metadata": {
  "kernelspec": {
   "display_name": "Python 3 (ipykernel)",
   "language": "python",
   "name": "python3"
  },
  "language_info": {
   "codemirror_mode": {
    "name": "ipython",
    "version": 3
   },
   "file_extension": ".py",
   "mimetype": "text/x-python",
   "name": "python",
   "nbconvert_exporter": "python",
   "pygments_lexer": "ipython3",
   "version": "3.10.8"
  },
  "toc-autonumbering": true,
  "toc-showcode": true
 },
 "nbformat": 4,
 "nbformat_minor": 5
}
